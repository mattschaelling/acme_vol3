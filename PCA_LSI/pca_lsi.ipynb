{
 "cells": [
  {
   "cell_type": "code",
   "execution_count": 4,
   "metadata": {
    "collapsed": true
   },
   "outputs": [],
   "source": [
    "import os\n",
    "import string\n",
    "import numpy as np\n",
    "from math import log\n",
    "from scipy import sparse\n",
    "from sklearn import datasets\n",
    "from scipy import linalg as la\n",
    "from collections import Counter\n",
    "from matplotlib import pyplot as plt\n",
    "from scipy.sparse import linalg as spla\n",
    "plt.style.use('ggplot')\n",
    "%matplotlib inline"
   ]
  },
  {
   "cell_type": "code",
   "execution_count": 2,
   "metadata": {
    "collapsed": true
   },
   "outputs": [],
   "source": [
    "plt.rcParams[\"figure.dpi\"] = 300"
   ]
  },
  {
   "cell_type": "markdown",
   "metadata": {},
   "source": [
    "## Problem 1\n",
    "\n",
    "Recreate Figure 18.4 by performing PCA on the iris dataset, keeping the first two principal components."
   ]
  },
  {
   "cell_type": "code",
   "execution_count": 3,
   "metadata": {
    "collapsed": false
   },
   "outputs": [
    {
     "data": {
      "text/plain": [
       "array([ 0.92461621,  0.05301557,  0.01718514,  0.00518309])"
      ]
     },
     "execution_count": 3,
     "metadata": {},
     "output_type": "execute_result"
    }
   ],
   "source": [
    "iris = datasets.load_iris()\n",
    "X = iris.data\n",
    "Y = X - X.mean(axis=0)\n",
    "U,S,VT = la.svd(Y, full_matrices=False)\n",
    "S**2/(S**2).sum() # variance percentages"
   ]
  },
  {
   "cell_type": "code",
   "execution_count": 15,
   "metadata": {
    "collapsed": false
   },
   "outputs": [
    {
     "data": {
      "image/png": "[encoded data removed]",
      "text/plain": [
       "<matplotlib.figure.Figure at 0xe1c0ef0>"
      ]
     },
     "metadata": {},
     "output_type": "display_data"
    }
   ],
   "source": [
    "Yhat = Y.dot(VT.T[:,:2])\n",
    "plt.figure(figsize=(12,10))\n",
    "plt.scatter(Yhat[:,0][iris.target==0], Yhat[:,1][iris.target==0], c='b', alpha=.6, label='Setosa')\n",
    "plt.scatter(Yhat[:,0][iris.target==1], Yhat[:,1][iris.target==1], c='r', alpha=.6, label='Versicolor')\n",
    "plt.scatter(Yhat[:,0][iris.target==2], Yhat[:,1][iris.target==2], c='g', alpha=.6, label='Virginica')\n",
    "plt.legend()\n",
    "plt.xlabel('First Principal Component')\n",
    "plt.ylabel('Second Principal Component')\n",
    "plt.ylim((-4,4))\n",
    "plt.show()"
   ]
  },
  {
   "cell_type": "markdown",
   "metadata": {},
   "source": [
    "## Problem 2\n",
    "\n",
    "Using the techniques of LSI, applied to the word count matrix $X$, and keeping the first 7 principal components, find the most similar and least similar speeches to both Bill Clinton's 1993 speech and to Ronald Reagan's 1984 speech."
   ]
  },
  {
   "cell_type": "code",
   "execution_count": 16,
   "metadata": {
    "collapsed": true
   },
   "outputs": [],
   "source": [
    "# Get list of filepaths to each text file in the folder.\n",
    "folder = \"./Addresses/\"\n",
    "paths = [folder+p for p in os.listdir(folder) if p[-4:]==\".txt\"]\n",
    "\n",
    "# Helper function to get list of words in a string.\n",
    "def extractWords(text):\n",
    "    ignore = string.punctuation + string.digits\n",
    "    cleaned = \"\".join([t for t in text.strip() if t not in ignore])\n",
    "    return cleaned.lower().split()"
   ]
  },
  {
   "cell_type": "code",
   "execution_count": 20,
   "metadata": {
    "collapsed": false
   },
   "outputs": [],
   "source": [
    "# Initialize vocab set, then read each file and add to the vocab set.\n",
    "vocab = set()\n",
    "for p in paths:\n",
    "    with open(p, 'r') as infile:\n",
    "        for line in infile:\n",
    "            vocab.update(extractWords(line))"
   ]
  },
  {
   "cell_type": "code",
   "execution_count": 22,
   "metadata": {
    "collapsed": false
   },
   "outputs": [],
   "source": [
    "# load stopwords\n",
    "with open(\"stopwords.txt\", 'r') as f:\n",
    "    stops = set([w.strip().lower() for w in f.readlines()])\n",
    "\n",
    "# remove stopwords from vocabulary, create ordering\n",
    "vocab = {w:i for i, w in enumerate(vocab.difference(stops))}"
   ]
  },
  {
   "cell_type": "code",
   "execution_count": 23,
   "metadata": {
    "collapsed": true
   },
   "outputs": [],
   "source": [
    "counts = []      # holds the entries of X\n",
    "doc_index = []   # holds the row index of X\n",
    "word_index = []  # holds the column index of X\n",
    "\n",
    "# Iterate through the documents.\n",
    "for doc, p in enumerate(paths):\n",
    "    with open(p, 'r') as f:\n",
    "        # Create the word counter.\n",
    "        ctr = Counter()\n",
    "        for line in f:\n",
    "            ctr.update(extractWords(line))\n",
    "        # Iterate through the word counter, store counts.\n",
    "        for word, count in ctr.items():\n",
    "            if word in vocab:\n",
    "                word_index.append(vocab[word])\n",
    "                counts.append(count)\n",
    "                doc_index.append(doc)\n",
    "\n",
    "# Create sparse matrix holding these word counts.\n",
    "X = sparse.csr_matrix((counts, [doc_index, word_index]),\n",
    "                       shape=(len(paths), len(vocab)), dtype=np.float)"
   ]
  },
  {
   "cell_type": "code",
   "execution_count": 31,
   "metadata": {
    "collapsed": false
   },
   "outputs": [],
   "source": [
    "l = 7\n",
    "u, s, vt = spla.svds(X,k=l)\n",
    "Xhat = X.dot(vt.T[:,:l])\n",
    "\n",
    "def find_speeches(i,Z):\n",
    "    '''Returns most and least similar speech.\n",
    "    \n",
    "    Arguments:\n",
    "    i - index for speech to be considered\n",
    "    Z - data that has already been PCA-ed\n",
    "    \n",
    "    Returns:\n",
    "    most similar speech\n",
    "    least similar speech\n",
    "    '''\n",
    "    \n",
    "    # find vector representing year\n",
    "    speech = Z[i]\n",
    "    speech_norm = la.norm(speech)\n",
    "    cosines = np.zeros(len(Z))\n",
    "    \n",
    "    # compare that vector to all others\n",
    "    for j in range(len(Z)):\n",
    "        if j!=i:\n",
    "            cosines[j] = speech.dot(Z[j])/(la.norm(Z[j])*speech_norm)\n",
    "        else: # All this is for is to ensure the same year doesn't get the max or min\n",
    "            cosines[j] = cosines[:j].mean()\n",
    "            \n",
    "    # return the year and president for most similar and least similar\n",
    "    return paths[np.argmax(cosines)].split('/')[-1][:-4], paths[np.argmin(cosines)].split('/')[-1][:-4]\n",
    "\n",
    "\n",
    "def find_index(year):\n",
    "    '''Returns the index corresponding to the year of the SOTU address\n",
    "    \n",
    "    Arguments:\n",
    "    year - string or int for which year the SOTU address happened\n",
    "    \n",
    "    Returns:\n",
    "    i - index for that in the matrix X\n",
    "    '''\n",
    "    # Ensure it is a string\n",
    "    year = str(year)\n",
    "    index = 0\n",
    "    for p in paths:\n",
    "        if year in p:\n",
    "            break\n",
    "        index += 1\n",
    "    return index"
   ]
  },
  {
   "cell_type": "code",
   "execution_count": 37,
   "metadata": {
    "collapsed": false
   },
   "outputs": [
    {
     "name": "stdout",
     "output_type": "stream",
     "text": [
      "Speech Analyzed\t| Most Similar\t| Least Similar\n",
      "-----------------------------------------------\n",
      "Clinton 1993\t| 2010-Obama\t| 1951-Truman\n",
      "Reagan 1984\t| 1988-Reagan\t| 1946-Truman\n"
     ]
    }
   ],
   "source": [
    "clinton93 = find_index('1993')\n",
    "reagan84 = find_index('1984')\n",
    "\n",
    "results93 = find_speeches(clinton93, Xhat)\n",
    "results84 = find_speeches(reagan84, Xhat)\n",
    "print(\"Speech Analyzed\\t| Most Similar\\t| Least Similar\")\n",
    "print(\"-----------------------------------------------\")\n",
    "print(\"Clinton 1993\\t| {}\\t| {}\".format(results93[0],results93[1]))\n",
    "print(\"Reagan 1984\\t| {}\\t| {}\".format(results84[0],results84[1]))"
   ]
  },
  {
   "cell_type": "markdown",
   "metadata": {},
   "source": [
    "Yes, the results are plausible because both Clinton and Obama are Democrats speaking early in their first term and Reagan's most similar is also an election year and also by himself. However, I am a little surprised that Obama 2010's speech is MOST similar. Truman makes sense for both, because his speech is from a totally different generation."
   ]
  },
  {
   "cell_type": "markdown",
   "metadata": {},
   "source": [
    "## Problem 3\n",
    "\n",
    "Repeat Problem 2 using the matrix $A$.\n",
    "Do your answers seem more reasonable than before?"
   ]
  },
  {
   "cell_type": "code",
   "execution_count": 38,
   "metadata": {
    "collapsed": true
   },
   "outputs": [],
   "source": [
    "t = np.zeros(len(vocab))\n",
    "counts = []\n",
    "doc_index = []\n",
    "word_index = []\n",
    "\n",
    "# get doc-term counts and global term counts\n",
    "for doc, path in enumerate(paths):\n",
    "    with open(path, 'r') as f:\n",
    "        # create the word counter\n",
    "        ctr = Counter()\n",
    "        for line in f:\n",
    "            words = extractWords(line)\n",
    "            ctr.update(words)\n",
    "        # iterate through the word counter, store counts\n",
    "        for word, count in ctr.items():\n",
    "            if word in vocab:\n",
    "                word_ind = vocab[word]\n",
    "                word_index.append(word_ind)\n",
    "                counts.append(count)\n",
    "                doc_index.append(doc)\n",
    "                t[word_ind] += count\n",
    "\n",
    "# Get global weights.\n",
    "g = np.ones(len(vocab))\n",
    "logM = log(len(paths))\n",
    "for count, word in zip(counts, word_index):\n",
    "    p = count/float(t[word])\n",
    "    g[word] += p*log(p+1)/logM\n",
    "\n",
    "# Get globally weighted counts.\n",
    "gwcounts = []\n",
    "for count, word in zip(counts, word_index):\n",
    "    gwcounts.append(g[word]*log(count+1))\n",
    "\n",
    "# Create sparse matrix holding these globally weighted word counts\n",
    "A = sparse.csr_matrix((gwcounts, [doc_index,word_index]),\n",
    "                      shape=(len(paths), len(vocab)), dtype=np.float)\n"
   ]
  },
  {
   "cell_type": "code",
   "execution_count": 39,
   "metadata": {
    "collapsed": false
   },
   "outputs": [
    {
     "name": "stdout",
     "output_type": "stream",
     "text": [
      "Speech Analyzed\t| Most Similar\t| Least Similar\n",
      "-----------------------------------------------\n",
      "Clinton 1993\t| 1992-Bush\t| 1946-Truman\n",
      "Reagan 1984\t| 1985-Reagan\t| 1946-Truman\n"
     ]
    }
   ],
   "source": [
    "u2, s2, vt2 = spla.svds(A,k=l)\n",
    "Ahat = A.dot(vt2.T[:,:l])\n",
    "\n",
    "newresults93 = find_speeches(clinton93, Ahat)\n",
    "newresults84 = find_speeches(reagan84, Ahat)\n",
    "print(\"Speech Analyzed\\t| Most Similar\\t| Least Similar\")\n",
    "print(\"-----------------------------------------------\")\n",
    "print(\"Clinton 1993\\t| {}\\t| {}\".format(newresults93[0],newresults93[1]))\n",
    "print(\"Reagan 1984\\t| {}\\t| {}\".format(newresults84[0],newresults84[1]))"
   ]
  },
  {
   "cell_type": "markdown",
   "metadata": {},
   "source": [
    "I would say these results do look better. It makes more sense to see that the most similar speeches would be speeches closer in time because then the issues haven't changed as much year to year, whereas we would expect the issues to have changed more from 1993 to 2010. It still makes sense that Truman's speech is most different, because it is in a totally different generation."
   ]
  }
 ],
 "metadata": {
  "kernelspec": {
   "display_name": "Python [Root]",
   "language": "python",
   "name": "Python [Root]"
  },
  "language_info": {
   "codemirror_mode": {
    "name": "ipython",
    "version": 2
   },
   "file_extension": ".py",
   "mimetype": "text/x-python",
   "name": "python",
   "nbconvert_exporter": "python",
   "pygments_lexer": "ipython2",
   "version": "2.7.14"
  }
 },
 "nbformat": 4,
 "nbformat_minor": 2
}

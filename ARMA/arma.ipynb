{
 "cells": [
  {
   "cell_type": "code",
   "execution_count": 6,
   "metadata": {},
   "outputs": [],
   "source": [
    "import numpy as np\n",
    "from scipy import optimize as opt, linalg as la\n",
    "from scipy.stats import multivariate_normal as mvn\n",
    "from matplotlib import pyplot as plt\n",
    "plt.style.use('ggplot')"
   ]
  },
  {
   "cell_type": "code",
   "execution_count": 10,
   "metadata": {},
   "outputs": [],
   "source": [
    "time_series_a = np.loadtxt('time_series_a.txt')\n",
    "time_series_b = np.loadtxt('time_series_b.txt')\n",
    "time_series_c = np.loadtxt('time_series_c.txt')"
   ]
  },
  {
   "cell_type": "code",
   "execution_count": null,
   "metadata": {},
   "outputs": [],
   "source": []
  },
  {
   "cell_type": "markdown",
   "metadata": {},
   "source": [
    "# Problem 1"
   ]
  },
  {
   "cell_type": "code",
   "execution_count": 20,
   "metadata": {},
   "outputs": [],
   "source": [
    "def arma_likelihood(time_series, phis=np.array([]), \n",
    "                    thetas=np.array([]), mu=0., sigma=1.):\n",
    "    \"\"\"\n",
    "    Return the log-likelihood of the ARMA model parameters, given the time\n",
    "    series.\n",
    "    \n",
    "    Parameters\n",
    "    ----------\n",
    "    time_series : ndarray of shape (n,1)\n",
    "        The time series in question, z_t\n",
    "    phis : ndarray of shape (p,)\n",
    "        The phi parameters\n",
    "    thetas : ndarray of shape (q,)\n",
    "        The theta parameters\n",
    "    mu : float\n",
    "        The parameter mu\n",
    "    sigma : float\n",
    "        The standard deviation of the a_t random variables\n",
    "    \n",
    "    Returns\n",
    "    -------\n",
    "    log_likelihood : float\n",
    "        The log-likelihood of the model\n",
    "    \"\"\"\n",
    "    z = time_series - mu\n",
    "    \n",
    "    # get parameters for the sizes of everything\n",
    "    p = phis.shape[0]\n",
    "    q = thetas.shape[0]\n",
    "    r = np.max([p,q+1])\n",
    "    \n",
    "    # set up necessary matrices\n",
    "    bottom = np.concatenate((np.eye(r-1),np.zeros(r-1).reshape((r-1,1))),\n",
    "                            axis=1) # this is the bottom of the F matrix\n",
    "    F = np.concatenate((phis.reshape((1,r)),bottom),axis=0)\n",
    "    H = np.concatenate(([1],thetas))\n",
    "    Q = np.zeros((r,r))\n",
    "    Q[0,0] = sigma**2\n",
    "    \n",
    "    # \n",
    "    xkp = 0\n",
    "    flatPkp = la.solve(np.eye(r**2) - np.kron(F,F), Q.flatten())\n",
    "    Pkp = flatPkp.reshape((r,r))\n",
    "    \n",
    "    loglikelihood = np.log(mvn.pdf(z[0], H.dot(xkp), H.dot(Pkp.dot(H))))\n",
    "    \n",
    "    for k in range(1,len(z)):\n",
    "        # Update\n",
    "        yk = z[k] - H.dot(xkp)\n",
    "        Sk = H.dot(Pkp.dot(H.T))\n",
    "        Kk = la.solve(Sk.T, H.dot(Pkp.T)).T\n",
    "        xku = xkp + Kk.dot(yk)\n",
    "        Pku = (np.eye(r) - Kk.dot(H)).dot(Pkp)\n",
    "\n",
    "        # Predict\n",
    "        xkp = F.dot(xku)\n",
    "        Pkp = F.dot(Pku.dot(F.T)) + Q\n",
    "        loglikelihood += np.log(mvn.pdf(z[k], H.dot(xkp), H.dot(Pkp.dot(H))))\n",
    "    return loglikelihood"
   ]
  },
  {
   "cell_type": "code",
   "execution_count": 21,
   "metadata": {},
   "outputs": [
    {
     "data": {
      "text/plain": [
       "-2.3522949655228094"
      ]
     },
     "execution_count": 21,
     "metadata": {},
     "output_type": "execute_result"
    }
   ],
   "source": [
    "arma_likelihood(time_series_a, np.array([0.9]), mu=17., sigma=.4)"
   ]
  },
  {
   "cell_type": "code",
   "execution_count": null,
   "metadata": {},
   "outputs": [],
   "source": []
  },
  {
   "cell_type": "code",
   "execution_count": null,
   "metadata": {},
   "outputs": [],
   "source": []
  }
 ],
 "metadata": {
  "kernelspec": {
   "display_name": "Python 3",
   "language": "python",
   "name": "python3"
  },
  "language_info": {
   "codemirror_mode": {
    "name": "ipython",
    "version": 3
   },
   "file_extension": ".py",
   "mimetype": "text/x-python",
   "name": "python",
   "nbconvert_exporter": "python",
   "pygments_lexer": "ipython3",
   "version": "3.6.4"
  }
 },
 "nbformat": 4,
 "nbformat_minor": 2
}

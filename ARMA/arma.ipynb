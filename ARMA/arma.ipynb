{
 "cells": [
  {
   "cell_type": "code",
   "execution_count": 1,
   "metadata": {},
   "outputs": [],
   "source": [
    "import numpy as np\n",
    "from scipy import optimize as opt, linalg as la\n",
    "from scipy.stats import norm\n",
    "from matplotlib import pyplot as plt\n",
    "plt.style.use('ggplot')"
   ]
  },
  {
   "cell_type": "code",
   "execution_count": 2,
   "metadata": {},
   "outputs": [],
   "source": [
    "time_series_a = np.loadtxt('time_series_a.txt')\n",
    "time_series_b = np.loadtxt('time_series_b.txt')\n",
    "time_series_c = np.loadtxt('time_series_c.txt')"
   ]
  },
  {
   "cell_type": "code",
   "execution_count": null,
   "metadata": {},
   "outputs": [],
   "source": []
  },
  {
   "cell_type": "markdown",
   "metadata": {},
   "source": [
    "# Problem 1"
   ]
  },
  {
   "cell_type": "code",
   "execution_count": 3,
   "metadata": {},
   "outputs": [],
   "source": [
    "def arma_likelihood(time_series, phis=np.array([]), \n",
    "                    thetas=np.array([]), mu=0., sigma=1.):\n",
    "    \"\"\"\n",
    "    Return the log-likelihood of the ARMA model parameters, given the time\n",
    "    series.\n",
    "    \n",
    "    Parameters\n",
    "    ----------\n",
    "    time_series : ndarray of shape (n,1)\n",
    "        The time series in question, z_t\n",
    "    phis : ndarray of shape (p,)\n",
    "        The phi parameters\n",
    "    thetas : ndarray of shape (q,)\n",
    "        The theta parameters\n",
    "    mu : float\n",
    "        The parameter mu\n",
    "    sigma : float\n",
    "        The standard deviation of the a_t random variables\n",
    "    \n",
    "    Returns\n",
    "    -------\n",
    "    log_likelihood : float\n",
    "        The log-likelihood of the model\n",
    "    \"\"\"\n",
    "    z = time_series - mu\n",
    "    \n",
    "    # get parameters for the sizes of everything\n",
    "    p = phis.shape[0]\n",
    "    q = thetas.shape[0]\n",
    "    r = np.max([p,q+1])\n",
    "    d = z.ndim\n",
    "    \n",
    "    if phis.size>0:\n",
    "        phis = np.concatenate((phis,np.zeros(r-p)))\n",
    "    if thetas.size>0:\n",
    "        thetas = np.concatenate((thetas,np.zeros(r-1-q)))\n",
    "    \n",
    "    # set up necessary matrices\n",
    "    bottom = np.concatenate((np.eye(r-1),np.zeros(r-1).reshape((r-1,1))),\n",
    "                            axis=1) # this is the bottom of the F matrix\n",
    "    F = np.concatenate((phis.reshape((1,r)),bottom),axis=0)\n",
    "    H = np.concatenate(([1],thetas)).reshape((1,r))\n",
    "    Q = np.zeros((r,r))\n",
    "    Q[0,0] = sigma**2\n",
    "    #print(F)\n",
    "    #print(H)\n",
    "    #print(Q)\n",
    "    \n",
    "    # \n",
    "    xkp = np.zeros(r)\n",
    "    flatPkp = la.solve(np.eye(r**2) - np.kron(F,F), Q.flatten())\n",
    "    Pkp = flatPkp.reshape((r,r))\n",
    "    \n",
    "    loglikelihood = 0\n",
    "    \n",
    "    for k in range(0,len(z)):\n",
    "        # Update\n",
    "        yk = z[k] - H.dot(xkp)\n",
    "        Sk = H.dot(Pkp.dot(H.T))\n",
    "        Kk = la.solve(Sk.T, H.dot(Pkp.T)).T\n",
    "        \n",
    "        loglikelihood += norm.logpdf(z[k], H.dot(xkp), np.sqrt(H.dot(Pkp.dot(H.T))))\n",
    "        \n",
    "        xku = xkp + Kk.dot(yk)\n",
    "        Pku = (np.eye(r) - Kk.dot(H)).dot(Pkp)\n",
    "\n",
    "        # Predict\n",
    "        xkp = F.dot(xku)\n",
    "        Pkp = F.dot(Pku.dot(F.T)) + Q\n",
    "\n",
    "    return loglikelihood"
   ]
  },
  {
   "cell_type": "code",
   "execution_count": 4,
   "metadata": {
    "scrolled": true
   },
   "outputs": [
    {
     "data": {
      "text/plain": [
       "array([[-77.60354497]])"
      ]
     },
     "execution_count": 4,
     "metadata": {},
     "output_type": "execute_result"
    }
   ],
   "source": [
    "arma_likelihood(time_series_a, np.array([0.9]), mu=17., sigma=.4)"
   ]
  },
  {
   "cell_type": "markdown",
   "metadata": {},
   "source": [
    "# Problem 2"
   ]
  },
  {
   "cell_type": "code",
   "execution_count": 12,
   "metadata": {},
   "outputs": [],
   "source": [
    "def arma_fit(time_series):\n",
    "    \"\"\"\n",
    "    Return the ARMA model that minimizes AICc for the given time series,\n",
    "    subject to p,q <= 3.\n",
    "    \n",
    "    Parameters\n",
    "    ----------\n",
    "    time_series : ndarray of shape (n,1)\n",
    "        The time series in question, z_t\n",
    "        \n",
    "    Returns\n",
    "    -------\n",
    "    phis : ndarray of shape (p,)\n",
    "        The phi parameters\n",
    "    thetas : ndarray of shape (q,)\n",
    "        The theta parameters\n",
    "    mu : float\n",
    "        The parameter mu\n",
    "    sigma : float\n",
    "        The standard deviation of the a_t random variables\n",
    "    \"\"\"\n",
    "    n = time_series.shape[0]\n",
    "    pstar, qstar = -1, -1\n",
    "    min_aicc = 9999\n",
    "    for p in range(1,4):\n",
    "        for q in range(1,4):\n",
    "            def f(x):\n",
    "                return -1*arma_likelihood(time_series, phis=x[:p], \n",
    "                                          thetas=x[p:p+q], \n",
    "                                          mu=x[-2], sigma=x[-1])\n",
    "            k = p + q + 2\n",
    "            x0 = np.zeros(p+q+2)\n",
    "            x0[-2] = time_series.mean()\n",
    "            x0[-1] = time_series.std()\n",
    "            sol = opt.fmin(f,x0,maxiter=10000,maxfun=10000, \n",
    "                           disp=False, retall=False)\n",
    "            aicc = 2*k*(1 + (k+1)/(n-k)) + 2*f(sol)\n",
    "            #print(p,q,aicc)\n",
    "            if aicc < min_aicc:\n",
    "                parameters = sol\n",
    "                pstar = p\n",
    "                qstar = q\n",
    "                min_aicc = aicc\n",
    "    return (parameters[:pstar], \n",
    "            parameters[pstar:pstar+qstar], \n",
    "            parameters[-2], \n",
    "            parameters[-1])"
   ]
  },
  {
   "cell_type": "code",
   "execution_count": 13,
   "metadata": {},
   "outputs": [
    {
     "name": "stderr",
     "output_type": "stream",
     "text": [
      "C:\\Users\\matts\\Anaconda3\\lib\\site-packages\\ipykernel_launcher.py:62: RuntimeWarning: invalid value encountered in sqrt\n",
      "C:\\Users\\matts\\Anaconda3\\lib\\site-packages\\scipy\\stats\\_distn_infrastructure.py:1695: RuntimeWarning: invalid value encountered in greater\n",
      "  cond0 = self._argcheck(*args) & (scale > 0)\n",
      "C:\\Users\\matts\\Anaconda3\\lib\\site-packages\\scipy\\stats\\_distn_infrastructure.py:876: RuntimeWarning: invalid value encountered in greater_equal\n",
      "  return (self.a <= x) & (x <= self.b)\n",
      "C:\\Users\\matts\\Anaconda3\\lib\\site-packages\\scipy\\stats\\_distn_infrastructure.py:876: RuntimeWarning: invalid value encountered in less_equal\n",
      "  return (self.a <= x) & (x <= self.b)\n",
      "C:\\Users\\matts\\Anaconda3\\lib\\site-packages\\scipy\\stats\\_distn_infrastructure.py:1696: RuntimeWarning: invalid value encountered in greater\n",
      "  cond1 = self._support_mask(x) & (scale > 0)\n",
      "C:\\Users\\matts\\Anaconda3\\lib\\site-packages\\scipy\\optimize\\optimize.py:555: RuntimeWarning: invalid value encountered in less\n",
      "  if fxe < fxr:\n",
      "C:\\Users\\matts\\Anaconda3\\lib\\site-packages\\scipy\\optimize\\optimize.py:551: RuntimeWarning: invalid value encountered in less\n",
      "  if fxr < fsim[0]:\n",
      "C:\\Users\\matts\\Anaconda3\\lib\\site-packages\\scipy\\optimize\\optimize.py:562: RuntimeWarning: invalid value encountered in less\n",
      "  if fxr < fsim[-2]:\n",
      "C:\\Users\\matts\\Anaconda3\\lib\\site-packages\\scipy\\optimize\\optimize.py:567: RuntimeWarning: invalid value encountered in less\n",
      "  if fxr < fsim[-1]:\n"
     ]
    },
    {
     "name": "stdout",
     "output_type": "stream",
     "text": [
      "Time Series A:\n",
      "p - [0.90867024]\n",
      "q - [-0.57585945]\n",
      "mu - 17.065262486340927\n",
      "sigma - 0.31253098628150655\n"
     ]
    }
   ],
   "source": [
    "paramsA = arma_fit(time_series_a)\n",
    "print(('Time Series A:\\np - {}\\n'+\n",
    "       'q - {}\\nmu - {}\\nsigma - {}').format(paramsA[0], paramsA[1],\n",
    "                                             paramsA[2], paramsA[3]))"
   ]
  },
  {
   "cell_type": "code",
   "execution_count": 14,
   "metadata": {},
   "outputs": [
    {
     "name": "stderr",
     "output_type": "stream",
     "text": [
      "C:\\Users\\matts\\Anaconda3\\lib\\site-packages\\ipykernel_launcher.py:62: RuntimeWarning: invalid value encountered in sqrt\n",
      "C:\\Users\\matts\\Anaconda3\\lib\\site-packages\\scipy\\stats\\_distn_infrastructure.py:1695: RuntimeWarning: invalid value encountered in greater\n",
      "  cond0 = self._argcheck(*args) & (scale > 0)\n",
      "C:\\Users\\matts\\Anaconda3\\lib\\site-packages\\scipy\\stats\\_distn_infrastructure.py:876: RuntimeWarning: invalid value encountered in greater_equal\n",
      "  return (self.a <= x) & (x <= self.b)\n",
      "C:\\Users\\matts\\Anaconda3\\lib\\site-packages\\scipy\\stats\\_distn_infrastructure.py:876: RuntimeWarning: invalid value encountered in less_equal\n",
      "  return (self.a <= x) & (x <= self.b)\n",
      "C:\\Users\\matts\\Anaconda3\\lib\\site-packages\\scipy\\stats\\_distn_infrastructure.py:1696: RuntimeWarning: invalid value encountered in greater\n",
      "  cond1 = self._support_mask(x) & (scale > 0)\n",
      "C:\\Users\\matts\\Anaconda3\\lib\\site-packages\\scipy\\optimize\\optimize.py:551: RuntimeWarning: invalid value encountered in less\n",
      "  if fxr < fsim[0]:\n",
      "C:\\Users\\matts\\Anaconda3\\lib\\site-packages\\scipy\\optimize\\optimize.py:562: RuntimeWarning: invalid value encountered in less\n",
      "  if fxr < fsim[-2]:\n",
      "C:\\Users\\matts\\Anaconda3\\lib\\site-packages\\scipy\\optimize\\optimize.py:567: RuntimeWarning: invalid value encountered in less\n",
      "  if fxr < fsim[-1]:\n",
      "C:\\Users\\matts\\Anaconda3\\lib\\site-packages\\scipy\\optimize\\optimize.py:555: RuntimeWarning: invalid value encountered in less\n",
      "  if fxe < fxr:\n"
     ]
    },
    {
     "name": "stdout",
     "output_type": "stream",
     "text": [
      "Time Series B:\n",
      "p - [ 0.2350456 -0.3839864 -0.6566961]\n",
      "q - [-0.20234983  0.41060419  0.67314649]\n",
      "mu - -0.2853804404204241\n",
      "sigma - 7.033452537536814\n"
     ]
    }
   ],
   "source": [
    "paramsB = arma_fit(time_series_b)\n",
    "print(('Time Series B:\\np - {}\\n'+\n",
    "       'q - {}\\nmu - {}\\nsigma - {}').format(paramsB[0], paramsB[1],\n",
    "                                             paramsB[2], paramsB[3]))"
   ]
  },
  {
   "cell_type": "code",
   "execution_count": 15,
   "metadata": {},
   "outputs": [
    {
     "name": "stderr",
     "output_type": "stream",
     "text": [
      "C:\\Users\\matts\\Anaconda3\\lib\\site-packages\\ipykernel_launcher.py:62: RuntimeWarning: invalid value encountered in sqrt\n",
      "C:\\Users\\matts\\Anaconda3\\lib\\site-packages\\scipy\\stats\\_distn_infrastructure.py:1695: RuntimeWarning: invalid value encountered in greater\n",
      "  cond0 = self._argcheck(*args) & (scale > 0)\n",
      "C:\\Users\\matts\\Anaconda3\\lib\\site-packages\\scipy\\stats\\_distn_infrastructure.py:876: RuntimeWarning: invalid value encountered in greater_equal\n",
      "  return (self.a <= x) & (x <= self.b)\n",
      "C:\\Users\\matts\\Anaconda3\\lib\\site-packages\\scipy\\stats\\_distn_infrastructure.py:876: RuntimeWarning: invalid value encountered in less_equal\n",
      "  return (self.a <= x) & (x <= self.b)\n",
      "C:\\Users\\matts\\Anaconda3\\lib\\site-packages\\scipy\\stats\\_distn_infrastructure.py:1696: RuntimeWarning: invalid value encountered in greater\n",
      "  cond1 = self._support_mask(x) & (scale > 0)\n",
      "C:\\Users\\matts\\Anaconda3\\lib\\site-packages\\scipy\\optimize\\optimize.py:555: RuntimeWarning: invalid value encountered in less\n",
      "  if fxe < fxr:\n",
      "C:\\Users\\matts\\Anaconda3\\lib\\site-packages\\scipy\\optimize\\optimize.py:551: RuntimeWarning: invalid value encountered in less\n",
      "  if fxr < fsim[0]:\n",
      "C:\\Users\\matts\\Anaconda3\\lib\\site-packages\\scipy\\optimize\\optimize.py:562: RuntimeWarning: invalid value encountered in less\n",
      "  if fxr < fsim[-2]:\n",
      "C:\\Users\\matts\\Anaconda3\\lib\\site-packages\\scipy\\optimize\\optimize.py:567: RuntimeWarning: invalid value encountered in less\n",
      "  if fxr < fsim[-1]:\n"
     ]
    },
    {
     "name": "stdout",
     "output_type": "stream",
     "text": [
      "Time Series C:\n",
      "p - [ 1.22481184 -0.56007884]\n",
      "q - [0.38466735]\n",
      "mu - 48.46227811120798\n",
      "sigma - 14.622537558888457\n"
     ]
    }
   ],
   "source": [
    "paramsC = arma_fit(time_series_c)\n",
    "print(('Time Series C:\\np - {}\\n'+\n",
    "       'q - {}\\nmu - {}\\nsigma - {}').format(paramsC[0], paramsC[1],\n",
    "                                             paramsC[2], paramsC[3]))"
   ]
  },
  {
   "cell_type": "markdown",
   "metadata": {},
   "source": [
    "# Problem 4"
   ]
  },
  {
   "cell_type": "code",
   "execution_count": 17,
   "metadata": {},
   "outputs": [],
   "source": [
    "def arma_forecast(time_series, phis=np.array([]), thetas=np.array([]), mu=0.,\n",
    "sigma=1., future_periods=20):\n",
    "    \"\"\"\n",
    "    Return forecasts for a time series modeled with the given ARMA model.\n",
    "    Parameters\n",
    "    ----------\n",
    "    time_series : ndarray of shape (n,1)\n",
    "    The time series in question, z_t\n",
    "    phis : ndarray of shape (p,)\n",
    "    The phi parameters\n",
    "    thetas : ndarray of shape (q,)\n",
    "    The theta parameters\n",
    "    mu : float\n",
    "    The parameter mu\n",
    "    sigma : float\n",
    "    The standard deviation of the a_t random variables\n",
    "    future_periods : int\n",
    "    The number of future periods to return\n",
    "    Returns\n",
    "    -------\n",
    "    e_vals : ndarray of shape (future_periods,)\n",
    "    The expected values of z for times n+1, ..., n+future_periods\n",
    "    sigs : ndarray of shape (future_periods,)\n",
    "    The standard deviations of z for times n+1, ..., n+future_periods\n",
    "    \"\"\"\n",
    "    z = time_series - mu\n",
    "    evals = np.zeros(future_periods)\n",
    "    sigs = np.zeros(future_periods)\n",
    "    \n",
    "    #Set the parameters for the model\n",
    "    d = time_series.ndim \n",
    "    n = time_series.shape[0]\n",
    "    p = phis.shape[0]\n",
    "    q = thetas.shape[0]\n",
    "    r = np.max([p,q+1])\n",
    "    \n",
    "    F = np.diag(np.ones(r-1), -1)\n",
    "    F[0,:p] = phis\n",
    "    \n",
    "    H = np.zeros([d,r])\n",
    "    H[0,0] = 1\n",
    "    H[0,1:(q+1)] = thetas\n",
    "\n",
    "    Q = np.zeros([r,r])\n",
    "    Q[0,0] = sigma**2   \n",
    "    \n",
    "    xt = np.zeros(r)\n",
    "    Pt = np.linalg.solve(np.eye(r**2) - np.kron(F,F), Q.flatten()).reshape(r,r)\n",
    "    \n",
    "    # Now find x_n, P_n\n",
    "    for t in range(n):\n",
    "        # Update\n",
    "        yt = z[t].ravel() - H.dot(xt).ravel()\n",
    "        St = H.dot(Pt.dot(H.T))\n",
    "        Kt = np.linalg.solve(St.T, H.dot(Pt.T)).T\n",
    "        xt1 = xt.ravel() + Kt.dot(yt).ravel()\n",
    "        Pt1 = (np.eye(r) - Kt.dot(H)).dot(Pt)\n",
    "\n",
    "        # Predict\n",
    "        xt = F.dot(xt1).ravel()\n",
    "        Pt = F.dot(Pt1.dot(F.T)) + Q\n",
    "    \n",
    "    for t_f in range(future_periods):\n",
    "        # Predict\n",
    "        xt = F.dot(xt).ravel()\n",
    "        Pt = F.dot(Pt.dot(F.T)) + Q\n",
    "        \n",
    "        #Now calculate mean and variance\n",
    "        evals[t_f] = H.dot(xt) + mu\n",
    "        sigs[t_f] = np.sqrt(H.dot(Pt.dot(H.T)))\n",
    "    return evals, sigs"
   ]
  },
  {
   "cell_type": "code",
   "execution_count": 20,
   "metadata": {},
   "outputs": [],
   "source": [
    "phiB, thetaB, muB, sigmaB = paramsB\n",
    "future_states = 20"
   ]
  },
  {
   "cell_type": "code",
   "execution_count": null,
   "metadata": {},
   "outputs": [],
   "source": []
  },
  {
   "cell_type": "code",
   "execution_count": null,
   "metadata": {},
   "outputs": [],
   "source": []
  }
 ],
 "metadata": {
  "kernelspec": {
   "display_name": "Python 3",
   "language": "python",
   "name": "python3"
  },
  "language_info": {
   "codemirror_mode": {
    "name": "ipython",
    "version": 3
   },
   "file_extension": ".py",
   "mimetype": "text/x-python",
   "name": "python",
   "nbconvert_exporter": "python",
   "pygments_lexer": "ipython3",
   "version": "3.6.4"
  }
 },
 "nbformat": 4,
 "nbformat_minor": 2
}

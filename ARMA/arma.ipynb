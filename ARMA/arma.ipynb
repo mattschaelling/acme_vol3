{
 "cells": [
  {
   "cell_type": "code",
   "execution_count": 73,
   "metadata": {},
   "outputs": [],
   "source": [
    "import numpy as np\n",
    "from scipy import optimize as opt, linalg as la\n",
    "from scipy.stats import norm\n",
    "from matplotlib import pyplot as plt\n",
    "plt.style.use('ggplot')"
   ]
  },
  {
   "cell_type": "code",
   "execution_count": 2,
   "metadata": {},
   "outputs": [],
   "source": [
    "time_series_a = np.loadtxt('time_series_a.txt')\n",
    "time_series_b = np.loadtxt('time_series_b.txt')\n",
    "time_series_c = np.loadtxt('time_series_c.txt')"
   ]
  },
  {
   "cell_type": "code",
   "execution_count": null,
   "metadata": {},
   "outputs": [],
   "source": []
  },
  {
   "cell_type": "markdown",
   "metadata": {},
   "source": [
    "# Problem 1"
   ]
  },
  {
   "cell_type": "code",
   "execution_count": 78,
   "metadata": {},
   "outputs": [],
   "source": [
    "def arma_likelihood(time_series, phis=np.array([]), \n",
    "                    thetas=np.array([]), mu=0., sigma=1.):\n",
    "    \"\"\"\n",
    "    Return the log-likelihood of the ARMA model parameters, given the time\n",
    "    series.\n",
    "    \n",
    "    Parameters\n",
    "    ----------\n",
    "    time_series : ndarray of shape (n,1)\n",
    "        The time series in question, z_t\n",
    "    phis : ndarray of shape (p,)\n",
    "        The phi parameters\n",
    "    thetas : ndarray of shape (q,)\n",
    "        The theta parameters\n",
    "    mu : float\n",
    "        The parameter mu\n",
    "    sigma : float\n",
    "        The standard deviation of the a_t random variables\n",
    "    \n",
    "    Returns\n",
    "    -------\n",
    "    log_likelihood : float\n",
    "        The log-likelihood of the model\n",
    "    \"\"\"\n",
    "    z = time_series - mu\n",
    "    \n",
    "    # get parameters for the sizes of everything\n",
    "    p = phis.shape[0]\n",
    "    q = thetas.shape[0]\n",
    "    r = np.max([p,q+1])\n",
    "    d = z.ndim\n",
    "    \n",
    "    if phis.size>0:\n",
    "        phis = np.concatenate((phis,np.zeros(r-p)))\n",
    "    if thetas.size>0:\n",
    "        thetas = np.concatenate((thetas,np.zeros(r-1-q)))\n",
    "    \n",
    "    # set up necessary matrices\n",
    "    bottom = np.concatenate((np.eye(r-1),np.zeros(r-1).reshape((r-1,1))),\n",
    "                            axis=1) # this is the bottom of the F matrix\n",
    "    F = np.concatenate((phis.reshape((1,r)),bottom),axis=0)\n",
    "    H = np.concatenate(([1],thetas)).reshape((1,r))\n",
    "    Q = np.zeros((r,r))\n",
    "    Q[0,0] = sigma**2\n",
    "    #print(F)\n",
    "    #print(H)\n",
    "    #print(Q)\n",
    "    \n",
    "    # \n",
    "    xkp = np.zeros(r)\n",
    "    flatPkp = la.solve(np.eye(r**2) - np.kron(F,F), Q.flatten())\n",
    "    Pkp = flatPkp.reshape((r,r))\n",
    "    \n",
    "    loglikelihood = 0\n",
    "    \n",
    "    for k in range(0,len(z)):\n",
    "        # Update\n",
    "        yk = z[k] - H.dot(xkp)\n",
    "        Sk = H.dot(Pkp.dot(H.T))\n",
    "        Kk = la.solve(Sk.T, H.dot(Pkp.T)).T\n",
    "        \n",
    "        loglikelihood += norm.logpdf(z[k], H.dot(xkp), np.sqrt(H.dot(Pkp.dot(H.T))))\n",
    "        \n",
    "        xku = xkp + Kk.dot(yk)\n",
    "        Pku = (np.eye(r) - Kk.dot(H)).dot(Pkp)\n",
    "\n",
    "        # Predict\n",
    "        xkp = F.dot(xku)\n",
    "        Pkp = F.dot(Pku.dot(F.T)) + Q\n",
    "\n",
    "    return loglikelihood"
   ]
  },
  {
   "cell_type": "code",
   "execution_count": 79,
   "metadata": {
    "scrolled": true
   },
   "outputs": [
    {
     "data": {
      "text/plain": [
       "array([[-77.60354497]])"
      ]
     },
     "execution_count": 79,
     "metadata": {},
     "output_type": "execute_result"
    }
   ],
   "source": [
    "arma_likelihood(time_series_a, np.array([0.9]), mu=17., sigma=.4)"
   ]
  },
  {
   "cell_type": "markdown",
   "metadata": {},
   "source": [
    "# Problem 2"
   ]
  },
  {
   "cell_type": "code",
   "execution_count": 84,
   "metadata": {},
   "outputs": [],
   "source": [
    "def arma_fit(time_series):\n",
    "    \"\"\"\n",
    "    Return the ARMA model that minimizes AICc for the given time series,\n",
    "    subject to p,q <= 3.\n",
    "    \n",
    "    Parameters\n",
    "    ----------\n",
    "    time_series : ndarray of shape (n,1)\n",
    "        The time series in question, z_t\n",
    "        \n",
    "    Returns\n",
    "    -------\n",
    "    phis : ndarray of shape (p,)\n",
    "        The phi parameters\n",
    "    thetas : ndarray of shape (q,)\n",
    "        The theta parameters\n",
    "    mu : float\n",
    "        The parameter mu\n",
    "    sigma : float\n",
    "        The standard deviation of the a_t random variables\n",
    "    \"\"\"\n",
    "    n = time_series.shape[0]\n",
    "    pstar, qstar = -1, -1\n",
    "    min_aicc = 9999\n",
    "    for p in range(1,4):\n",
    "        for q in range(1,4):            \n",
    "            def f(x):\n",
    "                return -1*arma_likelihood(time_series, phis=x[:p], \n",
    "                                          thetas=x[p:p+q], \n",
    "                                          mu=x[-2], sigma=x[-1])\n",
    "            k = p + q + 2\n",
    "            x0 = np.zeros(p+q+2)\n",
    "            x0[-2] = time_series.mean()\n",
    "            x0[-1] = time_series.std()\n",
    "            sol = opt.fmin(f,x0,maxiter=10000,maxfun=10000, \n",
    "                           disp=False, retall=False)\n",
    "            aicc = 2*k*(1 + (k+1)/(n-k)) + 2*f(sol)\n",
    "            #print(p,q,aicc)\n",
    "            if aicc < min_aicc:\n",
    "                parameters = sol\n",
    "                pstar = p\n",
    "                qstar = q\n",
    "                min_aicc = aicc\n",
    "    return (parameters[:pstar], \n",
    "            parameters[pstar:pstar+qstar], \n",
    "            parameters[-2], \n",
    "            parameters[-1])"
   ]
  },
  {
   "cell_type": "code",
   "execution_count": null,
   "metadata": {},
   "outputs": [],
   "source": [
    "paramsA = arma_fit(time_series_a)\n",
    "print(('Time Series A:\\np - {}\\n'+\n",
    "       'q - {}\\nmu - {}\\nsigma - {}').format(paramsA[0], paramsA[1],\n",
    "                                             paramsA[2], paramsA[3]))"
   ]
  },
  {
   "cell_type": "code",
   "execution_count": null,
   "metadata": {},
   "outputs": [
    {
     "name": "stderr",
     "output_type": "stream",
     "text": [
      "/usr/local/anaconda3/lib/python3.6/site-packages/ipykernel_launcher.py:62: RuntimeWarning: invalid value encountered in sqrt\n"
     ]
    }
   ],
   "source": [
    "paramsB = arma_fit(time_series_b)\n",
    "print(('Time Series B:\\np - {}\\n'+\n",
    "       'q - {}\\nmu - {}\\nsigma - {}').format(paramsB[0], paramsB[1],\n",
    "                                             paramsB[2], paramsB[3]))"
   ]
  },
  {
   "cell_type": "code",
   "execution_count": null,
   "metadata": {},
   "outputs": [],
   "source": [
    "paramsC = arma_fit(time_series_c)\n",
    "print(('Time Series C:\\np - {}\\n'+\n",
    "       'q - {}\\nmu - {}\\nsigma - {}').format(paramsC[0], paramsC[1],\n",
    "                                             paramsC[2], paramsC[3]))"
   ]
  },
  {
   "cell_type": "markdown",
   "metadata": {},
   "source": [
    "# Problem 4"
   ]
  },
  {
   "cell_type": "code",
   "execution_count": null,
   "metadata": {},
   "outputs": [],
   "source": [
    "def arma_forecast(time_series, phis=array([]), thetas=array([]), mu=0., \n",
    "                  sigma=1., future_periods=20):\n",
    "    \"\"\"\n",
    "    Return forecasts for a time series modeled with the given ARMA model.\n",
    "    \n",
    "    Parameters\n",
    "    ----------\n",
    "    time_series : ndarray of shape (n,1)\n",
    "        The time series in question, z_t\n",
    "    phis : ndarray of shape (p,)\n",
    "        The phi parameters\n",
    "    thetas : ndarray of shape (q,)\n",
    "        The theta parameters\n",
    "    mu : float\n",
    "        The parameter mu\n",
    "    sigma : float\n",
    "        The standard deviation of the a_t random variables\n",
    "    future_periods : int\n",
    "        The number of future periods to return\n",
    "        \n",
    "    Returns\n",
    "    -------\n",
    "    e_vals : ndarray of shape (future_periods,)\n",
    "        The expected values of z for times n+1, ..., n+future_periods\n",
    "    sigs : ndarray of shape (future_periods,)\n",
    "        The standard deviations of z for times n+1, ..., n+future_periods\n",
    "    \"\"\"\n",
    "    "
   ]
  }
 ],
 "metadata": {
  "kernelspec": {
   "display_name": "Python 3",
   "language": "python",
   "name": "python3"
  },
  "language_info": {
   "codemirror_mode": {
    "name": "ipython",
    "version": 3
   },
   "file_extension": ".py",
   "mimetype": "text/x-python",
   "name": "python",
   "nbconvert_exporter": "python",
   "pygments_lexer": "ipython3",
   "version": "3.6.4"
  }
 },
 "nbformat": 4,
 "nbformat_minor": 2
}

{
 "cells": [
  {
   "cell_type": "code",
   "execution_count": 9,
   "metadata": {
    "collapsed": false
   },
   "outputs": [],
   "source": [
    "import numpy as np\n",
    "from scipy import linalg as la\n",
    "from sklearn import datasets\n",
    "from sklearn.linear_model import LogisticRegression\n",
    "from sklearn.naive_bayes import GaussianNB\n",
    "from sklearn.discriminant_analysis import QuadraticDiscriminantAnalysis as QDA\n",
    "from sklearn import model_selection as ms\n",
    "import time"
   ]
  },
  {
   "cell_type": "markdown",
   "metadata": {},
   "source": [
    "# Problem 1\n",
    "Code up the Gaussian Discriminant Analysis algorithm.  Your code should have a `.fit` method that accepts a dataset $X,y$ where $y$ only takes on a finite number of values (classes), the `.fit` method should train the model (learn the parameters $π_c$, $μ_c$, and $Σ_c$ for each class $c$, using the standard Gaussian MLE for each $μ_c$, and $Σ_c$ and using the estimate $π_c$ = $\\frac{\\#y=c}{N}$.  Your code should also have a `.predict_proba method` that accepts a data set $X'$ and returns $p(y=c|x)$ for each $x$ in $X'$, and it should have a `.predict` method that accepts data $X'$ and returns the class prediction $\\hat{y}$ for each $x$ in $X'$"
   ]
  },
  {
   "cell_type": "code",
   "execution_count": 38,
   "metadata": {
    "collapsed": true
   },
   "outputs": [],
   "source": [
    "class GaussianDiscriminantAnalysis:\n",
    "    '''Do Gaussian Discriminant Analysis'''\n",
    "    \n",
    "    def fit(self, X, y):\n",
    "        '''Train the model.'''\n",
    "        # Train the dataset.\n",
    "        self.classes = np.array(list(set(y)))\n",
    "        self.mu = np.zeros((len(self.classes), X.shape[1]))\n",
    "        self.sigma = np.zeros((len(self.classes), X.shape[1], X.shape[1]))\n",
    "        self.sigma_inv = np.zeros((len(self.classes), X.shape[1], X.shape[1]))\n",
    "        self.pi = np.zeros((len(self.classes)))\n",
    "        for i in range(len(self.classes)):\n",
    "            class_data = X[y==self.classes[i]]\n",
    "            self.mu[i] = class_data.mean(axis=0)\n",
    "            self.sigma[i] = np.cov(class_data, rowvar = False)\n",
    "            self.sigma_inv[i] = la.inv(self.sigma[i])\n",
    "            self.pi[i] = (y==self.classes[i]).mean()\n",
    "        \n",
    "\n",
    "    def predict_proba(self, Xprime):\n",
    "        '''Predict probabilities for each class'''\n",
    "        # Return P(y=c|x).\n",
    "        probabilities = np.zeros((len(self.classes), Xprime.shape[0]))\n",
    "        for i in range(len(self.classes)):\n",
    "            det = la.det(.5*np.pi*self.sigma[i])**-.5\n",
    "            centered = Xprime - self.mu[i]\n",
    "            exponent = self.sigma_inv[i].dot(centered.T)\n",
    "            exponent = centered.dot(exponent)\n",
    "            exponent = -.5*exponent\n",
    "            prob = det * np.exp(exponent) * self.pi[i]\n",
    "            #print(np.diag(prob).shape)\n",
    "            #print(probabilities[i].shape)\n",
    "            probabilities[i] = np.diag(prob)\n",
    "            '''\n",
    "            probabilities[i] = la.det(.5*np.pi*self.sigma[i])**-.5 \\\n",
    "                    * np.exp(-.5*(Xprime - self.mu[i]).dot(self.sigma_inv[i].dot((Xprime - self.mu[i]).T))) \\\n",
    "                    * self.pi[i]'''\n",
    "        return (probabilities / probabilities.sum(axis=0)).T\n",
    "\n",
    "    def predict(self, Xprime):\n",
    "        # Return y_hat for each x in X'. \n",
    "        return self.classes[np.argmax(self.predict_proba(Xprime), axis=1)]"
   ]
  },
  {
   "cell_type": "markdown",
   "metadata": {},
   "source": [
    "# Problem 2\n",
    "Apply your GDA code to the cancer dataset with an appropriate train-test split and compare the results (train and test speed and test accuracy) to logistic regression and Naive Bayes.  Is one of these much better than the others?  Explain."
   ]
  },
  {
   "cell_type": "code",
   "execution_count": 42,
   "metadata": {
    "collapsed": false
   },
   "outputs": [],
   "source": [
    "models = ['Gaussian Discriminant', 'Logistic Regression', 'Naive Bayes\\t']\n",
    "train_times = []\n",
    "test_times = []\n",
    "accuracy = []\n",
    "\n",
    "# Load data set.\n",
    "cancer = datasets.load_breast_cancer()\n",
    "X,y = cancer.data, cancer.target\n",
    "\n",
    "# Train test split.\n",
    "xtrain, xtest, ytrain, ytest = ms.train_test_split(X, y, test_size = .3)\n",
    "\n",
    "# Run GDA.\n",
    "gda = GaussianDiscriminantAnalysis()\n",
    "start = time.clock()\n",
    "gda.fit(xtrain, ytrain)\n",
    "train_times.append(time.clock() - start)\n",
    "start = time.clock()\n",
    "gda_predict = gda.predict(xtest)\n",
    "test_times.append(time.clock() - start)\n",
    "accuracy.append((gda_predict == ytest).mean())\n",
    "\n",
    "# Run Logistic Regression.\n",
    "lr = LogisticRegression()\n",
    "start = time.clock()\n",
    "lr.fit(xtrain, ytrain)\n",
    "train_times.append(time.clock() - start)\n",
    "start = time.clock()\n",
    "lr_predict = lr.predict(xtest)\n",
    "test_times.append(time.clock() - start)\n",
    "accuracy.append((lr_predict == ytest).mean())\n",
    "\n",
    "# Run Naive Bayes.\n",
    "gnb = GaussianDiscriminantAnalysis()\n",
    "start = time.clock()\n",
    "gnb.fit(xtrain, ytrain)\n",
    "train_times.append(time.clock() - start)\n",
    "start = time.clock()\n",
    "gnb_predict = gnb.predict(xtest)\n",
    "test_times.append(time.clock() - start)\n",
    "accuracy.append((gnb_predict == ytest).mean())"
   ]
  },
  {
   "cell_type": "code",
   "execution_count": 43,
   "metadata": {
    "collapsed": false
   },
   "outputs": [
    {
     "name": "stdout",
     "output_type": "stream",
     "text": [
      "Model\t\t\tTrain Time\tTest Time\tAccuracy\n",
      "Gaussian Discriminant\t0.0012476\t0.0015918\t0.9590643\n",
      "Logistic Regression\t0.0110732\t0.0004135\t0.9649123\n",
      "Naive Bayes\t\t0.0014441\t0.0015126\t0.9590643\n"
     ]
    }
   ],
   "source": [
    "# Compare.\n",
    "print('Model\\t\\t\\tTrain Time\\tTest Time\\tAccuracy')\n",
    "for i in range(3):\n",
    "    print('{}\\t{}\\t{}\\t{}'.format(models[i], round(train_times[i], 7), \n",
    "                                  round(test_times[i], 7), round(accuracy[i], 7)))"
   ]
  },
  {
   "cell_type": "markdown",
   "metadata": {},
   "source": [
    "# Problem 3\n",
    "Compare your train and test speed and your test accuracy to the `discriminant_analysis.QuadraticDiscriminantAnalysis` method in scikit learn."
   ]
  },
  {
   "cell_type": "code",
   "execution_count": 47,
   "metadata": {
    "collapsed": false
   },
   "outputs": [
    {
     "name": "stdout",
     "output_type": "stream",
     "text": [
      "Model\t\t\tTrain Time\tTest Time\tAccuracy\n",
      "Gaussian Discriminant\t0.0012476\t0.0015918\t0.9590643\n",
      "Naive Bayes\t\t0.0022265\t0.0005136\t0.9590643\n"
     ]
    }
   ],
   "source": [
    "# Run sklearn's GDA\n",
    "qda = QDA()\n",
    "start = time.clock()\n",
    "qda.fit(xtrain, ytrain)\n",
    "train_times.append(time.clock() - start)\n",
    "start = time.clock()\n",
    "qda_predict = qda.predict(xtest)\n",
    "test_times.append(time.clock() - start)\n",
    "accuracy.append((qda_predict == ytest).mean())\n",
    "\n",
    "# Compare test accuracy.\n",
    "print('Model\\t\\t\\tTrain Time\\tTest Time\\tAccuracy')\n",
    "print('{}\\t{}\\t{}\\t{}'.format(models[0], round(train_times[0], 7), \n",
    "                              round(test_times[0], 7), round(accuracy[0], 7)))\n",
    "print('{}\\t{}\\t{}\\t{}'.format(models[-1], round(train_times[-1], 7), \n",
    "                              round(test_times[-1], 7), round(accuracy[-1], 7)))"
   ]
  }
 ],
 "metadata": {
  "kernelspec": {
   "display_name": "Python [Root]",
   "language": "python",
   "name": "Python [Root]"
  },
  "language_info": {
   "codemirror_mode": {
    "name": "ipython",
    "version": 2
   },
   "file_extension": ".py",
   "mimetype": "text/x-python",
   "name": "python",
   "nbconvert_exporter": "python",
   "pygments_lexer": "ipython2",
   "version": "2.7.14"
  }
 },
 "nbformat": 4,
 "nbformat_minor": 2
}

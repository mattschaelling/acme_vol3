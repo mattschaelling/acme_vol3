{
 "cells": [
  {
   "cell_type": "code",
   "execution_count": 37,
   "metadata": {
    "collapsed": true
   },
   "outputs": [],
   "source": [
    "import numpy as np\n",
    "from sklearn import datasets\n",
    "from sklearn.linear_model import LogisticRegression\n",
    "from sklearn.metrics import mean_squared_error\n",
    "from sklearn.model_selection import train_test_split\n",
    "import matplotlib.pyplot as plt\n",
    "import pandas as pd\n",
    "import statsmodels.formula.api as smf\n",
    "import statsmodels.api as sm\n",
    "%matplotlib inline"
   ]
  },
  {
   "cell_type": "markdown",
   "metadata": {},
   "source": [
    "Using the digits database and scikit-learn\n",
    "\n",
    "1. Split your data into 30% test and 70% training sets, \n",
    "2. For each of the values of $C = 10^{k}$ for $k = {-10,...,10}$ train an $L^{2}$ regularized logistic regression model with regularization weight lambda = $\\frac{1}{C}$  (this is the default form for scikit-learn) on the training set and compute the mean accuracy on the test set for each model.  Which performed best?  \n",
    "3. Repeat #2 with $L^{1}$ regularization instead of $L^{2}$.  Do the results suggest any features that can be dropped from the data set?\n",
    "4. Scikit-learn does not have logistic regression without regularization.  What values of $C$ are most similar to an un-regularized model?"
   ]
  },
  {
   "cell_type": "code",
   "execution_count": 3,
   "metadata": {
    "collapsed": true
   },
   "outputs": [],
   "source": [
    "# 1) Split the data into .3 test and .7 train\n",
    "digits = datasets.load_digits()\n",
    "xtrain, xtest, ytrain, ytest = train_test_split(digits['data'], \n",
    "                                                digits['target'], \n",
    "                                                test_size=.3, \n",
    "                                                train_size=.7)"
   ]
  },
  {
   "cell_type": "code",
   "execution_count": 4,
   "metadata": {
    "collapsed": false
   },
   "outputs": [
    {
     "name": "stdout",
     "output_type": "stream",
     "text": [
      "Best value of k = -2 with accuracy of 0.962962962963\n"
     ]
    }
   ],
   "source": [
    "# 2) Train models - L2 Norm\n",
    "accuracy = []\n",
    "\n",
    "# iterate through k\n",
    "for k in range(-10,11):\n",
    "    c = 10**k\n",
    "    # train and predict model for given c\n",
    "    model = LogisticRegression(penalty = 'l2', C=c)\n",
    "    model.fit(xtrain, ytrain)\n",
    "    ypredict = model.predict(xtest)\n",
    "    accuracy.append((k,np.mean(ypredict==ytest)))\n",
    "    \n",
    "# sort accuracies to find the best value of c\n",
    "accuracy = sorted(accuracy, key=lambda x: x[1], reverse=True)\n",
    "print(\"Best value of k = {} with accuracy of {}\".format(accuracy[0][0], accuracy[0][1]))"
   ]
  },
  {
   "cell_type": "code",
   "execution_count": 5,
   "metadata": {
    "collapsed": false
   },
   "outputs": [
    {
     "name": "stdout",
     "output_type": "stream",
     "text": [
      "Best value of k = -1 with accuracy of 0.962962962963\n"
     ]
    }
   ],
   "source": [
    "# 3) Train models - L1 Norm\n",
    "accuracy = []\n",
    "\n",
    "# iterate through k\n",
    "for k in range(-10,11):\n",
    "    c = 10**k\n",
    "    # train and predict model for given c\n",
    "    model = LogisticRegression(penalty = 'l1', C=c)\n",
    "    model.fit(xtrain, ytrain)\n",
    "    ypredict = model.predict(xtest)\n",
    "    accuracy.append((k,np.mean(ypredict==ytest)))\n",
    "    \n",
    "# sort accuracies to find the best value of c\n",
    "accuracy = sorted(accuracy, key=lambda x: x[1], reverse=True)\n",
    "print(\"Best value of k = {} with accuracy of {}\".format(accuracy[0][0], accuracy[0][1]))"
   ]
  },
  {
   "cell_type": "code",
   "execution_count": 21,
   "metadata": {
    "collapsed": false
   },
   "outputs": [
    {
     "name": "stdout",
     "output_type": "stream",
     "text": [
      "Coefficients that are zero across all 10 classification models:\n",
      "[0, 1, 7, 8, 15, 16, 23, 24, 31, 32, 39, 40, 47, 48, 55, 56, 57]\n"
     ]
    },
    {
     "data": {
      "image/png": "[encoded data removed]",
      "text/plain": [
       "<matplotlib.figure.Figure at 0xd4c6a90>"
      ]
     },
     "metadata": {},
     "output_type": "display_data"
    }
   ],
   "source": [
    "c = 10**-1\n",
    "model = LogisticRegression(penalty = 'l1', C=c)\n",
    "model.fit(xtrain, ytrain)\n",
    "\n",
    "# to evaluate if any features are less-essential, \n",
    "# we will go through the 64 features and see which \n",
    "# are consistently 0 across all 10 classification models\n",
    "zeros = np.zeros_like(model.coef_[:,0])\n",
    "dropped_coefs = []\n",
    "for i in range(len(model.coef_[0])):\n",
    "    if np.all(model.coef_[:,i] == zeros):\n",
    "        dropped_coefs.append(i)\n",
    "        \n",
    "print(\"Coefficients that are zero across all 10 classification models:\\n{}\".format(dropped_coefs))\n",
    "dropped_coefs = np.array(dropped_coefs)\n",
    "plt.scatter(dropped_coefs%8 + 1, dropped_coefs//8 + 1)\n",
    "plt.title('Position of Pixels (Coefficients) Dropped from All 10 Logistic Regressions')\n",
    "plt.show()"
   ]
  },
  {
   "cell_type": "markdown",
   "metadata": {},
   "source": [
    "Part 4) Large values of C are most similar to unregularized model because the larger C is the smaller the regularization weight is (1/C) thus the less the optimizing process will be penalized/changed by the size of the norm of the coefficients."
   ]
  },
  {
   "cell_type": "markdown",
   "metadata": {},
   "source": [
    "Identify a classification problem related to your final project, using your project data.  \n",
    "\n",
    "1. Apply $L^2$ regularized logistic regression to model this with an appropriate choice of $C$ (or lambda).  Discuss how (and why) you chose your specific the value $C$.  \n",
    "2. Apply $L^1$ regularized logistic regression to model this with an appropriate choice of $C$.  Discuss how (and why) you chose your specific value of $C$.  \n",
    "3. Identify which features of your data to include and which to discard for a good logistic regression model for your problem.  Compare which features are suggested for removal by $L^1$ regularization (from `scikit-learn) versus using the methods we have used for linear regression, including p-values, BIC, and AIC (from statsmodels).  \n",
    "Clearly identify your final preferred model, and explain why you chose that over the other contenders. \n",
    "What conclusions can be drawn from your results about the original classification question you asked?"
   ]
  },
  {
   "cell_type": "markdown",
   "metadata": {
    "collapsed": true
   },
   "source": [
    "To be candid, as of my current data there's not really any classification problem going on. The closest thing there is in the dataset is that I have an indicator for whether or not a day is on a weekend or not, and that was used as an explanatory variable for the models I estimated. Beyond that, I could fabricate classifications based on whether or not something is above or below certain thresholds, but I can't really think of any compelling reason why any of thsoe would give useful results. So, I'll just use the percent of UK purchases to predict whether or not it's a weekend and I'll use the total number of purchases to predict whether or not it's a weekend. Also, in this part of the dataset I only have 58 observations because they are daily aggregated observations, so I will be in danger of overfitting and sacrificing 10% of my data to validate is costly.\n",
    "\n",
    "To find the right value of C, I will do the same as above and iterate over possible values of $10^k$ for $k$ in ${-10, ... , 10}$ and choose the one that has the highest accuracy"
   ]
  },
  {
   "cell_type": "code",
   "execution_count": 23,
   "metadata": {
    "collapsed": true
   },
   "outputs": [],
   "source": [
    "df = pd.read_csv('purchases.csv')\n",
    "df.drop(df.columns[0], axis=1, inplace=True)"
   ]
  },
  {
   "cell_type": "code",
   "execution_count": 25,
   "metadata": {
    "collapsed": false
   },
   "outputs": [
    {
     "data": {
      "text/html": [
       "<div>\n",
       "<table border=\"1\" class=\"dataframe\">\n",
       "  <thead>\n",
       "    <tr style=\"text-align: right;\">\n",
       "      <th></th>\n",
       "      <th>Unnamed: 0</th>\n",
       "      <th>AUD_to_GBP</th>\n",
       "      <th>NEpurchases</th>\n",
       "      <th>UKpurchases</th>\n",
       "      <th>USpurchases</th>\n",
       "      <th>date</th>\n",
       "      <th>pctUKpurchases</th>\n",
       "      <th>weekend</th>\n",
       "      <th>AUD_to_GBP2</th>\n",
       "    </tr>\n",
       "  </thead>\n",
       "  <tbody>\n",
       "    <tr>\n",
       "      <th>0</th>\n",
       "      <td>0</td>\n",
       "      <td>0.507761</td>\n",
       "      <td>838.849246</td>\n",
       "      <td>697848.116857</td>\n",
       "      <td>1.874951e+06</td>\n",
       "      <td>2016-06-20</td>\n",
       "      <td>0.271152</td>\n",
       "      <td>0</td>\n",
       "      <td>0.257822</td>\n",
       "    </tr>\n",
       "    <tr>\n",
       "      <th>1</th>\n",
       "      <td>1</td>\n",
       "      <td>0.508658</td>\n",
       "      <td>502.963546</td>\n",
       "      <td>689378.326053</td>\n",
       "      <td>1.504030e+06</td>\n",
       "      <td>2016-06-21</td>\n",
       "      <td>0.314223</td>\n",
       "      <td>0</td>\n",
       "      <td>0.258733</td>\n",
       "    </tr>\n",
       "    <tr>\n",
       "      <th>2</th>\n",
       "      <td>2</td>\n",
       "      <td>0.510217</td>\n",
       "      <td>856.491542</td>\n",
       "      <td>535229.615066</td>\n",
       "      <td>3.673902e+06</td>\n",
       "      <td>2016-06-22</td>\n",
       "      <td>0.127133</td>\n",
       "      <td>0</td>\n",
       "      <td>0.260321</td>\n",
       "    </tr>\n",
       "    <tr>\n",
       "      <th>3</th>\n",
       "      <td>3</td>\n",
       "      <td>0.513378</td>\n",
       "      <td>248.206220</td>\n",
       "      <td>457024.954462</td>\n",
       "      <td>1.698697e+06</td>\n",
       "      <td>2016-06-23</td>\n",
       "      <td>0.211981</td>\n",
       "      <td>0</td>\n",
       "      <td>0.263557</td>\n",
       "    </tr>\n",
       "    <tr>\n",
       "      <th>4</th>\n",
       "      <td>4</td>\n",
       "      <td>0.546301</td>\n",
       "      <td>390.193942</td>\n",
       "      <td>37645.488798</td>\n",
       "      <td>1.053211e+06</td>\n",
       "      <td>2016-06-24</td>\n",
       "      <td>0.034498</td>\n",
       "      <td>0</td>\n",
       "      <td>0.298445</td>\n",
       "    </tr>\n",
       "  </tbody>\n",
       "</table>\n",
       "</div>"
      ],
      "text/plain": [
       "   Unnamed: 0  AUD_to_GBP  NEpurchases    UKpurchases   USpurchases  \\\n",
       "0           0    0.507761   838.849246  697848.116857  1.874951e+06   \n",
       "1           1    0.508658   502.963546  689378.326053  1.504030e+06   \n",
       "2           2    0.510217   856.491542  535229.615066  3.673902e+06   \n",
       "3           3    0.513378   248.206220  457024.954462  1.698697e+06   \n",
       "4           4    0.546301   390.193942   37645.488798  1.053211e+06   \n",
       "\n",
       "         date  pctUKpurchases  weekend  AUD_to_GBP2  \n",
       "0  2016-06-20        0.271152        0     0.257822  \n",
       "1  2016-06-21        0.314223        0     0.258733  \n",
       "2  2016-06-22        0.127133        0     0.260321  \n",
       "3  2016-06-23        0.211981        0     0.263557  \n",
       "4  2016-06-24        0.034498        0     0.298445  "
      ]
     },
     "execution_count": 25,
     "metadata": {},
     "output_type": "execute_result"
    }
   ],
   "source": [
    "df.head()"
   ]
  },
  {
   "cell_type": "code",
   "execution_count": 43,
   "metadata": {
    "collapsed": true
   },
   "outputs": [],
   "source": [
    "xtrain, xtest, ytrain, ytest = train_test_split(df[['NEpurchases', 'UKpurchases', 'USpurchases', 'pctUKpurchases']], \n",
    "                                                df['weekend'], test_size = .2, train_size=.8)"
   ]
  },
  {
   "cell_type": "code",
   "execution_count": 44,
   "metadata": {
    "collapsed": false
   },
   "outputs": [
    {
     "name": "stdout",
     "output_type": "stream",
     "text": [
      "Best value of k = 1 with accuracy of 0.916666666667\n"
     ]
    }
   ],
   "source": [
    "# First we consider a model with the pct of goods purchases from the UK\n",
    "accuracy = []\n",
    "for k in range(-10,11):   \n",
    "    c = 10**k\n",
    "    # train and predict model for given c\n",
    "    model = LogisticRegression(penalty = 'l2', C=c)\n",
    "    model.fit(xtrain['pctUKpurchases'].values.reshape(-1,1), ytrain)\n",
    "    ypredict = model.predict(xtest['pctUKpurchases'].values.reshape(-1,1))\n",
    "    accuracy.append((k,np.mean(ypredict==ytest)))\n",
    "\n",
    "accuracy = sorted(accuracy, key=lambda x: x[1], reverse=True)\n",
    "print(\"Best value of k = {} with accuracy of {}\".format(accuracy[0][0], accuracy[0][1]))"
   ]
  },
  {
   "cell_type": "code",
   "execution_count": 45,
   "metadata": {
    "collapsed": false
   },
   "outputs": [
    {
     "name": "stdout",
     "output_type": "stream",
     "text": [
      "Best value of k = -10 with accuracy of 0.916666666667\n"
     ]
    }
   ],
   "source": [
    "# Next we consider a model with total Australian consumer expenditures on companies from\n",
    "# the Netherlands, UK, and US\n",
    "accuracy = []\n",
    "for k in range(-10,11):   \n",
    "    c = 10**k\n",
    "    # train and predict model for given c\n",
    "    model = LogisticRegression(penalty = 'l2', C=c)\n",
    "    model.fit(xtrain[['NEpurchases', 'UKpurchases', 'USpurchases']], ytrain)\n",
    "    ypredict = model.predict(xtest[['NEpurchases', 'UKpurchases', 'USpurchases']])\n",
    "    accuracy.append((k,np.mean(ypredict==ytest)))\n",
    "\n",
    "accuracy = sorted(accuracy, key=lambda x: x[1], reverse=True)\n",
    "print(\"Best value of k = {} with accuracy of {}\".format(accuracy[0][0], accuracy[0][1]))"
   ]
  },
  {
   "cell_type": "code",
   "execution_count": 46,
   "metadata": {
    "collapsed": false
   },
   "outputs": [
    {
     "name": "stdout",
     "output_type": "stream",
     "text": [
      "Best value of k = 0 with accuracy of 1.0\n"
     ]
    }
   ],
   "source": [
    "# Here, we only consider the second model since we want to see if it \n",
    "# is going to drop any of the features\n",
    "accuracy = []\n",
    "for k in range(-10,11):   \n",
    "    c = 10**k\n",
    "    # train and predict model for given c\n",
    "    model = LogisticRegression(penalty = 'l1', C=c)\n",
    "    model.fit(xtrain[['NEpurchases', 'UKpurchases', 'USpurchases']], ytrain)\n",
    "    ypredict = model.predict(xtest[['NEpurchases', 'UKpurchases', 'USpurchases']])\n",
    "    accuracy.append((k,np.mean(ypredict==ytest)))\n",
    "\n",
    "accuracy = sorted(accuracy, key=lambda x: x[1], reverse=True)\n",
    "print(\"Best value of k = {} with accuracy of {}\".format(accuracy[0][0], accuracy[0][1]))"
   ]
  },
  {
   "cell_type": "code",
   "execution_count": 47,
   "metadata": {
    "collapsed": false
   },
   "outputs": [
    {
     "data": {
      "text/plain": [
       "array([[  1.02992958e-03,   7.97248066e-06,  -1.24400165e-05]])"
      ]
     },
     "execution_count": 47,
     "metadata": {},
     "output_type": "execute_result"
    }
   ],
   "source": [
    "# Next, we look at the features to see if they should be dropped\n",
    "c = 1\n",
    "# train and predict model for given c\n",
    "model = LogisticRegression(penalty = 'l1', C=c)\n",
    "model.fit(xtrain[['NEpurchases', 'UKpurchases', 'USpurchases']], ytrain)\n",
    "ypredict = model.predict(xtest[['NEpurchases', 'UKpurchases', 'USpurchases']])\n",
    "accuracy.append((k,np.mean(ypredict==ytest)))\n",
    "model.coef_"
   ]
  },
  {
   "cell_type": "markdown",
   "metadata": {},
   "source": [
    "We see here that UK Purchases and US purchases are the smallest in magnitued, suggesting perhaps that they are the least significant. "
   ]
  },
  {
   "cell_type": "code",
   "execution_count": 48,
   "metadata": {
    "collapsed": false
   },
   "outputs": [
    {
     "name": "stdout",
     "output_type": "stream",
     "text": [
      "Optimization terminated successfully.\n",
      "         Current function value: 0.680794\n",
      "         Iterations 4\n",
      "                           Logit Regression Results                           \n",
      "==============================================================================\n",
      "Dep. Variable:                weekend   No. Observations:                   58\n",
      "Model:                          Logit   Df Residuals:                       57\n",
      "Method:                           MLE   Df Model:                            0\n",
      "Date:                Fri, 19 Jan 2018   Pseudo R-squ.:                 -0.1558\n",
      "Time:                        01:44:04   Log-Likelihood:                -39.486\n",
      "converged:                       True   LL-Null:                       -34.162\n",
      "                                        LLR p-value:                       nan\n",
      "==================================================================================\n",
      "                     coef    std err          z      P>|z|      [95.0% Conf. Int.]\n",
      "----------------------------------------------------------------------------------\n",
      "pctUKpurchases    -1.0965      0.928     -1.181      0.238        -2.916     0.723\n",
      "==================================================================================\n",
      "Optimization terminated successfully.\n",
      "         Current function value: 0.248301\n",
      "         Iterations 8\n",
      "                           Logit Regression Results                           \n",
      "==============================================================================\n",
      "Dep. Variable:                weekend   No. Observations:                   58\n",
      "Model:                          Logit   Df Residuals:                       55\n",
      "Method:                           MLE   Df Model:                            2\n",
      "Date:                Fri, 19 Jan 2018   Pseudo R-squ.:                  0.5784\n",
      "Time:                        01:44:04   Log-Likelihood:                -14.401\n",
      "converged:                       True   LL-Null:                       -34.162\n",
      "                                        LLR p-value:                 2.618e-09\n",
      "===============================================================================\n",
      "                  coef    std err          z      P>|z|      [95.0% Conf. Int.]\n",
      "-------------------------------------------------------------------------------\n",
      "NEpurchases     0.0030      0.001      2.108      0.035         0.000     0.006\n",
      "UKpurchases  8.305e-06   3.04e-06      2.732      0.006      2.35e-06  1.43e-05\n",
      "USpurchases -8.793e-06   2.64e-06     -3.337      0.001      -1.4e-05 -3.63e-06\n",
      "===============================================================================\n"
     ]
    }
   ],
   "source": [
    "# estimate model1\n",
    "model1 = sm.Logit(df['weekend'], df[['pctUKpurchases']])\n",
    "results1 = model1.fit()\n",
    "print(results1.summary())\n",
    "\n",
    "# estimate model1\n",
    "model2 = sm.Logit(df['weekend'], df[['NEpurchases', 'UKpurchases', 'USpurchases']])\n",
    "results2 = model2.fit()\n",
    "print(results2.summary())"
   ]
  },
  {
   "cell_type": "markdown",
   "metadata": {},
   "source": [
    "Here's some interesting results, we seet hat NE Purchases are the least significant of the variables in the second model, where I would have guessed it was the most significant from the Scikit Learn regressions coefficient results, since it's coefficient is the largest. Perhaps there is ust more variance in the data resulting in more ambiguity regarding it's true effect. Because of that, if this was something I thought was important to predict (which I don't think it is), I would choose the model with UK Purchases and US Purchases since they are both significant. My gut feeling is to trust these results backed-up with statistical theory than the results from algorithms because I am less familiar with them."
   ]
  },
  {
   "cell_type": "code",
   "execution_count": null,
   "metadata": {
    "collapsed": true
   },
   "outputs": [],
   "source": []
  }
 ],
 "metadata": {
  "kernelspec": {
   "display_name": "Python [Root]",
   "language": "python",
   "name": "Python [Root]"
  },
  "language_info": {
   "codemirror_mode": {
    "name": "ipython",
    "version": 2
   },
   "file_extension": ".py",
   "mimetype": "text/x-python",
   "name": "python",
   "nbconvert_exporter": "python",
   "pygments_lexer": "ipython2",
   "version": "2.7.14"
  }
 },
 "nbformat": 4,
 "nbformat_minor": 2
}

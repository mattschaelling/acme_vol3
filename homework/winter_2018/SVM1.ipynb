{
 "cells": [
  {
   "cell_type": "code",
   "execution_count": 1,
   "metadata": {},
   "outputs": [],
   "source": [
    "import numpy as np\n",
    "import pandas as pd\n",
    "\n",
    "from sklearn import datasets\n",
    "from sklearn import preprocessing as pp\n",
    "from sklearn import model_selection as ms\n",
    "from sklearn.svm import SVC"
   ]
  },
  {
   "cell_type": "markdown",
   "metadata": {},
   "source": [
    "Apply scikit-learn's SVM classifier with both an RBF and polynomial kernels to the (`scikitlearn`) cancer dataset by:\n",
    "\n",
    "1. load and look at the data\n",
    "\n",
    "2. normalize the data so that all features have mean 0 and variance 1 (this is easy with scikit learn's preprocessing package)\n",
    "\n",
    "3. apply SVC with an RBF kernel.  Try all values of $C$ and $\\gamma$ in the set $\\{2^k | k =-5..+10\\}$ (so 121 total pairs $(C,\\gamma))$ and for each of these, do 3-fold cross validation.  Identify which pair gives the best cross-validation score.\n",
    " \n",
    "4. Repeat #3 with a polynomial kernel.  Now you also need to search over possible choices of degree (say, 1...5) and coeff0 (say 0, 1, -1), for a total of 121 x 5 x 3 different models."
   ]
  },
  {
   "cell_type": "markdown",
   "metadata": {},
   "source": [
    "### 1)"
   ]
  },
  {
   "cell_type": "code",
   "execution_count": 2,
   "metadata": {},
   "outputs": [],
   "source": [
    "cancer = datasets.load_breast_cancer()\n",
    "data = cancer['data']\n",
    "target = cancer['target']"
   ]
  },
  {
   "cell_type": "markdown",
   "metadata": {},
   "source": [
    "The first three rows of data:"
   ]
  },
  {
   "cell_type": "code",
   "execution_count": 3,
   "metadata": {},
   "outputs": [
    {
     "name": "stdout",
     "output_type": "stream",
     "text": [
      "[[  1.79900000e+01   1.03800000e+01   1.22800000e+02   1.00100000e+03\n",
      "    1.18400000e-01   2.77600000e-01   3.00100000e-01   1.47100000e-01\n",
      "    2.41900000e-01   7.87100000e-02   1.09500000e+00   9.05300000e-01\n",
      "    8.58900000e+00   1.53400000e+02   6.39900000e-03   4.90400000e-02\n",
      "    5.37300000e-02   1.58700000e-02   3.00300000e-02   6.19300000e-03\n",
      "    2.53800000e+01   1.73300000e+01   1.84600000e+02   2.01900000e+03\n",
      "    1.62200000e-01   6.65600000e-01   7.11900000e-01   2.65400000e-01\n",
      "    4.60100000e-01   1.18900000e-01]\n",
      " [  2.05700000e+01   1.77700000e+01   1.32900000e+02   1.32600000e+03\n",
      "    8.47400000e-02   7.86400000e-02   8.69000000e-02   7.01700000e-02\n",
      "    1.81200000e-01   5.66700000e-02   5.43500000e-01   7.33900000e-01\n",
      "    3.39800000e+00   7.40800000e+01   5.22500000e-03   1.30800000e-02\n",
      "    1.86000000e-02   1.34000000e-02   1.38900000e-02   3.53200000e-03\n",
      "    2.49900000e+01   2.34100000e+01   1.58800000e+02   1.95600000e+03\n",
      "    1.23800000e-01   1.86600000e-01   2.41600000e-01   1.86000000e-01\n",
      "    2.75000000e-01   8.90200000e-02]\n",
      " [  1.96900000e+01   2.12500000e+01   1.30000000e+02   1.20300000e+03\n",
      "    1.09600000e-01   1.59900000e-01   1.97400000e-01   1.27900000e-01\n",
      "    2.06900000e-01   5.99900000e-02   7.45600000e-01   7.86900000e-01\n",
      "    4.58500000e+00   9.40300000e+01   6.15000000e-03   4.00600000e-02\n",
      "    3.83200000e-02   2.05800000e-02   2.25000000e-02   4.57100000e-03\n",
      "    2.35700000e+01   2.55300000e+01   1.52500000e+02   1.70900000e+03\n",
      "    1.44400000e-01   4.24500000e-01   4.50400000e-01   2.43000000e-01\n",
      "    3.61300000e-01   8.75800000e-02]]\n"
     ]
    }
   ],
   "source": [
    "print(data[:3])"
   ]
  },
  {
   "cell_type": "markdown",
   "metadata": {},
   "source": [
    "The first three corresponding entries of target values:"
   ]
  },
  {
   "cell_type": "code",
   "execution_count": 4,
   "metadata": {},
   "outputs": [
    {
     "name": "stdout",
     "output_type": "stream",
     "text": [
      "[0 0 0]\n"
     ]
    }
   ],
   "source": [
    "print(target[:3])"
   ]
  },
  {
   "cell_type": "markdown",
   "metadata": {},
   "source": [
    "### 2)"
   ]
  },
  {
   "cell_type": "code",
   "execution_count": 5,
   "metadata": {},
   "outputs": [],
   "source": [
    "for i in range(data.shape[1]):\n",
    "    data[:,i] = pp.scale(data[:,i])"
   ]
  },
  {
   "cell_type": "markdown",
   "metadata": {},
   "source": [
    "### 3)"
   ]
  },
  {
   "cell_type": "code",
   "execution_count": 6,
   "metadata": {
    "collapsed": true
   },
   "outputs": [],
   "source": [
    "scores = []\n",
    "parameter_values = [2**k for k in range(-5,11)]\n",
    "for c in parameter_values:\n",
    "    for Gamma in parameter_values:\n",
    "        svc = SVC(C = c, kernel = \"rbf\", gamma = Gamma)\n",
    "        scores.append([c,Gamma,ms.cross_val_score(svc, data, target).mean()])"
   ]
  },
  {
   "cell_type": "code",
   "execution_count": 7,
   "metadata": {},
   "outputs": [
    {
     "name": "stdout",
     "output_type": "stream",
     "text": [
      "Best C:\t\t\t4\n",
      "Best gamma:\t\t0.03125\n",
      "Best mean accuracy:\t0.978919521025\n"
     ]
    }
   ],
   "source": [
    "scores = sorted(scores, key=lambda x:x[2], reverse=True)\n",
    "print(\"Best C:\\t\\t\\t{}\\nBest gamma:\\t\\t{}\\nBest mean accuracy:\\t{}\".format(scores[0][0], scores[0][1], scores[0][2]))"
   ]
  },
  {
   "cell_type": "markdown",
   "metadata": {},
   "source": [
    "###  4)"
   ]
  },
  {
   "cell_type": "code",
   "execution_count": 8,
   "metadata": {},
   "outputs": [],
   "source": [
    "scores2 = []\n",
    "parameter_values = [2**k for k in range(-5,5)]\n",
    "for c in parameter_values:\n",
    "    for Gamma in parameter_values:\n",
    "        for Degree in range(1,6):\n",
    "            for coef in range(-1,2):\n",
    "                svc = SVC(C = c, kernel = \"poly\", gamma = Gamma, degree = Degree, coef0 = coef)\n",
    "                scores2.append([c,Gamma,Degree, coef, ms.cross_val_score(svc, data, target).mean()])"
   ]
  },
  {
   "cell_type": "code",
   "execution_count": 9,
   "metadata": {},
   "outputs": [
    {
     "name": "stdout",
     "output_type": "stream",
     "text": [
      "Best C:\t\t\t0.125\n",
      "Best gamma:\t\t0.25\n",
      "Best degree:\t\t2\n",
      "Best Coef Value:\t1\n",
      "Best mean accuracy:\t0.980683189455\n"
     ]
    }
   ],
   "source": [
    "scores2 = sorted(scores2, key=lambda x:x[4], reverse=True)\n",
    "print(\"Best C:\\t\\t\\t{}\\nBest gamma:\\t\\t{}\\nBest degree:\\t\\t{}\\nBest Coef Value:\\t{}\\nBest mean accuracy:\\t{}\".format(scores2[0][0], \n",
    "                                                                                                                     scores2[0][1], \n",
    "                                                                                                                     scores2[0][2], \n",
    "                                                                                                                     scores2[0][3], \n",
    "                                                                                                                     scores2[0][4]))"
   ]
  },
  {
   "cell_type": "code",
   "execution_count": null,
   "metadata": {
    "collapsed": true
   },
   "outputs": [],
   "source": []
  }
 ],
 "metadata": {
  "anaconda-cloud": {},
  "kernelspec": {
   "display_name": "Python 3",
   "language": "python",
   "name": "python3"
  },
  "language_info": {
   "codemirror_mode": {
    "name": "ipython",
    "version": 3
   },
   "file_extension": ".py",
   "mimetype": "text/x-python",
   "name": "python",
   "nbconvert_exporter": "python",
   "pygments_lexer": "ipython3",
   "version": "3.6.1"
  }
 },
 "nbformat": 4,
 "nbformat_minor": 2
}

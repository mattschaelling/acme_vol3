{
 "cells": [
  {
   "cell_type": "code",
   "execution_count": 4,
   "metadata": {},
   "outputs": [
    {
     "name": "stderr",
     "output_type": "stream",
     "text": [
      "/usr/local/anaconda3/lib/python3.6/site-packages/h5py/__init__.py:34: FutureWarning: Conversion of the second argument of issubdtype from `float` to `np.floating` is deprecated. In future, it will be treated as `np.float64 == np.dtype(float).type`.\n",
      "  from ._conv import register_converters as _register_converters\n",
      "Using TensorFlow backend.\n"
     ]
    }
   ],
   "source": [
    "import numpy as np\n",
    "from keras.datasets import fashion_mnist as fmn\n",
    "from keras.models import Sequential, Model\n",
    "from keras.layers import Input, Convolution2D, MaxPooling2D, Dense, Dropout, Activation, Flatten\n",
    "from keras.utils import np_utils # utilities for one-hot encoding of ground truth values\n",
    "from keras.callbacks import EarlyStopping"
   ]
  },
  {
   "cell_type": "markdown",
   "metadata": {},
   "source": [
    "# Problem 1\n",
    "Build a CNN comparable in structure to the one in the reading you did on CNNs, but train and test it on the fashion-MNIST dataset.  Adjust some of the parameters and compare the results.  You should be able to get performance better than any of the classifiers we have used on Fashion-MNIST so far."
   ]
  },
  {
   "cell_type": "code",
   "execution_count": 8,
   "metadata": {
    "collapsed": true
   },
   "outputs": [],
   "source": [
    "batch_size = 32 # in each iteration, we consider 32 training examples at once\n",
    "num_epochs = 200 # we iterate 200 times over the entire training set\n",
    "kernel_size = 3 # we will use 3x3 kernels throughout\n",
    "pool_size = 2 # we will use 2x2 pooling throughout\n",
    "conv_depth_1 = 32 # we will initially have 32 kernels per conv. layer...\n",
    "conv_depth_2 = 64 # ...switching to 64 after the first pooling layer\n",
    "drop_prob_1 = 0.3 # dropout after pooling with probability 0.25\n",
    "drop_prob_2 = 0.5 # dropout in the FC layer with probability 0.5\n",
    "hidden_size = 512 # the FC layer will have 512 neurons"
   ]
  },
  {
   "cell_type": "code",
   "execution_count": 9,
   "metadata": {},
   "outputs": [],
   "source": [
    "(X_train, y_train), (X_test, y_test) = fmn.load_data() # fetch CIFAR-10 data"
   ]
  },
  {
   "cell_type": "code",
   "execution_count": 10,
   "metadata": {
    "collapsed": true
   },
   "outputs": [],
   "source": [
    "X_train = X_train.reshape(X_train.shape[0], X_train.shape[1], X_train.shape[2], 1)\n",
    "X_test = X_test.reshape(X_test.shape[0], X_test.shape[1], X_test.shape[2], 1)\n",
    "num_train, height, width, depth = X_train.shape # there are 50000 training examples in CIFAR-10 \n",
    "num_test = X_test.shape[0] # there are 10000 test examples in CIFAR-10\n",
    "num_classes = np.unique(y_train).shape[0] # there are 10 image classes\n",
    "\n",
    "X_train = X_train.astype('float32') \n",
    "X_test = X_test.astype('float32')\n",
    "X_train /= np.max(X_train) # Normalise data to [0, 1] range\n",
    "X_test /= np.max(X_test) # Normalise data to [0, 1] range\n",
    "\n",
    "Y_train = np_utils.to_categorical(y_train, num_classes) # One-hot encode the labels\n",
    "Y_test = np_utils.to_categorical(y_test, num_classes) # One-hot encode the labels"
   ]
  },
  {
   "cell_type": "code",
   "execution_count": 11,
   "metadata": {
    "scrolled": false
   },
   "outputs": [
    {
     "name": "stdout",
     "output_type": "stream",
     "text": [
      "Train on 54000 samples, validate on 6000 samples\n",
      "Epoch 1/200\n",
      "54000/54000 [==============================] - 141s 3ms/step - loss: 0.4530 - acc: 0.8351 - val_loss: 0.2791 - val_acc: 0.8965\n",
      "Epoch 2/200\n",
      "54000/54000 [==============================] - 131s 2ms/step - loss: 0.2946 - acc: 0.8924 - val_loss: 0.2456 - val_acc: 0.9065\n",
      "Epoch 3/200\n",
      "54000/54000 [==============================] - 130s 2ms/step - loss: 0.2584 - acc: 0.9050 - val_loss: 0.2293 - val_acc: 0.9175\n",
      "Epoch 4/200\n",
      "54000/54000 [==============================] - 127s 2ms/step - loss: 0.2351 - acc: 0.9128 - val_loss: 0.2143 - val_acc: 0.9235\n",
      "Epoch 5/200\n",
      "54000/54000 [==============================] - 127s 2ms/step - loss: 0.2168 - acc: 0.9210 - val_loss: 0.2066 - val_acc: 0.9238\n",
      "Epoch 6/200\n",
      "54000/54000 [==============================] - 133s 2ms/step - loss: 0.2072 - acc: 0.9246 - val_loss: 0.2172 - val_acc: 0.9198\n",
      "Epoch 7/200\n",
      "54000/54000 [==============================] - 131s 2ms/step - loss: 0.1956 - acc: 0.9278 - val_loss: 0.1969 - val_acc: 0.9277\n",
      "Epoch 8/200\n",
      "54000/54000 [==============================] - 131s 2ms/step - loss: 0.1842 - acc: 0.9329 - val_loss: 0.1950 - val_acc: 0.9308\n",
      "Epoch 9/200\n",
      "54000/54000 [==============================] - 130s 2ms/step - loss: 0.1771 - acc: 0.9347 - val_loss: 0.2008 - val_acc: 0.9298\n",
      "Epoch 10/200\n",
      "54000/54000 [==============================] - 128s 2ms/step - loss: 0.1728 - acc: 0.9353 - val_loss: 0.1902 - val_acc: 0.9303\n",
      "Epoch 11/200\n",
      "54000/54000 [==============================] - 132s 2ms/step - loss: 0.1667 - acc: 0.9387 - val_loss: 0.2027 - val_acc: 0.9310\n",
      "Epoch 12/200\n",
      "54000/54000 [==============================] - 132s 2ms/step - loss: 0.1622 - acc: 0.9398 - val_loss: 0.1922 - val_acc: 0.9333\n",
      "Epoch 13/200\n",
      "54000/54000 [==============================] - 129s 2ms/step - loss: 0.1585 - acc: 0.9419 - val_loss: 0.2055 - val_acc: 0.9305\n",
      "Epoch 14/200\n",
      "54000/54000 [==============================] - 126s 2ms/step - loss: 0.1506 - acc: 0.9435 - val_loss: 0.1861 - val_acc: 0.9325\n",
      "Epoch 15/200\n",
      "54000/54000 [==============================] - 130s 2ms/step - loss: 0.1453 - acc: 0.9459 - val_loss: 0.1807 - val_acc: 0.9340\n",
      "Epoch 16/200\n",
      "54000/54000 [==============================] - 124s 2ms/step - loss: 0.1426 - acc: 0.9477 - val_loss: 0.1919 - val_acc: 0.9353\n",
      "Epoch 17/200\n",
      "54000/54000 [==============================] - 128s 2ms/step - loss: 0.1425 - acc: 0.9477 - val_loss: 0.1940 - val_acc: 0.9370\n",
      "Epoch 18/200\n",
      "54000/54000 [==============================] - 124s 2ms/step - loss: 0.1372 - acc: 0.9493 - val_loss: 0.2015 - val_acc: 0.9345\n",
      "Epoch 19/200\n",
      "54000/54000 [==============================] - 125s 2ms/step - loss: 0.1327 - acc: 0.9510 - val_loss: 0.1952 - val_acc: 0.9332\n",
      "Epoch 20/200\n",
      "54000/54000 [==============================] - 125s 2ms/step - loss: 0.1335 - acc: 0.9500 - val_loss: 0.1879 - val_acc: 0.9370\n",
      "Epoch 21/200\n",
      "54000/54000 [==============================] - 124s 2ms/step - loss: 0.1285 - acc: 0.9529 - val_loss: 0.2013 - val_acc: 0.9353\n",
      "Epoch 22/200\n",
      "54000/54000 [==============================] - 133s 2ms/step - loss: 0.1252 - acc: 0.9536 - val_loss: 0.1952 - val_acc: 0.9332\n",
      "Epoch 23/200\n",
      "54000/54000 [==============================] - 125s 2ms/step - loss: 0.1256 - acc: 0.9536 - val_loss: 0.2106 - val_acc: 0.9342\n",
      "Epoch 24/200\n",
      "54000/54000 [==============================] - 125s 2ms/step - loss: 0.1273 - acc: 0.9531 - val_loss: 0.1924 - val_acc: 0.9360\n",
      "Epoch 25/200\n",
      "54000/54000 [==============================] - 125s 2ms/step - loss: 0.1226 - acc: 0.9549 - val_loss: 0.1935 - val_acc: 0.9343\n",
      "Epoch 26/200\n",
      "54000/54000 [==============================] - 126s 2ms/step - loss: 0.1198 - acc: 0.9563 - val_loss: 0.2035 - val_acc: 0.9337\n",
      "Epoch 27/200\n",
      "54000/54000 [==============================] - 128s 2ms/step - loss: 0.1209 - acc: 0.9554 - val_loss: 0.2210 - val_acc: 0.9267\n",
      "Epoch 28/200\n",
      "54000/54000 [==============================] - 125s 2ms/step - loss: 0.1163 - acc: 0.9576 - val_loss: 0.2240 - val_acc: 0.9300\n",
      "Epoch 29/200\n",
      "54000/54000 [==============================] - 125s 2ms/step - loss: 0.1171 - acc: 0.9583 - val_loss: 0.2060 - val_acc: 0.9348\n",
      "Epoch 30/200\n",
      "54000/54000 [==============================] - 125s 2ms/step - loss: 0.1154 - acc: 0.9579 - val_loss: 0.2170 - val_acc: 0.9357\n",
      "Epoch 31/200\n",
      "54000/54000 [==============================] - 128s 2ms/step - loss: 0.1156 - acc: 0.9583 - val_loss: 0.2111 - val_acc: 0.9348\n",
      "Epoch 32/200\n",
      "54000/54000 [==============================] - 126s 2ms/step - loss: 0.1139 - acc: 0.9584 - val_loss: 0.2378 - val_acc: 0.9303\n",
      "Epoch 33/200\n",
      "54000/54000 [==============================] - 125s 2ms/step - loss: 0.1106 - acc: 0.9588 - val_loss: 0.2084 - val_acc: 0.9377\n",
      "Epoch 34/200\n",
      "54000/54000 [==============================] - 126s 2ms/step - loss: 0.1132 - acc: 0.9589 - val_loss: 0.2185 - val_acc: 0.9365\n",
      "Epoch 35/200\n",
      "54000/54000 [==============================] - 124s 2ms/step - loss: 0.1126 - acc: 0.9591 - val_loss: 0.2114 - val_acc: 0.9360\n",
      "Epoch 36/200\n",
      "54000/54000 [==============================] - 129s 2ms/step - loss: 0.1123 - acc: 0.9592 - val_loss: 0.2113 - val_acc: 0.9340\n",
      "Epoch 37/200\n",
      "54000/54000 [==============================] - 132s 2ms/step - loss: 0.1060 - acc: 0.9611 - val_loss: 0.2048 - val_acc: 0.9373\n",
      "Epoch 38/200\n",
      "54000/54000 [==============================] - 124s 2ms/step - loss: 0.1095 - acc: 0.9605 - val_loss: 0.2238 - val_acc: 0.9325\n",
      "Epoch 39/200\n",
      "54000/54000 [==============================] - 124s 2ms/step - loss: 0.1041 - acc: 0.9617 - val_loss: 0.2133 - val_acc: 0.9350\n",
      "Epoch 40/200\n",
      "54000/54000 [==============================] - 123s 2ms/step - loss: 0.1083 - acc: 0.9609 - val_loss: 0.2047 - val_acc: 0.9393\n",
      "Epoch 41/200\n",
      "54000/54000 [==============================] - 133s 2ms/step - loss: 0.1090 - acc: 0.9618 - val_loss: 0.2228 - val_acc: 0.9387\n",
      "Epoch 42/200\n",
      "54000/54000 [==============================] - 124s 2ms/step - loss: 0.1034 - acc: 0.9633 - val_loss: 0.2343 - val_acc: 0.9337\n",
      "Epoch 43/200\n",
      "54000/54000 [==============================] - 124s 2ms/step - loss: 0.1034 - acc: 0.9629 - val_loss: 0.2165 - val_acc: 0.9378\n",
      "Epoch 44/200\n",
      "54000/54000 [==============================] - 124s 2ms/step - loss: 0.1057 - acc: 0.9615 - val_loss: 0.2182 - val_acc: 0.9355\n",
      "Epoch 45/200\n",
      "54000/54000 [==============================] - 124s 2ms/step - loss: 0.1061 - acc: 0.9608 - val_loss: 0.2056 - val_acc: 0.9345\n",
      "Epoch 46/200\n",
      "54000/54000 [==============================] - 136s 3ms/step - loss: 0.1066 - acc: 0.9622 - val_loss: 0.2203 - val_acc: 0.9378\n",
      "Epoch 47/200\n",
      "54000/54000 [==============================] - 128s 2ms/step - loss: 0.1019 - acc: 0.9644 - val_loss: 0.2449 - val_acc: 0.9380\n",
      "Epoch 48/200\n",
      "54000/54000 [==============================] - 140s 3ms/step - loss: 0.1008 - acc: 0.9639 - val_loss: 0.2240 - val_acc: 0.9402\n",
      "Epoch 49/200\n",
      "54000/54000 [==============================] - 128s 2ms/step - loss: 0.0993 - acc: 0.9651 - val_loss: 0.2063 - val_acc: 0.9390\n",
      "Epoch 50/200\n",
      "54000/54000 [==============================] - 134s 2ms/step - loss: 0.1053 - acc: 0.9628 - val_loss: 0.2222 - val_acc: 0.9372\n",
      "Epoch 51/200\n",
      "54000/54000 [==============================] - 132s 2ms/step - loss: 0.1024 - acc: 0.9641 - val_loss: 0.2214 - val_acc: 0.9337\n",
      "Epoch 52/200\n",
      "54000/54000 [==============================] - 125s 2ms/step - loss: 0.1022 - acc: 0.9636 - val_loss: 0.2370 - val_acc: 0.9362\n",
      "Epoch 53/200\n",
      "54000/54000 [==============================] - 125s 2ms/step - loss: 0.1005 - acc: 0.9644 - val_loss: 0.2173 - val_acc: 0.9320\n",
      "10000/10000 [==============================] - 6s 551us/step\n"
     ]
    },
    {
     "data": {
      "text/plain": [
       "[0.24831310351341962, 0.9309]"
      ]
     },
     "execution_count": 11,
     "metadata": {},
     "output_type": "execute_result"
    }
   ],
   "source": [
    "inp = Input(shape=(height, width, depth)) # depth goes last in TensorFlow back-end (first in Theano)\n",
    "# Conv [32] -> Conv [32] -> Pool (with dropout on the pooling layer)\n",
    "conv_1 = Convolution2D(conv_depth_1, (kernel_size, kernel_size), padding='same', activation='relu')(inp)\n",
    "conv_2 = Convolution2D(conv_depth_1, (kernel_size, kernel_size), padding='same', activation='relu')(conv_1)\n",
    "pool_1 = MaxPooling2D(pool_size=(pool_size, pool_size))(conv_2)\n",
    "drop_1 = Dropout(drop_prob_1)(pool_1)\n",
    "# Conv [64] -> Conv [64] -> Pool (with dropout on the pooling layer)\n",
    "conv_3 = Convolution2D(conv_depth_2, (kernel_size, kernel_size), padding='same', activation='relu')(drop_1)\n",
    "conv_4 = Convolution2D(conv_depth_2, (kernel_size, kernel_size), padding='same', activation='relu')(conv_3)\n",
    "pool_2 = MaxPooling2D(pool_size=(pool_size, pool_size))(conv_4)\n",
    "drop_2 = Dropout(drop_prob_1)(pool_2)\n",
    "# Now flatten to 1D, apply FC -> ReLU (with dropout) -> softmax\n",
    "flat = Flatten()(drop_2)\n",
    "hidden = Dense(hidden_size, activation='relu')(flat)\n",
    "drop_3 = Dropout(drop_prob_2)(hidden)\n",
    "out = Dense(num_classes, activation='softmax')(drop_3)\n",
    "\n",
    "model = Model(inputs=inp, outputs=out) # To define a model, just specify its input and output layers\n",
    "\n",
    "model.compile(loss='categorical_crossentropy', # using the cross-entropy loss function\n",
    "              optimizer='adam', # using the Adam optimiser\n",
    "              metrics=['accuracy']) # reporting the accuracy\n",
    "early_stopping = EarlyStopping(monitor='loss', patience=4)\n",
    "model.fit(X_train, Y_train,                # Train the model using the training set...\n",
    "          batch_size=batch_size, epochs=num_epochs,\n",
    "          verbose=1, validation_split=0.1,\n",
    "          callbacks=[early_stopping]) # ...holding out 10% of the data for validation\n",
    "model.evaluate(X_test, Y_test, verbose=1)  # Evaluate the trained model on the test set!"
   ]
  },
  {
   "cell_type": "markdown",
   "metadata": {},
   "source": [
    "This is indeed better than the previous neural nets that we have done. <br>\n",
    "XGBoost got 88.9% accuracy.<br>\n",
    "My first neural net assignment did very poorly. (~17% and ~40%) <br>\n",
    "My second neural net assignent clocked out just below 90% like XGBoost did."
   ]
  },
  {
   "cell_type": "code",
   "execution_count": null,
   "metadata": {
    "collapsed": true
   },
   "outputs": [],
   "source": []
  }
 ],
 "metadata": {
  "kernelspec": {
   "display_name": "Python 3",
   "language": "python",
   "name": "python3"
  },
  "language_info": {
   "codemirror_mode": {
    "name": "ipython",
    "version": 3
   },
   "file_extension": ".py",
   "mimetype": "text/x-python",
   "name": "python",
   "nbconvert_exporter": "python",
   "pygments_lexer": "ipython3",
   "version": "3.6.1"
  }
 },
 "nbformat": 4,
 "nbformat_minor": 2
}

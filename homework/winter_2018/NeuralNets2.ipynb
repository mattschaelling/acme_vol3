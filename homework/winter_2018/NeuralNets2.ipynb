{
 "cells": [
  {
   "cell_type": "code",
   "execution_count": 1,
   "metadata": {},
   "outputs": [
    {
     "name": "stderr",
     "output_type": "stream",
     "text": [
      "/usr/local/anaconda3/lib/python3.6/site-packages/h5py/__init__.py:34: FutureWarning: Conversion of the second argument of issubdtype from `float` to `np.floating` is deprecated. In future, it will be treated as `np.float64 == np.dtype(float).type`.\n",
      "  from ._conv import register_converters as _register_converters\n",
      "Using TensorFlow backend.\n"
     ]
    }
   ],
   "source": [
    "import numpy as np\n",
    "from keras.datasets import fashion_mnist as fmn\n",
    "from keras.models import Sequential\n",
    "from keras.layers import Dense\n",
    "from keras.utils import to_categorical\n",
    "from keras.callbacks import EarlyStopping\n",
    "import time\n",
    "from matplotlib import pyplot as plt"
   ]
  },
  {
   "cell_type": "markdown",
   "metadata": {},
   "source": [
    "# Problem 1\n",
    "Experiment with fully connected neural nets for classification of the Fashion-MNIST data: add at least two more layers, make all hidden layers at least 20 neurons wide, and try it with both ReLU and sigmoid activations.  Train for as many epochs as you need until the loss function (categorical cross entropy) stops improving--Keras's `callbacks.EarlyStopping` may be useful."
   ]
  },
  {
   "cell_type": "code",
   "execution_count": 2,
   "metadata": {},
   "outputs": [],
   "source": [
    "(x_train, y_train), (x_test, y_test) = fmn.load_data()\n",
    "#Flatten the inputs to Nx784 instead of Nx28x28\n",
    "x_train = x_train.reshape(len(x_train), 28*28)\n",
    "x_test = x_test.reshape(len(x_test), 28*28)"
   ]
  },
  {
   "cell_type": "code",
   "execution_count": 3,
   "metadata": {
    "collapsed": true
   },
   "outputs": [],
   "source": [
    "# convert to one-hot encoding\n",
    "y_train2 = to_categorical(y_train, num_classes=10)\n",
    "y_test2 = to_categorical(y_test, num_classes=10)"
   ]
  },
  {
   "cell_type": "code",
   "execution_count": 14,
   "metadata": {
    "collapsed": true
   },
   "outputs": [],
   "source": [
    "# build model with ReLU activation\n",
    "relu = Sequential()\n",
    "relu.add(Dense(20, input_dim=x_train.shape[1], activation='relu'))\n",
    "relu.add(Dense(20, activation='relu'))\n",
    "relu.add(Dense(20, activation='relu'))\n",
    "relu.add(Dense(10, activation='softmax'))\n",
    "relu.compile(optimizer='adam',\n",
    "             loss='categorical_crossentropy',\n",
    "             metrics=['accuracy'])"
   ]
  },
  {
   "cell_type": "code",
   "execution_count": 15,
   "metadata": {
    "scrolled": true
   },
   "outputs": [
    {
     "name": "stdout",
     "output_type": "stream",
     "text": [
      "Epoch 1/100\n",
      "60000/60000 [==============================] - 1s 14us/step - loss: 3.2518 - acc: 0.5762\n",
      "Epoch 2/100\n",
      "60000/60000 [==============================] - 1s 13us/step - loss: 0.6620 - acc: 0.7712\n",
      "Epoch 3/100\n",
      "60000/60000 [==============================] - 1s 12us/step - loss: 0.5675 - acc: 0.7992\n",
      "Epoch 4/100\n",
      "60000/60000 [==============================] - 1s 12us/step - loss: 0.5258 - acc: 0.8107\n",
      "Epoch 5/100\n",
      "60000/60000 [==============================] - 1s 12us/step - loss: 0.4942 - acc: 0.8239\n",
      "Epoch 6/100\n",
      "60000/60000 [==============================] - 1s 12us/step - loss: 0.4785 - acc: 0.8289\n",
      "Epoch 7/100\n",
      "60000/60000 [==============================] - 1s 12us/step - loss: 0.4663 - acc: 0.8333\n",
      "Epoch 8/100\n",
      "60000/60000 [==============================] - 1s 12us/step - loss: 0.4527 - acc: 0.8386\n",
      "Epoch 9/100\n",
      "60000/60000 [==============================] - 1s 12us/step - loss: 0.4425 - acc: 0.8411\n",
      "Epoch 10/100\n",
      "60000/60000 [==============================] - 1s 12us/step - loss: 0.4342 - acc: 0.8441\n",
      "Epoch 11/100\n",
      "60000/60000 [==============================] - 1s 12us/step - loss: 0.4305 - acc: 0.8440\n",
      "Epoch 12/100\n",
      "60000/60000 [==============================] - 1s 12us/step - loss: 0.4170 - acc: 0.8488\n",
      "Epoch 13/100\n",
      "60000/60000 [==============================] - 1s 12us/step - loss: 0.4162 - acc: 0.8491\n",
      "Epoch 14/100\n",
      "60000/60000 [==============================] - 1s 12us/step - loss: 0.4108 - acc: 0.8517\n",
      "Epoch 15/100\n",
      "60000/60000 [==============================] - 1s 12us/step - loss: 0.4028 - acc: 0.8548\n",
      "Epoch 16/100\n",
      "60000/60000 [==============================] - 1s 12us/step - loss: 0.3963 - acc: 0.8567\n",
      "Epoch 17/100\n",
      "60000/60000 [==============================] - 1s 12us/step - loss: 0.3921 - acc: 0.8567\n",
      "Epoch 18/100\n",
      "60000/60000 [==============================] - 1s 12us/step - loss: 0.3866 - acc: 0.8595\n",
      "Epoch 19/100\n",
      "60000/60000 [==============================] - 1s 12us/step - loss: 0.3924 - acc: 0.8569\n",
      "Epoch 20/100\n",
      "60000/60000 [==============================] - 1s 12us/step - loss: 0.3786 - acc: 0.8631\n",
      "Epoch 21/100\n",
      "60000/60000 [==============================] - 1s 13us/step - loss: 0.3769 - acc: 0.8617\n",
      "Epoch 22/100\n",
      "60000/60000 [==============================] - 1s 12us/step - loss: 0.3721 - acc: 0.8641\n",
      "Epoch 23/100\n",
      "60000/60000 [==============================] - 1s 12us/step - loss: 0.3714 - acc: 0.8638\n",
      "Epoch 24/100\n",
      "60000/60000 [==============================] - 1s 12us/step - loss: 0.3692 - acc: 0.8649\n",
      "Epoch 25/100\n",
      "60000/60000 [==============================] - 1s 12us/step - loss: 0.3615 - acc: 0.8671\n",
      "Epoch 26/100\n",
      "60000/60000 [==============================] - 1s 12us/step - loss: 0.3657 - acc: 0.8646\n",
      "Epoch 27/100\n",
      "60000/60000 [==============================] - 1s 12us/step - loss: 0.3628 - acc: 0.8661\n",
      "10000/10000 [==============================] - 0s 12us/step\n"
     ]
    }
   ],
   "source": [
    "# train and measure model performance\n",
    "start = time.time()\n",
    "early_stopping = EarlyStopping(monitor='loss', patience=2)\n",
    "history = relu.fit(x_train, y_train2, epochs=100, batch_size=128, \n",
    "                   verbose=1, callbacks=[early_stopping])\n",
    "relu_score = relu.evaluate(x_test, y_test2, batch_size=128)\n",
    "relu_time = time.time() - start"
   ]
  },
  {
   "cell_type": "code",
   "execution_count": 11,
   "metadata": {},
   "outputs": [],
   "source": [
    "# build model with sigmoid activation\n",
    "sigmoid = Sequential()\n",
    "sigmoid.add(Dense(20, input_dim=x_train.shape[1], activation='sigmoid'))\n",
    "sigmoid.add(Dense(20, activation='sigmoid'))\n",
    "sigmoid.add(Dense(20, activation='sigmoid'))\n",
    "sigmoid.add(Dense(10, activation='softmax'))\n",
    "sigmoid.compile(optimizer='adam',\n",
    "                loss='categorical_crossentropy',\n",
    "                metrics=['accuracy'])"
   ]
  },
  {
   "cell_type": "code",
   "execution_count": 12,
   "metadata": {
    "scrolled": true
   },
   "outputs": [
    {
     "name": "stdout",
     "output_type": "stream",
     "text": [
      "Epoch 1/100\n",
      "60000/60000 [==============================] - 1s 14us/step - loss: 1.8928 - acc: 0.3434\n",
      "Epoch 2/100\n",
      "60000/60000 [==============================] - 1s 12us/step - loss: 1.2900 - acc: 0.5011\n",
      "Epoch 3/100\n",
      "60000/60000 [==============================] - 1s 12us/step - loss: 1.0912 - acc: 0.5919\n",
      "Epoch 4/100\n",
      "60000/60000 [==============================] - 1s 12us/step - loss: 0.9580 - acc: 0.6449\n",
      "Epoch 5/100\n",
      "60000/60000 [==============================] - 1s 12us/step - loss: 0.8781 - acc: 0.6700\n",
      "Epoch 6/100\n",
      "60000/60000 [==============================] - 1s 12us/step - loss: 0.8392 - acc: 0.6748\n",
      "Epoch 7/100\n",
      "60000/60000 [==============================] - 1s 12us/step - loss: 0.8216 - acc: 0.6739\n",
      "Epoch 8/100\n",
      "60000/60000 [==============================] - 1s 12us/step - loss: 0.7888 - acc: 0.6925\n",
      "Epoch 9/100\n",
      "60000/60000 [==============================] - 1s 13us/step - loss: 0.7787 - acc: 0.6933\n",
      "Epoch 10/100\n",
      "60000/60000 [==============================] - 1s 13us/step - loss: 0.7529 - acc: 0.7099\n",
      "Epoch 11/100\n",
      "60000/60000 [==============================] - 1s 14us/step - loss: 0.7383 - acc: 0.7110\n",
      "Epoch 12/100\n",
      "60000/60000 [==============================] - 1s 13us/step - loss: 0.7338 - acc: 0.7141\n",
      "Epoch 13/100\n",
      "60000/60000 [==============================] - 1s 12us/step - loss: 0.7318 - acc: 0.7184\n",
      "Epoch 14/100\n",
      "60000/60000 [==============================] - 1s 13us/step - loss: 0.7497 - acc: 0.7150\n",
      "Epoch 15/100\n",
      "60000/60000 [==============================] - 1s 12us/step - loss: 0.7157 - acc: 0.7215\n",
      "Epoch 16/100\n",
      "60000/60000 [==============================] - 1s 12us/step - loss: 0.7237 - acc: 0.7116\n",
      "Epoch 17/100\n",
      "60000/60000 [==============================] - 1s 13us/step - loss: 0.7197 - acc: 0.7158\n",
      "10000/10000 [==============================] - 0s 12us/step\n"
     ]
    }
   ],
   "source": [
    "start = time.time()\n",
    "early_stopping = EarlyStopping(monitor='loss', patience=2)\n",
    "history2 = sigmoid.fit(x_train, y_train2, epochs=100, batch_size=128, \n",
    "                       verbose=1, callbacks=[early_stopping])\n",
    "sigmoid_score = sigmoid.evaluate(x_test, y_test2, batch_size=128)\n",
    "sigmoid_time = time.time() - start"
   ]
  },
  {
   "cell_type": "code",
   "execution_count": 16,
   "metadata": {},
   "outputs": [
    {
     "data": {
      "image/png": "[encoded data removed]",
      "text/plain": [
       "<matplotlib.figure.Figure at 0x7f8c2d0d9630>"
      ]
     },
     "metadata": {},
     "output_type": "display_data"
    },
    {
     "name": "stdout",
     "output_type": "stream",
     "text": [
      "TIME TO TRAIN:\n",
      "ReLU:\t\t19.770\n",
      "Sigmoid:\t13.149\n"
     ]
    }
   ],
   "source": [
    "plt.plot(history.history['acc'], label='ReLU')\n",
    "plt.plot(history2.history['acc'], label='Sigmoid')\n",
    "plt.title(\"Accuracy on Test Data from Fashion-MNIST\")\n",
    "plt.legend()\n",
    "plt.xlabel(\"Epoch\")\n",
    "plt.ylabel('Accuracy')\n",
    "plt.show()\n",
    "print(\"TIME TO TRAIN:\\nReLU:\\t\\t{:.3f}\\nSigmoid:\\t{:.3f}\".format(relu_time, sigmoid_time))"
   ]
  },
  {
   "cell_type": "markdown",
   "metadata": {},
   "source": [
    "# Problem 2\n",
    "Using the notation from class today (and from the video) calculate one iteration of backpropagation by hand (or code something to do it for you).  That is, calculate the forward pass and then the backward pass to compute both the output of the network for the current weights, and the gradient (with respect to the Ws and the bs) on a (fully connected) neural network with two hidden layers of 2 neurons each (ReLu activation), two inputs, and a single output layer having a sigmoid activation function. Use the input data $x=(1,-1)$, $y=1$, and assume the current weights are\n",
    "\n",
    "W^1 = 0.25  0.1\n",
    "            -0.2   0.9\n",
    "\n",
    "b^(1) =   0.1\n",
    "             -0.2\n",
    "\n",
    "W^(2) =  0.5   0.8\n",
    "               0.3   0.7\n",
    "\n",
    "b^(2) =  -0.3\n",
    "               0.1\n",
    "\n",
    "W^(3) =  0.1   -0.2\n",
    "\n",
    "b^(3) = 0.3$\n",
    "\n",
    "So the structure of the network looks something like this:\n",
    "\n",
    "            L_1      L_2      L_3\n",
    "            \n",
    "    x_0 ----> O ----> O ----> O ----> \n",
    "\n",
    "        \\  /        \\  /           /\n",
    "       \n",
    "         / \\         / \\         /\n",
    "        \n",
    "          x_1 ----> O ----> O\n",
    "\n",
    "where the Os here represent neurons"
   ]
  },
  {
   "cell_type": "code",
   "execution_count": 17,
   "metadata": {},
   "outputs": [],
   "source": [
    "x = np.array([1,-1])\n",
    "y = np.array([1])\n",
    "W1 = np.array([[.25,.1],\n",
    "               [-.2,.9]])\n",
    "b1 = np.array([.1, -.2])\n",
    "W2 = np.array([[.5,.8],\n",
    "               [.3,.7]])\n",
    "b2 = np.array([-.3,.1])\n",
    "W3 = np.array([[.1,-.2]])\n",
    "b3 = np.array([.3])"
   ]
  },
  {
   "cell_type": "code",
   "execution_count": 18,
   "metadata": {
    "collapsed": true
   },
   "outputs": [],
   "source": [
    "def relu(x):\n",
    "    x[x<0] = 0.\n",
    "    return x\n",
    "\n",
    "def Drelu(x):\n",
    "    x[x<=0] = 0.\n",
    "    x[x>0] = 1.\n",
    "    return x\n",
    "\n",
    "def sigmoid(x):\n",
    "    return np.exp(x)/(np.exp(x) + 1.)\n",
    "\n",
    "def Dsigmoid(x):\n",
    "    return np.exp(x)/((np.exp(x) + 1.)**2)\n",
    "\n",
    "z1 = W1.dot(x) + b1\n",
    "a1 = relu(z1)\n",
    "z2 = W2.dot(a1) + b2\n",
    "a2 = relu(z2)\n",
    "z3 = W3.dot(a2) + b3\n",
    "yhat = sigmoid(z3)"
   ]
  },
  {
   "cell_type": "code",
   "execution_count": 19,
   "metadata": {},
   "outputs": [
    {
     "data": {
      "text/plain": [
       "array([-0.        , -0.01866382])"
      ]
     },
     "execution_count": 19,
     "metadata": {},
     "output_type": "execute_result"
    }
   ],
   "source": [
    "# all of the below things are derivatives of C = .5(yhat - y)^2\n",
    "# so the first one is dC/dW3\n",
    "dW3 = (yhat - y)*Dsigmoid(z3)*a2\n",
    "dW3"
   ]
  },
  {
   "cell_type": "code",
   "execution_count": 20,
   "metadata": {},
   "outputs": [
    {
     "data": {
      "text/plain": [
       "array([-0.10665039])"
      ]
     },
     "execution_count": 20,
     "metadata": {},
     "output_type": "execute_result"
    }
   ],
   "source": [
    "db3 = (yhat - y)*Dsigmoid(z3)*1.\n",
    "db3"
   ]
  },
  {
   "cell_type": "code",
   "execution_count": 27,
   "metadata": {},
   "outputs": [
    {
     "data": {
      "text/plain": [
       "array([[0.00533252, 0.        ],\n",
       "       [0.00533252, 0.        ]])"
      ]
     },
     "execution_count": 27,
     "metadata": {},
     "output_type": "execute_result"
    }
   ],
   "source": [
    "dW2 = (yhat - y)*Dsigmoid(z3)*W3.dot(Drelu(z2))*np.outer(np.ones(2),a1)\n",
    "dW2"
   ]
  },
  {
   "cell_type": "code",
   "execution_count": 68,
   "metadata": {},
   "outputs": [
    {
     "data": {
      "text/plain": [
       "array([0.02133008, 0.02133008])"
      ]
     },
     "execution_count": 68,
     "metadata": {},
     "output_type": "execute_result"
    }
   ],
   "source": [
    "db2 = (yhat - y)*Dsigmoid(z3)*W3.dot(Drelu(z2))*np.array([1.,1.])\n",
    "db2"
   ]
  },
  {
   "cell_type": "code",
   "execution_count": 67,
   "metadata": {},
   "outputs": [
    {
     "data": {
      "text/plain": [
       "array([[0.01066504, 0.01706406],\n",
       "       [0.00639902, 0.01493105]])"
      ]
     },
     "execution_count": 67,
     "metadata": {},
     "output_type": "execute_result"
    }
   ],
   "source": [
    "dW1 = (yhat - y)*Dsigmoid(z3)*W3.dot(Drelu(z2))*(W2*(Drelu(z1).dot(x)))\n",
    "dW1"
   ]
  },
  {
   "cell_type": "code",
   "execution_count": 66,
   "metadata": {},
   "outputs": [
    {
     "data": {
      "text/plain": [
       "array([0.01066504, 0.00639902])"
      ]
     },
     "execution_count": 66,
     "metadata": {},
     "output_type": "execute_result"
    }
   ],
   "source": [
    "db1 = (yhat - y)*Dsigmoid(z3)*W3.dot(Drelu(z2))*(W2.dot(Drelu(z1)))\n",
    "db1"
   ]
  }
 ],
 "metadata": {
  "kernelspec": {
   "display_name": "Python 3",
   "language": "python",
   "name": "python3"
  },
  "language_info": {
   "codemirror_mode": {
    "name": "ipython",
    "version": 3
   },
   "file_extension": ".py",
   "mimetype": "text/x-python",
   "name": "python",
   "nbconvert_exporter": "python",
   "pygments_lexer": "ipython3",
   "version": "3.6.1"
  }
 },
 "nbformat": 4,
 "nbformat_minor": 2
}

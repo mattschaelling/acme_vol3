{
 "cells": [
  {
   "cell_type": "code",
   "execution_count": 1,
   "metadata": {
    "collapsed": true
   },
   "outputs": [],
   "source": [
    "import numpy as np\n",
    "import itertools"
   ]
  },
  {
   "cell_type": "markdown",
   "metadata": {},
   "source": [
    "# Problem 1\n",
    "(https://www.cs.sjsu.edu/~stamp/RUA/HMM.pdf)\n",
    "\n",
    "Suppose that you have trained an HMM and you obtain the model $λ = (A, B, π)$ where\n",
    "$A = \n",
    "\\begin{bmatrix}\n",
    "0.7 0.3 \\\\\n",
    "0.4 0.6\n",
    "\\end{bmatrix}$\n",
    ", $B =\n",
    "\\begin{bmatrix}\n",
    "0.1 0.4 0.5 \\\\\n",
    "0.7 0.2 0.1\n",
    "\\end{bmatrix}$\n",
    ", $π =\n",
    "\\begin{bmatrix}\n",
    "0.0 1.0\n",
    "\\end{bmatrix}$.\n",
    "\n",
    "Furthermore, suppose the hidden states correspond to $H$ and $C$, respectively, and the observations are $S$, $M$, and $L$, respectively. In this problem, we consider the observation sequence $O = (O0, O1, O2) = (M, S, L)$.\n",
    "\n",
    "\n",
    "a) Directly compute $P(O | λ)$. Since\n",
    "$P(O | λ) = \\sum_X P(O, X | λ)$, we use the probabilities in $λ = (A, B, π)$ to compute each of the following for given observation sequence:\n",
    "\n",
    "$P(O, X = HHH)$\n",
    "\n",
    "$P(O, X = HHC)$\n",
    "\n",
    "$P(O, X = HCH)$\n",
    "\n",
    "$P(O, X = HCC)$\n",
    "\n",
    "$P(O, X = CHH)$\n",
    "\n",
    "$P(O, X = CHC)$\n",
    "\n",
    "$P(O, X = CCH)$\n",
    "\n",
    "$P(O, X = CCC)$\n",
    "\n",
    "The desired probability is the sum of these 8 probabilities."
   ]
  },
  {
   "cell_type": "code",
   "execution_count": 2,
   "metadata": {
    "collapsed": false
   },
   "outputs": [
    {
     "name": "stdout",
     "output_type": "stream",
     "text": [
      "0.02488\n"
     ]
    }
   ],
   "source": [
    "A1 = np.array([[.7,.3],\n",
    "              [.4,.6]])\n",
    "B1 = np.array([[.1,.4,.5],\n",
    "              [.7,.2,.1]])\n",
    "pi1 = np.array([0., 1.])\n",
    "Obs = np.array([1,0,2])\n",
    "\n",
    "prob = 0.\n",
    "for s1 in [0,1]:\n",
    "    for s2 in [0,1]:\n",
    "        for s3 in [0,1]:\n",
    "            logprob = 0\n",
    "            #because pi1[0] = 0, we never start in H\n",
    "            if s1:\n",
    "                logprob += np.log(pi1[s1]) + np.log(B1[s1,1]) \\\n",
    "                    + np.log(A1[s1,s2]) + np.log(B1[s2,0]) \\\n",
    "                    + np.log(A1[s2,s3]) + np.log(B1[s3,2])\n",
    "                prob += np.exp(logprob)\n",
    "print(prob)"
   ]
  },
  {
   "cell_type": "markdown",
   "metadata": {},
   "source": [
    "b) Compute $P(O|λ)$ using the α pass. That is, compute\n",
    "\n",
    "$α0(0)$\n",
    "\n",
    "$α0(1)$\n",
    "\n",
    "$α1(0)$\n",
    "\n",
    "$α1(1)$\n",
    "\n",
    "$α2(0)$\n",
    "\n",
    "$α2(1)$\n",
    "\n",
    "where the recurrence for $α_t(i)$ is\n",
    "\n",
    "$α_0(i) = π_ib_i(O_0)$,    for $i = 0, 1, . . . , N − 1$\n",
    "\n",
    "and\n",
    "\n",
    "$α_t(i) = (\\sum_{j=0}^{N-1} α_{t−1}(j)a_{ji})b_i(O_t)$   for $t = 1, 2, . . . , T − 1$ and $i = 0, 1, . . . , N − 1$. \n",
    "\n",
    "The desired probability is given by\n",
    "$P(O | λ) = \\sum_{i=0}^{N-1} \\alpha_{T-1}(i)$."
   ]
  },
  {
   "cell_type": "code",
   "execution_count": 3,
   "metadata": {
    "collapsed": false
   },
   "outputs": [
    {
     "name": "stdout",
     "output_type": "stream",
     "text": [
      "0.02488\n"
     ]
    }
   ],
   "source": [
    "N = 2\n",
    "M = 3\n",
    "T = 3\n",
    "\n",
    "alpha = np.zeros((T,N))\n",
    "for i in range(N):\n",
    "    alpha[0,i] = pi1[i]*B1[i,Obs[0]]\n",
    "    \n",
    "for t in range(1,3):\n",
    "    for i in range(N):\n",
    "        alpha[t,i] = 0\n",
    "        for j in range(N):\n",
    "            alpha[t,i] = alpha[t,i] + alpha[t-1,j]*A1[j,i]\n",
    "        alpha[t,i] = alpha[t,i]*B1[i,Obs[t]]\n",
    "prob = alpha[-1].sum()\n",
    "print(prob)"
   ]
  },
  {
   "cell_type": "markdown",
   "metadata": {},
   "source": [
    "c) Explain the results you obtained for parts a) and b). Be sure to explain why you obtained the results you did."
   ]
  },
  {
   "cell_type": "markdown",
   "metadata": {
    "collapsed": true
   },
   "source": [
    "For part a) we are just calculating the probability naively. However, in part b) we are calculating the probabilities recursively so we don't have to recalculate building blocks of the probability. It's basically just calculating probabilities of getting to the given observation for each state."
   ]
  },
  {
   "cell_type": "markdown",
   "metadata": {},
   "source": [
    "d) In terms of $N$ and $T$, and counting only multiplications, what is the work factor for the method in part a)? The method in part b)?"
   ]
  },
  {
   "cell_type": "markdown",
   "metadata": {
    "collapsed": true
   },
   "source": [
    "Part a) technically has NT(N^T) calculations but I left out half of them since pi(0) = 0. <br>\n",
    "Part b) has N + (T-1)(N^2 + N)"
   ]
  },
  {
   "cell_type": "markdown",
   "metadata": {},
   "source": [
    "# Problem 2\n",
    "b) Determine the “best” hidden state sequence $(X_0, X_1, X_2)$ in the HMM sense."
   ]
  },
  {
   "cell_type": "code",
   "execution_count": 4,
   "metadata": {
    "collapsed": false
   },
   "outputs": [
    {
     "name": "stdout",
     "output_type": "stream",
     "text": [
      "[1 1 0]\n"
     ]
    }
   ],
   "source": [
    "beta = np.zeros((T,N))\n",
    "beta[-1] = np.ones(N)\n",
    "for t in range(T-2,-1,-1):\n",
    "    for i in range(N):\n",
    "        for j in range(N):\n",
    "            beta[t,i] += A1[i,j]*B1[j,Obs[t+1]]*beta[t+1,j]\n",
    "gamma = np.zeros((T,N))\n",
    "for t in range(T):\n",
    "    for i in range(N):\n",
    "        gamma[t,i] = alpha[t,i]*beta[t,i]/alpha[-1].sum()\n",
    "opt_state = np.argmax(gamma, axis=1)\n",
    "print(opt_state)"
   ]
  },
  {
   "cell_type": "markdown",
   "metadata": {},
   "source": [
    "# Problem 3\n",
    "Summing the numbers in the “probability” column of Table 1, we find\n",
    "$P(O = (0, 1, 0, 2)) = 0.009629$.\n",
    "\n",
    "a) By a similar direct calculation, compute $P(O = (O_0, O_1, O_2, O_3))$, where each $O_i ∈\n",
    "{0, 1, 2}$, and verify that $\\sum P(O) = 1$. You will use the probabilities for $A, B$ and $π$ given in equations (3), (4) and (5) in Section 1, respectively."
   ]
  },
  {
   "cell_type": "code",
   "execution_count": 5,
   "metadata": {
    "collapsed": false
   },
   "outputs": [
    {
     "name": "stdout",
     "output_type": "stream",
     "text": [
      "1.0\n"
     ]
    }
   ],
   "source": [
    "A2 = np.array([[.7,.3],\n",
    "               [.4,.6]])\n",
    "B2 = np.array([[.1,.4,.5],\n",
    "               [.7,.2,.1]])\n",
    "pi2 = np.array([.6,.4])\n",
    "\n",
    "probabilities = []\n",
    "for Obs in itertools.product([0,1,2],repeat=4):\n",
    "    prob = 0.\n",
    "    for s1 in [0,1]:\n",
    "        for s2 in [0,1]:\n",
    "            for s3 in [0,1]:\n",
    "                for s4 in [0,1]:\n",
    "                    logprob = 0\n",
    "                    logprob += np.log(pi2[s1]) + np.log(B2[s1,Obs[0]]) \\\n",
    "                        + np.log(A2[s1,s2]) + np.log(B2[s2,Obs[1]]) \\\n",
    "                        + np.log(A2[s2,s3]) + np.log(B2[s3,Obs[2]]) \\\n",
    "                        + np.log(A2[s3,s4]) + np.log(B2[s4,Obs[3]])\n",
    "                    prob += np.exp(logprob)\n",
    "    probabilities.append(prob)\n",
    "print(np.sum(probabilities))"
   ]
  },
  {
   "cell_type": "code",
   "execution_count": 6,
   "metadata": {
    "collapsed": false
   },
   "outputs": [
    {
     "name": "stdout",
     "output_type": "stream",
     "text": [
      "1.0\n"
     ]
    }
   ],
   "source": [
    "# Part B, verify using forward algorithm\n",
    "N = 2\n",
    "M = 3\n",
    "T = 4\n",
    "\n",
    "probabilities = []\n",
    "for Obs in itertools.product([0,1,2], repeat=4):\n",
    "    alpha = np.zeros((T,N))\n",
    "    for i in range(N):\n",
    "        alpha[0,i] = pi2[i]*B2[i,Obs[0]]\n",
    "\n",
    "    for t in range(1,T):\n",
    "        for i in range(N):\n",
    "            alpha[t,i] = 0\n",
    "            for j in range(N):\n",
    "                alpha[t,i] = alpha[t,i] + alpha[t-1,j]*A2[j,i]\n",
    "            alpha[t,i] = alpha[t,i]*B2[i,Obs[t]]\n",
    "    probabilities.append(alpha[-1].sum())\n",
    "print(np.sum(probabilities))"
   ]
  },
  {
   "cell_type": "markdown",
   "metadata": {},
   "source": [
    "# Problem 4\n",
    "(https://learningsuite.byu.edu/plugins/Upload/fileDownload.php?fileId=6834f119-LTeZ-19w5-WOrg-g780632e31d3)\n",
    "\n",
    "To start off your implementation of the HMM, define a class object which you should call “hmm\". Then add the initialization method, in which you should set the self aspects $A, B$, and $\\pi$ to be `None` objects. You will be adding methods throughout the remainder of the lab."
   ]
  },
  {
   "cell_type": "code",
   "execution_count": 11,
   "metadata": {
    "collapsed": true
   },
   "outputs": [],
   "source": [
    "class hmm():\n",
    "    def __init__(self, A=None, B=None, pi=None):\n",
    "        self.A = A\n",
    "        self.B = B\n",
    "        self.pi = pi\n",
    "        \n",
    "    def _forward(self, obs):\n",
    "        \"\"\"\n",
    "        Compute the scaled forward probability matrix and scaling factors.\n",
    "        Parameters\n",
    "        ----------\n",
    "        obs : ndarray of shape (T,)\n",
    "        The observation sequence\n",
    "        Returns\n",
    "        -------\n",
    "        alpha : ndarray of shape (T,N)\n",
    "        The scaled forward probability matrix\n",
    "        c : ndarray of shape (T,)\n",
    "        The scaling factors c = [c_1,c_2,...,c_T]\n",
    "        \"\"\"\n",
    "        A = self.A\n",
    "        B = self.B\n",
    "        pi = self.pi\n",
    "        T = len(obs)\n",
    "        N = self.A.shape[0]\n",
    "        alpha = np.zeros((T,N))\n",
    "        c = np.zeros(T)\n",
    "        c[0] = 1./np.dot(pi,B[obs[0]])\n",
    "        alpha[0] = c[0]*(pi*B[obs[0]])\n",
    "        for t in range(1,T):\n",
    "            c[t] = 1./np.dot(A.dot(alpha[t-1]),B[obs[t]])\n",
    "            alpha[t] = c[t]*(A.dot(alpha[t-1])*B[obs[t]])\n",
    "        return alpha, c\n",
    "            \n",
    "        \n",
    "    def _backward(self, obs, c):\n",
    "        \"\"\"\n",
    "        Compute the scaled backward probability matrix.\n",
    "        \n",
    "        Parameters\n",
    "        ----------\n",
    "        obs : ndarray of shape (T,)\n",
    "        The observation sequence\n",
    "        c : ndarray of shape (T,)\n",
    "        The scaling factors from the forward pass\n",
    "        \n",
    "        Returns\n",
    "        -------\n",
    "        beta : ndarray of shape (T,N)\n",
    "        The scaled backward probability matrix\n",
    "        \"\"\"\n",
    "        A = self.A\n",
    "        B = self.B\n",
    "        pi = self.pi\n",
    "        T = len(obs)\n",
    "        N = A.shape[0]\n",
    "        beta = np.zeros((T,N))\n",
    "        beta[-1] = c[-1]\n",
    "        for t in range(T-2,-1,-1):\n",
    "            beta[t] = c[t]*(A.T).dot(B[obs[t+1]]*beta[t+1])\n",
    "        return beta"
   ]
  },
  {
   "cell_type": "code",
   "execution_count": 12,
   "metadata": {
    "collapsed": true
   },
   "outputs": [],
   "source": [
    "# toy HMM example to be used to check answers\n",
    "A = np.array([[.7, .4],\n",
    "              [.3, .6]])\n",
    "B = np.array([[.1,.7],\n",
    "              [.4, .2],\n",
    "              [.5, .1]])\n",
    "pi = np.array([.6, .4])\n",
    "obs = np.array([0, 1, 0, 2])"
   ]
  },
  {
   "cell_type": "markdown",
   "metadata": {},
   "source": [
    "# Problem 5\n",
    "Implement the forward pass by adding the above method to your class. To verify that your code works, you should get the following output using the toy HMM:"
   ]
  },
  {
   "cell_type": "code",
   "execution_count": 13,
   "metadata": {
    "collapsed": false
   },
   "outputs": [
    {
     "name": "stdout",
     "output_type": "stream",
     "text": [
      "-4.6429135909\n"
     ]
    }
   ],
   "source": [
    "h = hmm()\n",
    "h.A = A\n",
    "h.B = B\n",
    "h.pi = pi\n",
    "alpha, c = h._forward(obs)\n",
    "print(-1*(np.log(c)).sum()) # the log prob of observation\n",
    "# Expected output should be -4.6429135909"
   ]
  },
  {
   "cell_type": "markdown",
   "metadata": {},
   "source": [
    "# Problem 6\n",
    "Implement the backward pass by adding the above method to your class. Using the same toy example as before, your code should produce the following output:"
   ]
  },
  {
   "cell_type": "code",
   "execution_count": 14,
   "metadata": {
    "collapsed": false
   },
   "outputs": [
    {
     "name": "stdout",
     "output_type": "stream",
     "text": [
      "[[ 3.1361635   2.89939354]\n",
      " [ 2.86699344  4.39229044]\n",
      " [ 3.898812    2.66760821]\n",
      " [ 3.56816483  3.56816483]]\n"
     ]
    }
   ],
   "source": [
    "beta = h._backward(obs, c)\n",
    "print(beta)\n",
    "# Expected output:\n",
    "# [[ 3.1361635 2.89939354]\n",
    "# [ 2.86699344 4.39229044]\n",
    "# [ 3.898812 2.66760821]\n",
    "# [ 3.56816483 3.56816483]]"
   ]
  }
 ],
 "metadata": {
  "kernelspec": {
   "display_name": "Python 3",
   "language": "python",
   "name": "python3"
  },
  "language_info": {
   "codemirror_mode": {
    "name": "ipython",
    "version": 3
   },
   "file_extension": ".py",
   "mimetype": "text/x-python",
   "name": "python",
   "nbconvert_exporter": "python",
   "pygments_lexer": "ipython3",
   "version": "3.5.1"
  }
 },
 "nbformat": 4,
 "nbformat_minor": 2
}

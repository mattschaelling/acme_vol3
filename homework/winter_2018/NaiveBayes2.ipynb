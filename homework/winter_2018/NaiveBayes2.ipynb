{
 "cells": [
  {
   "cell_type": "code",
   "execution_count": 54,
   "metadata": {
    "collapsed": true
   },
   "outputs": [],
   "source": [
    "import numpy as np\n",
    "from scipy import stats\n",
    "from sklearn import datasets, naive_bayes, metrics, linear_model, svm\n",
    "from sklearn import model_selection as ms\n",
    "from matplotlib import pyplot as plt\n",
    "import pandas as pd\n",
    "%matplotlib inline"
   ]
  },
  {
   "cell_type": "markdown",
   "metadata": {},
   "source": [
    "# Problem 1\n",
    "Find some aspect of your final research project where a naïve Bayes classifier is appropriate, and apply Naive Bayes to that.  Compare the result to what logistic regression and support vector machines give you on the same data. "
   ]
  },
  {
   "cell_type": "markdown",
   "metadata": {},
   "source": [
    "Below I take a dataset with default histories of credit card customers and attempt to predict whether or not a customer will default. Here, to use sklearn's naive Bayes classifier, I use only the binary variables (indicators for sex, for highest level of education, and for married) since I'm not convinced that any of the continuous variables are distributed approximately Gaussian."
   ]
  },
  {
   "cell_type": "code",
   "execution_count": 55,
   "metadata": {},
   "outputs": [
    {
     "data": {
      "text/html": [
       "<div>\n",
       "<table border=\"1\" class=\"dataframe\">\n",
       "  <thead>\n",
       "    <tr style=\"text-align: right;\">\n",
       "      <th></th>\n",
       "      <th>LIMIT_BAL</th>\n",
       "      <th>SEX</th>\n",
       "      <th>AGE</th>\n",
       "      <th>PAY_0</th>\n",
       "      <th>PAY_2</th>\n",
       "      <th>PAY_3</th>\n",
       "      <th>PAY_4</th>\n",
       "      <th>PAY_5</th>\n",
       "      <th>PAY_6</th>\n",
       "      <th>BILL_AMT1</th>\n",
       "      <th>...</th>\n",
       "      <th>default</th>\n",
       "      <th>educ: _1</th>\n",
       "      <th>educ: _2</th>\n",
       "      <th>educ: _3</th>\n",
       "      <th>educ: _4</th>\n",
       "      <th>educ: _5</th>\n",
       "      <th>educ: _6</th>\n",
       "      <th>marr: _1</th>\n",
       "      <th>marr: _2</th>\n",
       "      <th>marr: _3</th>\n",
       "    </tr>\n",
       "  </thead>\n",
       "  <tbody>\n",
       "    <tr>\n",
       "      <th>0</th>\n",
       "      <td>20000</td>\n",
       "      <td>1</td>\n",
       "      <td>24</td>\n",
       "      <td>2</td>\n",
       "      <td>2</td>\n",
       "      <td>-1</td>\n",
       "      <td>-1</td>\n",
       "      <td>-2</td>\n",
       "      <td>-2</td>\n",
       "      <td>3913</td>\n",
       "      <td>...</td>\n",
       "      <td>1</td>\n",
       "      <td>0</td>\n",
       "      <td>1</td>\n",
       "      <td>0</td>\n",
       "      <td>0</td>\n",
       "      <td>0</td>\n",
       "      <td>0</td>\n",
       "      <td>1</td>\n",
       "      <td>0</td>\n",
       "      <td>0</td>\n",
       "    </tr>\n",
       "    <tr>\n",
       "      <th>1</th>\n",
       "      <td>120000</td>\n",
       "      <td>1</td>\n",
       "      <td>26</td>\n",
       "      <td>-1</td>\n",
       "      <td>2</td>\n",
       "      <td>0</td>\n",
       "      <td>0</td>\n",
       "      <td>0</td>\n",
       "      <td>2</td>\n",
       "      <td>2682</td>\n",
       "      <td>...</td>\n",
       "      <td>1</td>\n",
       "      <td>0</td>\n",
       "      <td>1</td>\n",
       "      <td>0</td>\n",
       "      <td>0</td>\n",
       "      <td>0</td>\n",
       "      <td>0</td>\n",
       "      <td>0</td>\n",
       "      <td>1</td>\n",
       "      <td>0</td>\n",
       "    </tr>\n",
       "    <tr>\n",
       "      <th>2</th>\n",
       "      <td>90000</td>\n",
       "      <td>1</td>\n",
       "      <td>34</td>\n",
       "      <td>0</td>\n",
       "      <td>0</td>\n",
       "      <td>0</td>\n",
       "      <td>0</td>\n",
       "      <td>0</td>\n",
       "      <td>0</td>\n",
       "      <td>29239</td>\n",
       "      <td>...</td>\n",
       "      <td>0</td>\n",
       "      <td>0</td>\n",
       "      <td>1</td>\n",
       "      <td>0</td>\n",
       "      <td>0</td>\n",
       "      <td>0</td>\n",
       "      <td>0</td>\n",
       "      <td>0</td>\n",
       "      <td>1</td>\n",
       "      <td>0</td>\n",
       "    </tr>\n",
       "    <tr>\n",
       "      <th>3</th>\n",
       "      <td>50000</td>\n",
       "      <td>1</td>\n",
       "      <td>37</td>\n",
       "      <td>0</td>\n",
       "      <td>0</td>\n",
       "      <td>0</td>\n",
       "      <td>0</td>\n",
       "      <td>0</td>\n",
       "      <td>0</td>\n",
       "      <td>46990</td>\n",
       "      <td>...</td>\n",
       "      <td>0</td>\n",
       "      <td>0</td>\n",
       "      <td>1</td>\n",
       "      <td>0</td>\n",
       "      <td>0</td>\n",
       "      <td>0</td>\n",
       "      <td>0</td>\n",
       "      <td>1</td>\n",
       "      <td>0</td>\n",
       "      <td>0</td>\n",
       "    </tr>\n",
       "    <tr>\n",
       "      <th>4</th>\n",
       "      <td>50000</td>\n",
       "      <td>0</td>\n",
       "      <td>57</td>\n",
       "      <td>-1</td>\n",
       "      <td>0</td>\n",
       "      <td>-1</td>\n",
       "      <td>0</td>\n",
       "      <td>0</td>\n",
       "      <td>0</td>\n",
       "      <td>8617</td>\n",
       "      <td>...</td>\n",
       "      <td>0</td>\n",
       "      <td>0</td>\n",
       "      <td>1</td>\n",
       "      <td>0</td>\n",
       "      <td>0</td>\n",
       "      <td>0</td>\n",
       "      <td>0</td>\n",
       "      <td>1</td>\n",
       "      <td>0</td>\n",
       "      <td>0</td>\n",
       "    </tr>\n",
       "  </tbody>\n",
       "</table>\n",
       "<p>5 rows × 31 columns</p>\n",
       "</div>"
      ],
      "text/plain": [
       "   LIMIT_BAL  SEX  AGE  PAY_0  PAY_2  PAY_3  PAY_4  PAY_5  PAY_6  BILL_AMT1  \\\n",
       "0      20000    1   24      2      2     -1     -1     -2     -2       3913   \n",
       "1     120000    1   26     -1      2      0      0      0      2       2682   \n",
       "2      90000    1   34      0      0      0      0      0      0      29239   \n",
       "3      50000    1   37      0      0      0      0      0      0      46990   \n",
       "4      50000    0   57     -1      0     -1      0      0      0       8617   \n",
       "\n",
       "     ...     default  educ: _1  educ: _2  educ: _3  educ: _4  educ: _5  \\\n",
       "0    ...           1         0         1         0         0         0   \n",
       "1    ...           1         0         1         0         0         0   \n",
       "2    ...           0         0         1         0         0         0   \n",
       "3    ...           0         0         1         0         0         0   \n",
       "4    ...           0         0         1         0         0         0   \n",
       "\n",
       "   educ: _6  marr: _1  marr: _2  marr: _3  \n",
       "0         0         1         0         0  \n",
       "1         0         0         1         0  \n",
       "2         0         0         1         0  \n",
       "3         0         1         0         0  \n",
       "4         0         1         0         0  \n",
       "\n",
       "[5 rows x 31 columns]"
      ]
     },
     "execution_count": 55,
     "metadata": {},
     "output_type": "execute_result"
    }
   ],
   "source": [
    "default = pd.read_csv('default.csv')\n",
    "default.head()"
   ]
  },
  {
   "cell_type": "code",
   "execution_count": 132,
   "metadata": {},
   "outputs": [],
   "source": [
    "# We choose all the features that are distributed as Bernoulli since we want to use sklearn's naive bayes\n",
    "X = default[['SEX']+list(default.columns[22:25])+[u'marr: _1']]\n",
    "y = default['default']\n",
    "xtrain1, xtest1, ytrain1, ytest1 = ms.train_test_split(X,y,test_size=.3)"
   ]
  },
  {
   "cell_type": "code",
   "execution_count": 133,
   "metadata": {},
   "outputs": [],
   "source": [
    "# Bernoulli bnb = naive_bayes.BernoulliNB()\n",
    "bnb.fit(xtrain1,ytrain1)\n",
    "bnb_acc = (ytest1==bnb.predict(xtest1)).mean()"
   ]
  },
  {
   "cell_type": "code",
   "execution_count": 134,
   "metadata": {
    "scrolled": false
   },
   "outputs": [],
   "source": [
    "# Logistic Regression\n",
    "logistic_reg1 = linear_model.LogisticRegression()\n",
    "logistic_reg1.fit(xtrain1, ytrain1)\n",
    "logistic_reg1_acc = (ytest1==logistic_reg1.predict(xtest1)).mean()"
   ]
  },
  {
   "cell_type": "code",
   "execution_count": 135,
   "metadata": {},
   "outputs": [],
   "source": [
    "# SVC\n",
    "svc1 = svm.SVC()\n",
    "svc1.fit(xtrain1, ytrain1)\n",
    "svc1_acc = (ytest1==svc1.predict(xtest1)).mean()"
   ]
  },
  {
   "cell_type": "code",
   "execution_count": 136,
   "metadata": {},
   "outputs": [
    {
     "name": "stdout",
     "output_type": "stream",
     "text": [
      "Accuracy for the Methods\n",
      "Bernoulli Naive Bayes:\t\t0.780777777778\n",
      "Logistic Regression:\t\t0.780777777778\n",
      "Support Vector Classifier:\t0.780777777778\n"
     ]
    }
   ],
   "source": [
    "print(\"Accuracy for the Methods\\nBernoulli Naive Bayes:\\t\\t{}\\nLogistic Regression:\\t\\t{}\\nSupport Vector Classifier:\\t{}\".format(bnb_acc, logistic_reg1_acc, svc1_acc))"
   ]
  },
  {
   "cell_type": "markdown",
   "metadata": {},
   "source": [
    "I'm realy not sure what is going on with this accuracy funny business. I honestly just think that I don't have enough diverse features and that this dataset isn't easily adapted for naive Bayes because not all of the valuable feature are Bernoulli or Gaussian. If I decide to do naive Bayes on it later I will construct my own method that will approximate the distributions for all the important features. I'm sad this didn't work, but afte rmany hours I must call it done."
   ]
  },
  {
   "cell_type": "markdown",
   "metadata": {},
   "source": [
    "# Problem 2\n",
    "Plot the ROC (scikit-learn has an ROC function you can use) for the following classifiers on the scilit-learn cancer dataset\n",
    "1. naïve Bayes,\n",
    "\n",
    "2. logistic regression, and\n",
    "\n",
    "3. support vector machines (with probabilities, not just classification)"
   ]
  },
  {
   "cell_type": "code",
   "execution_count": 137,
   "metadata": {
    "collapsed": true
   },
   "outputs": [],
   "source": [
    "cancer = datasets.load_breast_cancer()\n",
    "X,y = cancer.data, cancer.target\n",
    "xtrain, xtest, ytrain, ytest = ms.train_test_split(X,y, test_size = .3)"
   ]
  },
  {
   "cell_type": "code",
   "execution_count": 138,
   "metadata": {},
   "outputs": [],
   "source": [
    "# Naive Bayes\n",
    "gnb = naive_bayes.GaussianNB()\n",
    "gnb.fit(xtrain, ytrain)\n",
    "fpr_nb, tpr_nb, thresholds_nb = metrics.roc_curve(ytest, gnb.predict_proba(xtest)[:,1])"
   ]
  },
  {
   "cell_type": "code",
   "execution_count": 139,
   "metadata": {
    "collapsed": true
   },
   "outputs": [],
   "source": [
    "# Logistic Regression\n",
    "logistic_reg = linear_model.LogisticRegression()\n",
    "logistic_reg.fit(xtrain, ytrain)\n",
    "fpr_lr, tpr_lr, thresholds_lr = metrics.roc_curve(ytest, logistic_reg.predict_proba(xtest)[:,1])"
   ]
  },
  {
   "cell_type": "code",
   "execution_count": 140,
   "metadata": {},
   "outputs": [],
   "source": [
    "# SVM\n",
    "svc = svm.SVC(probability=True)\n",
    "svc.fit(xtrain, ytrain)\n",
    "fpr_svc, tpr_svc, thresholds_svc = metrics.roc_curve(ytest, svc.predict_proba(xtest)[:,1])"
   ]
  },
  {
   "cell_type": "code",
   "execution_count": 141,
   "metadata": {},
   "outputs": [
    {
     "data": {
      "image/png": "[encoded data removed]",
      "text/plain": [
       "<matplotlib.figure.Figure at 0x12663ef0>"
      ]
     },
     "metadata": {},
     "output_type": "display_data"
    }
   ],
   "source": [
    "# Plot everything\n",
    "fig = plt.figure(figsize=(12,10))\n",
    "plt.plot([0,1],[0,1], '--')\n",
    "plt.plot(fpr_nb, tpr_nb, label=\"Naive Bayes\")\n",
    "plt.plot(fpr_lr, tpr_lr, label=\"Logistic Regression\")\n",
    "plt.plot(fpr_svc, tpr_svc, label=\"SVM\")\n",
    "\n",
    "plt.legend(loc=4)\n",
    "plt.show()"
   ]
  },
  {
   "cell_type": "markdown",
   "metadata": {},
   "source": [
    "# Problem 3\n",
    "Describe an appropriate cost function of the form a*FPR + b*FNR (that is, choose meaningful values of a and b) for the cancer dataset, assuming you are an insurance company that has to pay medical costs of treatment and also life insurance at death for each patient.  Given that cost function, use the ROC in the traditional manner (not Jarvis's new way) to identify the optimal choice of threshold τ for each of the three classifiers in part 2"
   ]
  },
  {
   "cell_type": "markdown",
   "metadata": {
    "collapsed": true
   },
   "source": [
    "First, it is important to recognize that in the dataset that y=1 if the cancer is benign and y=0 if cancer is malignant. So in this situation a False Negative corresponds to incorrectly labeling a cancerous growth as malignant which is actually benign. Conversely, a False Positive is incorrectly labeling a growth as benign when it is actually malignant. In this scenario I would say a False Positive is much more expensive for the following reasons:\n",
    "\n",
    "  - In a False Negative scenario, if a machine learning algorithm classified your growth (incorrectly) as malignant, you would be referred to a specialist where they would likely find out that your growth is benign pretty quickly. This is inexpensiv,e relative to the scenario outlined below.\n",
    "  - In a False Positive scenario, if the algorithm incorrectly classified your growth as benign rather than malignant, you would allow the growth to remain untreated as it progressed to more severe stages of cancer. In these more severe stages of cancer, the medical treatment will be significantly more intensive and more expensive for the company, and the higher probability of death will result in more life insurance claims being filed. All together this is much more expensive.\n",
    "\n",
    "Because of this all we will choose a=1 and b=.33, suggesting that a false positive is three times as bad as a false negative."
   ]
  },
  {
   "cell_type": "code",
   "execution_count": 142,
   "metadata": {},
   "outputs": [
    {
     "name": "stdout",
     "output_type": "stream",
     "text": [
      "According to the cost function previous chosen, the optimal taus are as follows:\n",
      "Naive Bayes:\t0.996425972637\n",
      "Logistic Reg:\t0.897759383464\n",
      "SVC:\t\t0.608015930139\n"
     ]
    }
   ],
   "source": [
    "def cost(fpr, tpr):\n",
    "    a,b = 1.,.33\n",
    "    return a*fpr + b*(1-tpr)\n",
    "tau_nb = thresholds_nb[np.argmin(cost(fpr_nb, tpr_nb))]\n",
    "tau_lr = thresholds_lr[np.argmin(cost(fpr_lr, tpr_lr))]\n",
    "tau_svc = thresholds_svc[np.argmin(cost(fpr_svc, tpr_svc))]\n",
    "print(\"According to the cost function previous chosen, the optimal taus are as follows:\\nNaive Bayes:\\t{}\\nLogistic Reg:\\t{}\\nSVC:\\t\\t{}\".format(tau_nb, tau_lr, tau_svc))"
   ]
  },
  {
   "cell_type": "code",
   "execution_count": 131,
   "metadata": {},
   "outputs": [
    {
     "name": "stdout",
     "output_type": "stream",
     "text": [
      "0.4553\n",
      "0.532133333333\n",
      "0.0107666666667\n"
     ]
    }
   ],
   "source": [
    "for col in default.columns[-3:]:\n",
    "    print(default[col].mean())"
   ]
  },
  {
   "cell_type": "code",
   "execution_count": null,
   "metadata": {
    "collapsed": true
   },
   "outputs": [],
   "source": []
  }
 ],
 "metadata": {
  "anaconda-cloud": {},
  "kernelspec": {
   "display_name": "Python 3",
   "language": "python",
   "name": "python3"
  },
  "language_info": {
   "codemirror_mode": {
    "name": "ipython",
    "version": 3
   },
   "file_extension": ".py",
   "mimetype": "text/x-python",
   "name": "python",
   "nbconvert_exporter": "python",
   "pygments_lexer": "ipython3",
   "version": "3.6.1"
  }
 },
 "nbformat": 4,
 "nbformat_minor": 2
}

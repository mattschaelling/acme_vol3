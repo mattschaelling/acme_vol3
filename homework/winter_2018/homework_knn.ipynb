{
 "cells": [
  {
   "cell_type": "markdown",
   "metadata": {},
   "source": [
    "    Matthew Schaelling\n",
    "    Math 404\n",
    "    Prof. Jarvis\n",
    "    January 12, 2018"
   ]
  },
  {
   "cell_type": "markdown",
   "metadata": {},
   "source": [
    "1) Load the digits in scikit learn."
   ]
  },
  {
   "cell_type": "code",
   "execution_count": 1,
   "metadata": {
    "collapsed": true
   },
   "outputs": [],
   "source": [
    "import pandas as pd\n",
    "import matplotlib.pyplot as plt\n",
    "from sklearn import datasets\n",
    "from sklearn.model_selection import train_test_split\n",
    "from sklearn.neighbors import KNeighborsClassifier as knn\n",
    "import time\n",
    "import numpy as np\n",
    "%matplotlib inline"
   ]
  },
  {
   "cell_type": "code",
   "execution_count": 2,
   "metadata": {
    "collapsed": true
   },
   "outputs": [],
   "source": [
    "digits = datasets.load_digits()\n",
    "\n",
    "# 2) Split the data into .3 test and .7 train\n",
    "xtrain, xtest, ytrain, ytest = train_test_split(digits['data'], \n",
    "                                                digits['target'], \n",
    "                                                test_size=.3, \n",
    "                                                train_size=.7)"
   ]
  },
  {
   "cell_type": "markdown",
   "metadata": {},
   "source": [
    "3) Plot the first 8 images."
   ]
  },
  {
   "cell_type": "code",
   "execution_count": 3,
   "metadata": {},
   "outputs": [
    {
     "data": {
      "image/png": "[encoded data removed]",
      "text/plain": [
       "<matplotlib.figure.Figure at 0xdecd9e8>"
      ]
     },
     "metadata": {},
     "output_type": "display_data"
    }
   ],
   "source": [
    "images_and_labels = list(zip(digits.images, digits.target))\n",
    "for index, (image, label) in enumerate(images_and_labels[:8]):\n",
    "    plt.subplot(2, 4, index + 1)\n",
    "    plt.axis('off')\n",
    "    plt.imshow(image, cmap = plt.cm.gray_r, interpolation = 'nearest')\n",
    "    plt.title('Label: %i' % label)\n",
    "plt.show()"
   ]
  },
  {
   "cell_type": "markdown",
   "metadata": {},
   "source": [
    "4) For each value of k in 1, 2, 3, 4, 5, 10, 20:\n",
    "- Time how long it takes to train the scikit-learn k-nearest neighbors classifier with brute-force algorithm neighbors.KNeighborClassifier(algorithm = 'brute') on your training set.\n",
    "- Time how long it takes to classify all the images in 1/3 of the test set (10/% of the total data), and again for 2/3, and again for the whole test set.\n",
    "- Use your full test set to evaluate accuracy of the classifier."
   ]
  },
  {
   "cell_type": "code",
   "execution_count": 4,
   "metadata": {},
   "outputs": [
    {
     "name": "stdout",
     "output_type": "stream",
     "text": [
      "\n",
      "\n",
      "k = 1\n",
      "Time to Train the Model:\t\t0.00449517579883\n",
      "Time to Classify 1/3 of Test Data:\t0.00919712065877\n",
      "Time to Classify 2/3 of Test Data:\t0.0279938231846\n",
      "Time to Classify All of Test Data:\t0.0210896237213\n",
      "Accuracy of Prediction:\t\t0.985185185185\n",
      "\n",
      "\n",
      "k = 2\n",
      "Time to Train the Model:\t\t0.000933742823596\n",
      "Time to Classify 1/3 of Test Data:\t0.00912614635803\n",
      "Time to Classify 2/3 of Test Data:\t0.0119101440737\n",
      "Time to Classify All of Test Data:\t0.0160295253091\n",
      "Accuracy of Prediction:\t\t0.981481481481\n",
      "\n",
      "\n",
      "k = 3\n",
      "Time to Train the Model:\t\t0.00103712735415\n",
      "Time to Classify 1/3 of Test Data:\t0.00835076237886\n",
      "Time to Classify 2/3 of Test Data:\t0.0191831637471\n",
      "Time to Classify All of Test Data:\t0.0278420284373\n",
      "Accuracy of Prediction:\t\t0.983333333333\n",
      "\n",
      "\n",
      "k = 4\n",
      "Time to Train the Model:\t\t0.00110974267919\n",
      "Time to Classify 1/3 of Test Data:\t0.0112582471727\n",
      "Time to Classify 2/3 of Test Data:\t0.0202001885537\n",
      "Time to Classify All of Test Data:\t0.0266818242611\n",
      "Accuracy of Prediction:\t\t0.97962962963\n",
      "\n",
      "\n",
      "k = 5\n",
      "Time to Train the Model:\t\t0.000825845476229\n",
      "Time to Classify 1/3 of Test Data:\t0.0101645044804\n",
      "Time to Classify 2/3 of Test Data:\t0.0221677766828\n",
      "Time to Classify All of Test Data:\t0.0380122765027\n",
      "Accuracy of Prediction:\t\t0.97962962963\n",
      "\n",
      "\n",
      "k = 10\n",
      "Time to Train the Model:\t\t0.000968204333781\n",
      "Time to Classify 1/3 of Test Data:\t0.0155921923346\n",
      "Time to Classify 2/3 of Test Data:\t0.0257767993626\n",
      "Time to Classify All of Test Data:\t0.0359281756487\n",
      "Accuracy of Prediction:\t\t0.968518518519\n",
      "\n",
      "\n",
      "k = 20\n",
      "Time to Train the Model:\t\t0.000808204465063\n",
      "Time to Classify 1/3 of Test Data:\t0.00833763418451\n",
      "Time to Classify 2/3 of Test Data:\t0.0194112661241\n",
      "Time to Classify All of Test Data:\t0.0302141290551\n",
      "Accuracy of Prediction:\t\t0.957407407407\n"
     ]
    }
   ],
   "source": [
    "for k in [1,2,3,4,5,10,20]:\n",
    "    print(\"\\n\\nk = {}\".format(k))\n",
    "    model = knn(algorithm = 'brute', n_neighbors=k)\n",
    "    start = time.clock()\n",
    "    model.fit(xtrain, ytrain)\n",
    "    print(\"Time to Train the Model:\\t\\t{}\".format(time.clock() - start))\n",
    "    test_length = len(xtest)\n",
    "    start = time.clock()\n",
    "    model.predict(xtest[:test_length//3])\n",
    "    print(\"Time to Classify 1/3 of Test Data:\\t{}\".format(time.clock()-start))\n",
    "    start = time.clock()\n",
    "    model.predict(xtest[:2*(test_length//3)])\n",
    "    print(\"Time to Classify 2/3 of Test Data:\\t{}\".format(time.clock()-start))\n",
    "    start = time.clock()\n",
    "    ypredict = model.predict(xtest)\n",
    "    print(\"Time to Classify All of Test Data:\\t{}\".format(time.clock()-start))\n",
    "    accuracy = np.mean(ypredict == ytest)\n",
    "    print(\"Accuracy of Prediction:\\t\\t{}\".format(accuracy))"
   ]
  },
  {
   "cell_type": "markdown",
   "metadata": {},
   "source": [
    "5) Choose a random permutation of the integers [0,...,63], and permute all the features (pixel values) of both the test and training using this permutation. Using the best choice of k (that you found in the previous step), retrain the classifier on the training set and evaluate it on the test set. The classification accuracy should be the same as for the un-permuted version. What does this say about the role of the spatial relationships in this classification algorithm?"
   ]
  },
  {
   "cell_type": "code",
   "execution_count": 5,
   "metadata": {
    "collapsed": true
   },
   "outputs": [],
   "source": [
    "xtrain2 = np.zeros_like(xtrain)\n",
    "xtest2 = np.zeros_like(xtest)\n",
    "permute = np.random.permutation(len(xtrain[0]))\n",
    "for i in range(len(xtrain)):\n",
    "    xtrain2[i] = xtrain[i][permute]\n",
    "for i in range(len(xtest)):\n",
    "    xtest2[i] = xtest[i][permute]"
   ]
  },
  {
   "cell_type": "markdown",
   "metadata": {},
   "source": [
    "My best k from the previous step is k=2."
   ]
  },
  {
   "cell_type": "code",
   "execution_count": 6,
   "metadata": {},
   "outputs": [
    {
     "name": "stdout",
     "output_type": "stream",
     "text": [
      "k = 2\n",
      "Accuracy of Prediction:\t\t0.981481481481\n"
     ]
    }
   ],
   "source": [
    "k = 2\n",
    "print(\"k = {}\".format(k))\n",
    "model = knn(algorithm = 'brute', n_neighbors=k)\n",
    "model.fit(xtrain2, ytrain)\n",
    "ypredict2 = model.predict(xtest2)\n",
    "accuracy = np.mean(ypredict2 == ytest)\n",
    "print(\"Accuracy of Prediction:\\t\\t{}\".format(accuracy))"
   ]
  },
  {
   "cell_type": "markdown",
   "metadata": {},
   "source": [
    "The accuracy is the same and this means that in our classification algorithm it doesn't take into consideration the relationship between pixels, but only the pixels individually. "
   ]
  }
 ],
 "metadata": {
  "kernelspec": {
   "display_name": "Python 3",
   "language": "python",
   "name": "python3"
  },
  "language_info": {
   "codemirror_mode": {
    "name": "ipython",
    "version": 3
   },
   "file_extension": ".py",
   "mimetype": "text/x-python",
   "name": "python",
   "nbconvert_exporter": "python",
   "pygments_lexer": "ipython3",
   "version": "3.6.1"
  }
 },
 "nbformat": 4,
 "nbformat_minor": 2
}

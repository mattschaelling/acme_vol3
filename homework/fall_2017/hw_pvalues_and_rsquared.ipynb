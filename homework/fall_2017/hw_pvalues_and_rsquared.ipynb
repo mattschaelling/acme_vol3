{
 "cells": [
  {
   "cell_type": "markdown",
   "metadata": {},
   "source": [
    "# Problem 10.13"
   ]
  },
  {
   "cell_type": "code",
   "execution_count": 2,
   "metadata": {
    "collapsed": true
   },
   "outputs": [],
   "source": [
    "import numpy as np\n",
    "import pandas as pd\n",
    "import statsmodels.api as sm\n",
    "import statsmodels.formula.api as smf"
   ]
  },
  {
   "cell_type": "code",
   "execution_count": 7,
   "metadata": {
    "collapsed": false
   },
   "outputs": [
    {
     "data": {
      "text/plain": [
       "Index([u'wage', u'educ', u'exper', u'tenure', u'nonwhite', u'female',\n",
       "       u'married', u'numdep', u'smsa', u'northcen', u'south', u'west',\n",
       "       u'construc', u'ndurman', u'trcommpu', u'trade', u'services',\n",
       "       u'profserv', u'profocc', u'clerocc', u'servocc', u'lwage', u'expersq',\n",
       "       u'tenursq'],\n",
       "      dtype='object')"
      ]
     },
     "execution_count": 7,
     "metadata": {},
     "output_type": "execute_result"
    }
   ],
   "source": [
    "df = pd.read_csv('wages.csv')\n",
    "df.columns"
   ]
  },
  {
   "cell_type": "code",
   "execution_count": 4,
   "metadata": {
    "collapsed": true
   },
   "outputs": [],
   "source": [
    "y = df['wage']\n",
    "X = df['female']\n",
    "X = sm.add_constant(X)"
   ]
  },
  {
   "cell_type": "code",
   "execution_count": 5,
   "metadata": {
    "collapsed": true
   },
   "outputs": [],
   "source": [
    "results = sm.OLS(y,X).fit()"
   ]
  },
  {
   "cell_type": "code",
   "execution_count": 6,
   "metadata": {
    "collapsed": false
   },
   "outputs": [
    {
     "name": "stdout",
     "output_type": "stream",
     "text": [
      "                            OLS Regression Results                            \n",
      "==============================================================================\n",
      "Dep. Variable:                   wage   R-squared:                       0.116\n",
      "Model:                            OLS   Adj. R-squared:                  0.114\n",
      "Method:                 Least Squares   F-statistic:                     68.54\n",
      "Date:                Tue, 05 Dec 2017   Prob (F-statistic):           1.04e-15\n",
      "Time:                        21:21:17   Log-Likelihood:                -1400.7\n",
      "No. Observations:                 526   AIC:                             2805.\n",
      "Df Residuals:                     524   BIC:                             2814.\n",
      "Df Model:                           1                                         \n",
      "Covariance Type:            nonrobust                                         \n",
      "==============================================================================\n",
      "                 coef    std err          t      P>|t|      [95.0% Conf. Int.]\n",
      "------------------------------------------------------------------------------\n",
      "const          7.0995      0.210     33.806      0.000         6.687     7.512\n",
      "female        -2.5118      0.303     -8.279      0.000        -3.108    -1.916\n",
      "==============================================================================\n",
      "Omnibus:                      223.488   Durbin-Watson:                   1.818\n",
      "Prob(Omnibus):                  0.000   Jarque-Bera (JB):              929.998\n",
      "Skew:                           1.928   Prob(JB):                    1.13e-202\n",
      "Kurtosis:                       8.250   Cond. No.                         2.57\n",
      "==============================================================================\n",
      "\n",
      "Warnings:\n",
      "[1] Standard Errors assume that the covariance matrix of the errors is correctly specified.\n"
     ]
    }
   ],
   "source": [
    "print(results.summary())"
   ]
  },
  {
   "cell_type": "markdown",
   "metadata": {},
   "source": [
    "## part i"
   ]
  },
  {
   "cell_type": "code",
   "execution_count": 8,
   "metadata": {
    "collapsed": false
   },
   "outputs": [
    {
     "name": "stdout",
     "output_type": "stream",
     "text": [
      "                            OLS Regression Results                            \n",
      "==============================================================================\n",
      "Dep. Variable:                   wage   R-squared:                       0.368\n",
      "Model:                            OLS   Adj. R-squared:                  0.362\n",
      "Method:                 Least Squares   F-statistic:                     60.61\n",
      "Date:                Tue, 05 Dec 2017   Prob (F-statistic):           1.02e-49\n",
      "Time:                        21:25:29   Log-Likelihood:                -1312.3\n",
      "No. Observations:                 526   AIC:                             2637.\n",
      "Df Residuals:                     520   BIC:                             2662.\n",
      "Df Model:                           5                                         \n",
      "Covariance Type:            nonrobust                                         \n",
      "==============================================================================\n",
      "                 coef    std err          t      P>|t|      [95.0% Conf. Int.]\n",
      "------------------------------------------------------------------------------\n",
      "const         -1.6182      0.723     -2.238      0.026        -3.039    -0.198\n",
      "female        -1.7414      0.266     -6.535      0.000        -2.265    -1.218\n",
      "educ           0.5557      0.050     11.144      0.000         0.458     0.654\n",
      "exper          0.0187      0.012      1.558      0.120        -0.005     0.042\n",
      "tenure         0.1388      0.021      6.566      0.000         0.097     0.180\n",
      "married        0.5592      0.286      1.956      0.051        -0.003     1.121\n",
      "==============================================================================\n",
      "Omnibus:                      188.464   Durbin-Watson:                   1.795\n",
      "Prob(Omnibus):                  0.000   Jarque-Bera (JB):              730.151\n",
      "Skew:                           1.611   Prob(JB):                    2.82e-159\n",
      "Kurtosis:                       7.789   Cond. No.                         141.\n",
      "==============================================================================\n",
      "\n",
      "Warnings:\n",
      "[1] Standard Errors assume that the covariance matrix of the errors is correctly specified.\n"
     ]
    }
   ],
   "source": [
    "X2 = df[['female','educ','exper','tenure','married']]\n",
    "X2 = sm.add_constant(X2)\n",
    "results2 = sm.OLS(y,X2).fit()\n",
    "print(results2.summary())"
   ]
  },
  {
   "cell_type": "markdown",
   "metadata": {},
   "source": [
    "The coefficient on **female** got smaller in magnitude, but is still a non-trivial effect and the p-value is essentially zero. Adding the other variables in the model seem to increase the explanatory power, as $R^2 = .368$ now which is a reasonable increase (however, as discussed in class, $R^2$ increases as you add variables even if they aren't actually explaining anything more). Also, most of the variables except for **experience** and possibly **married** seem to have a statistically significant effect. Thus, even when controlling for many other factors, **female** still has a strong negative effect."
   ]
  },
  {
   "cell_type": "markdown",
   "metadata": {},
   "source": [
    "## part ii"
   ]
  },
  {
   "cell_type": "code",
   "execution_count": 9,
   "metadata": {
    "collapsed": false
   },
   "outputs": [
    {
     "name": "stdout",
     "output_type": "stream",
     "text": [
      "                            OLS Regression Results                            \n",
      "==============================================================================\n",
      "Dep. Variable:                   wage   R-squared:                       0.392\n",
      "Model:                            OLS   Adj. R-squared:                  0.385\n",
      "Method:                 Least Squares   F-statistic:                     55.84\n",
      "Date:                Tue, 05 Dec 2017   Prob (F-statistic):           3.90e-53\n",
      "Time:                        21:27:19   Log-Likelihood:                -1302.1\n",
      "No. Observations:                 526   AIC:                             2618.\n",
      "Df Residuals:                     519   BIC:                             2648.\n",
      "Df Model:                           6                                         \n",
      "Covariance Type:            nonrobust                                         \n",
      "==================================================================================\n",
      "                     coef    std err          t      P>|t|      [95.0% Conf. Int.]\n",
      "----------------------------------------------------------------------------------\n",
      "const             -2.3942      0.730     -3.279      0.001        -3.829    -0.960\n",
      "female            -0.3085      0.410     -0.752      0.452        -1.114     0.497\n",
      "educ               0.5529      0.049     11.293      0.000         0.457     0.649\n",
      "exper              0.0190      0.012      1.607      0.109        -0.004     0.042\n",
      "tenure             0.1298      0.021      6.228      0.000         0.089     0.171\n",
      "married            1.8219      0.395      4.610      0.000         1.045     2.598\n",
      "married*female    -2.3953      0.528     -4.538      0.000        -3.432    -1.358\n",
      "==============================================================================\n",
      "Omnibus:                      184.455   Durbin-Watson:                   1.775\n",
      "Prob(Omnibus):                  0.000   Jarque-Bera (JB):              694.903\n",
      "Skew:                           1.585   Prob(JB):                    1.27e-151\n",
      "Kurtosis:                       7.654   Cond. No.                         160.\n",
      "==============================================================================\n",
      "\n",
      "Warnings:\n",
      "[1] Standard Errors assume that the covariance matrix of the errors is correctly specified.\n"
     ]
    }
   ],
   "source": [
    "df['married*female'] = df['married']*df['female']\n",
    "X3 = df[['female','educ','exper','tenure','married','married*female']]\n",
    "X3 = sm.add_constant(X3)\n",
    "results2 = sm.OLS(y,X3).fit()\n",
    "print(results2.summary())"
   ]
  },
  {
   "cell_type": "markdown",
   "metadata": {},
   "source": [
    "Now the coefficient for **female** is much smaller in magnitude, and is statistically insignificant, so we fail to reject the null hypothesis $H_0: \\beta_{female} = 0$. However, the coefficients on **married** and __married\\*female__ have both become much larger in magnitude and statistically significant. The effect of __married\\*female__ is very strong and the effect of __married__ is now more strongly positive. This suggests that much of the wage discrimination falls on married women."
   ]
  },
  {
   "cell_type": "code",
   "execution_count": null,
   "metadata": {
    "collapsed": true
   },
   "outputs": [],
   "source": []
  }
 ],
 "metadata": {
  "kernelspec": {
   "display_name": "Python [Root]",
   "language": "python",
   "name": "Python [Root]"
  },
  "language_info": {
   "codemirror_mode": {
    "name": "ipython",
    "version": 2
   },
   "file_extension": ".py",
   "mimetype": "text/x-python",
   "name": "python",
   "nbconvert_exporter": "python",
   "pygments_lexer": "ipython2",
   "version": "2.7.12"
  }
 },
 "nbformat": 4,
 "nbformat_minor": 0
}

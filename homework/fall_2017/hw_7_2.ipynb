{
 "cells": [
  {
   "cell_type": "markdown",
   "metadata": {},
   "source": [
    "# Homework 7.2\n",
    "    Matthew Schaelling\n",
    "    Math 402\n",
    "    November 15, 2017"
   ]
  },
  {
   "cell_type": "code",
   "execution_count": 19,
   "metadata": {
    "collapsed": true
   },
   "outputs": [],
   "source": [
    "import numpy as np\n",
    "import scipy.stats as stats\n",
    "import matplotlib.pyplot as plt\n",
    "import scipy.linalg as la\n",
    "plt.style.use('ggplot')\n",
    "%matplotlib inline"
   ]
  },
  {
   "cell_type": "markdown",
   "metadata": {},
   "source": [
    "### Problem 7.6"
   ]
  },
  {
   "cell_type": "markdown",
   "metadata": {},
   "source": [
    "Sampling from the standard normal distribution $10^5$ times, calculate a Monte Carlo estimate of the value of $\\int_{3}^{\\infty} e^{\\frac{-x^2}{2}} dx$, and estimate the standard error. Repeat the problem, smapling instead from $N(3,1)$, as in (7.3)."
   ]
  },
  {
   "cell_type": "code",
   "execution_count": 2,
   "metadata": {
    "collapsed": false
   },
   "outputs": [
    {
     "name": "stdout",
     "output_type": "stream",
     "text": [
      "Estimate Using Normal(0,1):\t0.00330874932251\n",
      "Standard Error for Normal(3,1):\t0.000287799527161\n",
      "\n",
      "Estimate Using Normal(3,1):\t0.00337019970357\n",
      "Standard Error for Normal(3,1):\t1.96352548407e-05\n"
     ]
    }
   ],
   "source": [
    "# using standard normal pdf\n",
    "n = 10**5\n",
    "samples = np.random.randn(n)\n",
    "indicator = lambda x: x >= 3\n",
    "h = lambda x: np.exp(-x**2 / 2)\n",
    "stdnormpdf = stats.norm.pdf\n",
    "# function k(x) from textbook\n",
    "kx = indicator(samples) * h(samples) / stdnormpdf(samples)\n",
    "estimate = kx.mean()\n",
    "print(\"Estimate Using Normal(0,1):\\t\"+ str(estimate))\n",
    "se = np.sqrt(np.sum((kx - estimate)**2))/n\n",
    "print(\"Standard Error for Normal(3,1):\\t\" + str(se))\n",
    "\n",
    "# using better normal pdf\n",
    "n = 10**5\n",
    "samples = stats.norm.rvs(size = n, loc = 3)\n",
    "indicator = lambda x: x >= 3\n",
    "h = lambda x: np.exp(-x**2 / 2)\n",
    "kx = indicator(samples) * h(samples) / stats.norm.pdf(samples, loc=3)\n",
    "estimate = kx.mean()\n",
    "print(\"\\nEstimate Using Normal(3,1):\\t\"+ str(estimate))\n",
    "se = np.sqrt(np.sum((kx - estimate)**2))/n\n",
    "print(\"Standard Error for Normal(3,1):\\t\" + str(se))"
   ]
  },
  {
   "cell_type": "markdown",
   "metadata": {},
   "source": [
    "### Problem 7.7"
   ]
  },
  {
   "cell_type": "markdown",
   "metadata": {},
   "source": [
    "Use importance sampling, drawing from $Beta(a,b)$ for various values of a and b, to estimate the integral $\\int_{0}^{2\\pi} \\frac{dx}{x^3+x+1} $. Find values of $a$ and $b$ and sample size $n$ that will give a standard error less than $10^{-3}$\n",
    "\n",
    "Hint: the support of $Beta(a,b)$ is $[0,1]$, but the integral is to be evaluated over $[0,2\\pi]$; so you'll need to do a change of variables to be able to calculate this with samples from $Beta(a,b)$"
   ]
  },
  {
   "cell_type": "code",
   "execution_count": 3,
   "metadata": {
    "collapsed": false
   },
   "outputs": [
    {
     "name": "stdout",
     "output_type": "stream",
     "text": [
      "Estimate Using Beta(1,4):\t0.908792609262\n",
      "Standard Error for Beta(1,4):\t0.000659228450276\n"
     ]
    }
   ],
   "source": [
    "a, b, n = 1,4,10**6\n",
    "samples = stats.beta.rvs(a,b,size=n)*2*np.pi\n",
    "h = lambda  x: 1./(x**3 + x + 1)\n",
    "kx = h(samples)*np.pi*2/stats.beta.pdf(samples/(2*np.pi), a, b)\n",
    "estimate = kx.mean()\n",
    "print(\"Estimate Using Beta({},{}):\\t\".format(a,b) + str(estimate))\n",
    "se = np.sqrt(np.sum((kx - estimate)**2))/n\n",
    "print(\"Standard Error for Beta({},{}):\\t\".format(a,b) + str(se))"
   ]
  },
  {
   "cell_type": "markdown",
   "metadata": {},
   "source": [
    "### Problem 7.8"
   ]
  },
  {
   "cell_type": "markdown",
   "metadata": {},
   "source": [
    "The c.d.f. of the exponential distribution Gamma$(1,\\lambda)$, is  $F(x) = 1 - e^{-x/\\lambda}$. Show that the inverse is  $F^{-1}(y) = -\\lambda log(1-y)$. Also prove that if $Y \\sim$  Unif(0,1), then $1-Y \\sim$ Unif(0,1). Thus, a draw from the exponential distribution can be constructed by drawing $u$ from Unif(0,1) and computing .... Use your code to draw $10^5$ times from Gamma(1,2). Plot a normed histogram of your results, and on the same graph, plot the p.d.f. of the exponential distribution for comparison."
   ]
  },
  {
   "cell_type": "markdown",
   "metadata": {},
   "source": [
    "Proof of Inverse Function: <br>\n",
    "$ y = 1 - e^{-x/\\lambda} $ <br>\n",
    "$ e^{-x/\\lambda} = 1 - y$ <br>\n",
    "$ -x/\\lambda = log(1-y)$ <br>\n",
    "$ x = -\\lambda log(1-y) $ <br>\n",
    "Thus, $F^{-1}(y) = -\\lambda log(1-y) \\blacksquare$ <br> \n",
    "<br>\n",
    "Proof of Uniform: <br>\n",
    "Because moment generating functions uniquely determine a distribution, we will show that for $Y~Unif(0,1)$, $1-Y~Unif(0,1)$ by demonstrating the MGFs are the same. <br>\n",
    "\n",
    "First, for nonzero t. <br>\n",
    "MGF for $Y$:\n",
    "> $E[e^{tY}] = \\frac{e^t - 1}{t}$ <br> <br>\n",
    "\n",
    "MGF for $1-Y$:\n",
    "> $E[e^{t(1-Y)}] = e^t E[e^{-tY}] = e^t * \\frac{e^{-t} - 1}{-t} = \\frac{1 - e^t}{-t} = \\frac{e^t - 1}{t} $\n",
    "\n",
    "Next, for zero t. <br>\n",
    "MGF for $Y$:\n",
    "> $E[e^{0Y}] = E[1] = 1$ <br> <br>\n",
    "\n",
    "MGF for $1-Y$:\n",
    "> $E[e^{0(1-Y)}] = E[1] = 1 $\n",
    "\n",
    "Thus in all cases the moment generating functions are the same and $Y$ and $1-Y$ are distributed as Unif(0,1)"
   ]
  },
  {
   "cell_type": "code",
   "execution_count": 9,
   "metadata": {
    "collapsed": false
   },
   "outputs": [
    {
     "data": {
      "image/png": "[encoded data removed]",
      "text/plain": [
       "<matplotlib.figure.Figure at 0xd07ca20>"
      ]
     },
     "metadata": {},
     "output_type": "display_data"
    }
   ],
   "source": [
    "# scale = .5\n",
    "lmbda = 2\n",
    "U = np.random.random(10**5)\n",
    "Finv = lambda x: -lmbda*np.log(x)\n",
    "inversion_sample = Finv(U)\n",
    "plt.hist(inversion_sample, normed=True, bins=1000)\n",
    "x = np.linspace(0,25,100)\n",
    "plt.plot(x, stats.gamma.pdf(x, 1, scale=lmbda))\n",
    "plt.xlim(0,25)\n",
    "plt.show()"
   ]
  },
  {
   "cell_type": "markdown",
   "metadata": {},
   "source": [
    "### Problem 7.9"
   ]
  },
  {
   "cell_type": "markdown",
   "metadata": {},
   "source": [
    "The $logistic\\ distribution$ has p.d.f. $f(x) = \\frac{e^{-x}}{(1+e^{-x})^2}$ and c.d.f. $F(x) = \\frac{1}{1+e^{-x}}$. Compute the inverse of $F$. Code up the inversion sampling algorithm sampling from the logistic distribution, and use your code to draw from the logistic distribution $10^5$ times. Plot a normed histogram of your results, and on the same graph, plot the p.d.f. of the  distribution for comparison. Using your sample, estimate the mean and variance of the distribution."
   ]
  },
  {
   "cell_type": "markdown",
   "metadata": {},
   "source": [
    "Derivation of inverse of F:<br>\n",
    "$ y = \\frac{1}{1 + e^{-x}} $ <br>\n",
    "$ e^{-x} = \\frac{1}{y} - 1 $ <br>\n",
    "$ x = -log(\\frac{1}{y} - 1) $ <br>"
   ]
  },
  {
   "cell_type": "code",
   "execution_count": 18,
   "metadata": {
    "collapsed": false
   },
   "outputs": [
    {
     "data": {
      "image/png": "[encoded data removed]",
      "text/plain": [
       "<matplotlib.figure.Figure at 0xd6e45c0>"
      ]
     },
     "metadata": {},
     "output_type": "display_data"
    },
    {
     "name": "stdout",
     "output_type": "stream",
     "text": [
      "Sample Mean:\t\t0.00185118553005\n",
      "Sample Variance:\t3.31246424769\n"
     ]
    }
   ],
   "source": [
    "U = np.random.random(10**5)\n",
    "Finv = lambda x: -np.log((1./x) - 1)\n",
    "samples = Finv(U)\n",
    "pdf = lambda x: np.exp(-x)/((1 + np.exp(-x))**2)\n",
    "x = np.linspace(-15,15,100)\n",
    "plt.hist(samples, normed=True, bins=100)\n",
    "plt.plot(x,pdf(x))\n",
    "plt.show()\n",
    "print(\"Sample Mean:\\t\\t{}\\nSample Variance:\\t{}\".format(samples.mean(), np.var(samples)))"
   ]
  },
  {
   "cell_type": "markdown",
   "metadata": {},
   "source": [
    "### Problem 7.10"
   ]
  },
  {
   "cell_type": "markdown",
   "metadata": {},
   "source": [
    "Code up a method for estimating the volume of the unit ball in $d$-dimensional space using rejection sampling. Compute estimates for these values for $d = 1,...,10$ using enough samples to get a standard error less than $10^{-2}$."
   ]
  },
  {
   "cell_type": "code",
   "execution_count": 31,
   "metadata": {
    "collapsed": false
   },
   "outputs": [
    {
     "name": "stdout",
     "output_type": "stream",
     "text": [
      "d=1\testimate: 2.0\t\tstandard error: 0.0\n",
      "d=2\testimate: 3.1416236\tstandard error: 0.410540463591\n",
      "d=3\testimate: 4.1880776\tstandard error: 0.499446988184\n",
      "d=4\testimate: 4.9319136\tstandard error: 0.461768195712\n",
      "d=5\testimate: 5.2644864\tstandard error: 0.370742429416\n",
      "d=6\testimate: 5.1726016\tstandard error: 0.272561406807\n",
      "d=7\testimate: 4.721792\tstandard error: 0.188489261442\n",
      "d=8\testimate: 4.0538112\tstandard error: 0.124837680373\n",
      "d=9\testimate: 3.3174528\tstandard error: 0.0802335177818\n",
      "d=10\testimate: 2.5498624\tstandard error: 0.0498387339525\n"
     ]
    }
   ],
   "source": [
    "n = 10**7\n",
    "for d in range(1,11):\n",
    "    samples = np.random.random((n,d))*2 - 1\n",
    "    norms = la.norm(samples, axis=1)\n",
    "    mask = norms <= 1\n",
    "    stderr = np.std(mask)\n",
    "    if d==1:\n",
    "        print(\"d={}\\testimate: {}\\t\\tstandard error: {}\".format(d,mask.mean()*2**d,stderr))\n",
    "    else:\n",
    "        print(\"d={}\\testimate: {}\\tstandard error: {}\".format(d,mask.mean()*2**d,stderr))"
   ]
  },
  {
   "cell_type": "markdown",
   "metadata": {},
   "source": [
    "### Problem 7.11"
   ]
  },
  {
   "cell_type": "markdown",
   "metadata": {},
   "source": [
    "Let P be a distribution on $[0,\\infty)$ with p.d.f. equal to $f_P(x) = \\frac{1}{Z} e^{-x^2-x^3}$ for some constant $Z > 0$ (the constant is $Z = \\int_{0}^{\\infty} f_P(x) dx$. Use rejection sampling with proposal distribution $Q\\sim$ Gamma(1,1) to sample from this distribution as follows:\n",
    "\n",
    "(i)   Find the smallest $M$ for which $e^{-x^2-x^3} \\leq Me^{-x}$ for all $x \\in [0,\\infty)$. \n",
    "\n",
    "(ii)  Show that the smallest $M$ for which $f_P(x) \\leq mf_Q(x)$ is the same as $M$ found in (i)\n",
    "\n",
    "(iii) Code up a rejection sampler that draws $z$ from Gamma(1,1) (using either the sampler you wrote for 7.8 or another sampler), draws $u$ from Unif([0,1]), and rejects any $z$ such that the corresponding $u$ is greater than $\\frac{1}{M}e^{z - z^2 - z^3}$.\n",
    "\n",
    "(iv)  Use your sampling method to draw $10^5$ times from $P$ , and plot a normed histogram of the results, along with a plot of the p.d.f. $\\ f_P(x)\\ $ (this last plot will require you to approximate $\\ Z$"
   ]
  },
  {
   "cell_type": "markdown",
   "metadata": {
    "collapsed": true
   },
   "source": [
    "Part (i):\n",
    "> $e^{-x^2 - x^3} \\leq me^{-x}$ if and only if $e^{x-x^2-x^3} \\leq m$ <br>\n",
    "$e^{x-x^2-x^3}$ has a maximum of $e^{5/27}$ at $x=\\frac{1}{3}$ so $m=e^{5/27}$\n",
    "\n",
    "Part (ii)\n",
    "> $f_Q(x) = e^{-x}$ so $\\frac{e^{-x^2 - x^3}}{Z} \\leq Me^{-x}$ if $M=\\frac{m}{Z}$ by Part (i) <br>\n",
    "Thus $\\frac{f_P(x)}{Mf_Q(x)} = \\frac{\\frac{e^{-x^2 - x^3}}{Z}}{\\frac{m}{Z}e^{-x}} = \\frac{e^{-x^2 - x^3}}{me^{-x}} $"
   ]
  },
  {
   "cell_type": "code",
   "execution_count": 37,
   "metadata": {
    "collapsed": false
   },
   "outputs": [
    {
     "data": {
      "image/png": "[encoded data removed]",
      "text/plain": [
       "<matplotlib.figure.Figure at 0xcbabcf8>"
      ]
     },
     "metadata": {},
     "output_type": "display_data"
    }
   ],
   "source": [
    "## Part iii\n",
    "# first sample from Gamma(1,1)\n",
    "unif = np.random.random(10**5)\n",
    "Finv = lambda x: -np.log(x)\n",
    "z = Finv(unif)\n",
    "\n",
    "# sample uniformly\n",
    "u = np.random.random(10**5)\n",
    "\n",
    "# keeps samples according to algorithmic rule\n",
    "function = lambda x: np.exp(x-x**2-x**3)/np.exp(5./27)\n",
    "mask = u < function(z)\n",
    "z = z[mask]\n",
    "\n",
    "\n",
    "## Part iv\n",
    "# Estimate of Z from Wolfram Alpha is .663711\n",
    "plt.hist(z, normed=True, bins=70)\n",
    "Z = .663711\n",
    "fP = lambda x: np.exp(-x**2 - x**3)/Z\n",
    "domain = np.linspace(0,2)\n",
    "plt.plot(domain, fP(domain))\n",
    "plt.show()"
   ]
  },
  {
   "cell_type": "code",
   "execution_count": null,
   "metadata": {
    "collapsed": true
   },
   "outputs": [],
   "source": []
  }
 ],
 "metadata": {
  "anaconda-cloud": {},
  "kernelspec": {
   "display_name": "Python [Root]",
   "language": "python",
   "name": "Python [Root]"
  },
  "language_info": {
   "codemirror_mode": {
    "name": "ipython",
    "version": 2
   },
   "file_extension": ".py",
   "mimetype": "text/x-python",
   "name": "python",
   "nbconvert_exporter": "python",
   "pygments_lexer": "ipython2",
   "version": "2.7.12"
  }
 },
 "nbformat": 4,
 "nbformat_minor": 0
}

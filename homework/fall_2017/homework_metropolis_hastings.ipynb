{
 "cells": [
  {
   "cell_type": "markdown",
   "metadata": {},
   "source": [
    "# Metropolis-Hastings Homework"
   ]
  },
  {
   "cell_type": "code",
   "execution_count": 1,
   "metadata": {
    "collapsed": true
   },
   "outputs": [],
   "source": [
    "import numpy as np\n",
    "import scipy.stats as stats\n",
    "import matplotlib.pyplot as plt\n",
    "plt.style.use('ggplot')\n",
    "%matplotlib inline"
   ]
  },
  {
   "cell_type": "markdown",
   "metadata": {},
   "source": [
    "### Problem 1"
   ]
  },
  {
   "cell_type": "markdown",
   "metadata": {},
   "source": [
    "Let $X = {1,...,M}$ be a finite state space and assume that $B = [b_{ij}]$ is the transition matrix for a proposal Markov chain on $X$. Let $s = (s_1,...,s_M)$ be a desired (target) stationary distribution with every $s_i > 0$. Prove that the Markov chain produced by the Metropolis-Hastings algorithm, using $B$ as the proposal, has $s$ as its stationary distribution. Hint: Prove reversibility."
   ]
  },
  {
   "cell_type": "markdown",
   "metadata": {},
   "source": [
    "Let $Q$ be the matrix produced by the Metropolis-Hastings algorithm. We show that $s$ is a stationary distribution for $Q$. To accomplish this, we show that $s$ and $Q$ together satisfy the reversibility condition, which them implies that $s$ is a stationary distribution for $Q$. <br>\n",
    "\n",
    "First, note that $q_{ij} := b_{ij}a_{ij}$ and $a_{ij} := min(1, \\frac{s_jb_{ji}}{s_ib_{ij}})$.\n",
    "\n",
    "Case 1: Assume $s_ib_{ij} < s_jb_{ji}$\n",
    "> $s_iq_{ij} = s_ib_{ij}a_{ij} = s_ib_{ij} min(1, \\frac{s_jb_{ji}}{s_ib_{ij}}) = s_ib_{ij} 1 = s_ib_{ij}$ <br>\n",
    "$s_jq_{ji} = s_jb_{ji}a_{ji} = s_jb_{ji} min(1, \\frac{s_ib_{ij}}{s_jb_{ji}}) = s_jb_{ji} \\frac{s_ib_{ij}}{s_jb_{ji}} = s_ib_{ij}$ <br>\n",
    "Hence $ s_iq_{ij} = s_jq_{ji} $.\n",
    "\n",
    "Case 2: Assume $s_ib_{ij} \\geq s_jb_{ji}$\n",
    "> $s_iq_{ij} = s_ib_{ij}a_{ij} = s_ib_{ij} min(1, \\frac{s_jb_{ji}}{s_ib_{ij}}) = s_ib_{ij} \\frac{s_jb_{ji}}{s_ib_{ij}} = s_jb_{ji}$ <br>\n",
    "$s_jq_{ji} = s_jb_{ji}a_{ji} = s_jb_{ji} min(1, \\frac{s_ib_{ij}}{s_jb_{ji}}) = s_jb_{ji} 1 = s_jb_{ji}$ <br>\n",
    "Hence $ s_iq_{ij} = s_jq_{ji} $.\n",
    "\n",
    "Thus $Q$ is reversable with state $s$. Therefore $s$ is a stationary distribution. "
   ]
  },
  {
   "cell_type": "markdown",
   "metadata": {},
   "source": [
    "### Problem 2"
   ]
  },
  {
   "cell_type": "markdown",
   "metadata": {},
   "source": [
    "Implement a Metropolis-Hastings sampler for the Zipf distribution. Your code should accept a positive integer $M$ as the number of states, a float $\\alpha > 0$ defining the target distribution $P(k) \\propto \\frac{1}{k^\\alpha}$, a positive integer $N$ as the total number of samples, an initial state $x_0$, and a positive integer $K$ as the length of the burn-in period. Your code should return an array $[x_K, x_{K+1},...,x_{K+N}]$ of samples from the Zipf distribution.\n",
    "\n",
    "* Sample with $M = 20$, $\\alpha = 2$, $N = 105$, $x_0 = 1$, and $K = 0$.\n",
    "    \n",
    "* Plot a normed histogram of your sample and on the same graph plot the target distribution (this last step will require you to compute $Z = \\sum_{k=1}^{20} \\frac{1}{k^2}$)."
   ]
  },
  {
   "cell_type": "code",
   "execution_count": 2,
   "metadata": {
    "collapsed": false
   },
   "outputs": [
    {
     "data": {
      "image/png": "[encoded data removed]",
      "text/plain": [
       "<matplotlib.figure.Figure at 0x8c72358>"
      ]
     },
     "metadata": {},
     "output_type": "display_data"
    }
   ],
   "source": [
    "def zipf_sample(M, alpha, N, x0, K):\n",
    "    ''' \n",
    "    Draws samples of Zipf distribution using \n",
    "    the Metropolis-Hasting algorithm for MCMC\n",
    "    \n",
    "    Parameters:\n",
    "    M - number of states\n",
    "    alpha - parameters for Zipf distribution\n",
    "    N - number of samples\n",
    "    x0 - initial state\n",
    "    K - number of steps to take in \"burn out\" stage\n",
    "    \n",
    "    Returns:\n",
    "    samples - samples that were drawn using \n",
    "    '''\n",
    "    s = np.array([1./(k**alpha) for k in range(1,M+1)])\n",
    "    def B(xt):\n",
    "        '''\n",
    "        Represents the transition matrix for our auxillary markov process\n",
    "        accepts 'xt' as current state\n",
    "        returns proposed state\n",
    "        '''\n",
    "        if xt==1:\n",
    "            return np.random.choice([1,2])\n",
    "        elif xt==M:\n",
    "            return np.random.choice([M-1, M])\n",
    "        else:\n",
    "            return np.random.choice([xt-1, xt+1])\n",
    "    samples = []\n",
    "    i = x0 # 'i' will represent our current state\n",
    "    A = lambda i,j: np.min([1, s[j-1]/s[i-1]]) \n",
    "    for t in range(1,N+K+1):\n",
    "        j = B(i)\n",
    "        if np.random.random() <= A(i,j):\n",
    "            i = j\n",
    "        if t > K:\n",
    "            samples.append(i)\n",
    "    return np.array(samples)\n",
    "\n",
    "\n",
    "samples = zipf_sample(20,2,10**5,1,0)\n",
    "\n",
    "# this code recenters our histogram so it looks pretty\n",
    "d = np.diff(np.unique(samples)).min()\n",
    "left_of_first_bin = samples.min() - float(d)/2\n",
    "right_of_last_bin = samples.max() + float(d)/2\n",
    "\n",
    "# calculate pmf of the Zipf distribution\n",
    "Z = np.sum([1./(k**2) for k in range(1,21)])\n",
    "X = np.linspace(1,21,1000)\n",
    "Y = stats.zipf.pmf(np.floor(X), 2)\n",
    "X = X - .5 # move the x-variables so that it lines up with the histogram appropriately\n",
    "\n",
    "# create figure\n",
    "plt.figure(figsize=(15,12))\n",
    "plt.hist(samples, np.arange(left_of_first_bin, right_of_last_bin + d, d), normed=True, label='Samples') #bins=len(np.unique(samples))\n",
    "plt.xlim(0.5,20.5)\n",
    "plt.plot(X,Y, lw=2, label='PMF')\n",
    "plt.legend()\n",
    "plt.title(\"Metropolis Hastings Samples vs PMF\")\n",
    "plt.rc('text',usetex=True)\n",
    "plt.xlabel('$x_i$')\n",
    "plt.show()"
   ]
  },
  {
   "cell_type": "code",
   "execution_count": null,
   "metadata": {
    "collapsed": true
   },
   "outputs": [],
   "source": []
  }
 ],
 "metadata": {
  "kernelspec": {
   "display_name": "Python [Root]",
   "language": "python",
   "name": "Python [Root]"
  },
  "language_info": {
   "codemirror_mode": {
    "name": "ipython",
    "version": 2
   },
   "file_extension": ".py",
   "mimetype": "text/x-python",
   "name": "python",
   "nbconvert_exporter": "python",
   "pygments_lexer": "ipython2",
   "version": "2.7.12"
  }
 },
 "nbformat": 4,
 "nbformat_minor": 2
}

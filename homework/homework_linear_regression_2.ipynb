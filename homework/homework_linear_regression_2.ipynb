{
 "cells": [
  {
   "cell_type": "code",
   "execution_count": 1,
   "metadata": {
    "collapsed": true
   },
   "outputs": [],
   "source": [
    "import numpy as np\n",
    "import scipy.linalg as la\n",
    "import time"
   ]
  },
  {
   "cell_type": "code",
   "execution_count": 2,
   "metadata": {
    "collapsed": true
   },
   "outputs": [],
   "source": [
    "def least_squares(X, Y):\n",
    "    \"\"\"Good Luck!\"\"\"\n",
    "    return la.solve(X.T.dot(X), X.T.dot(Y))\n",
    "\n",
    "def qr_least_squares(X,Y):\n",
    "    \"\"\"You can do it!\"\"\"\n",
    "    n,d = X.shape\n",
    "    Q,R = la.qr(X)\n",
    "    return la.solve_triangular(R[:d],Q.T.dot(Y)[:d])"
   ]
  },
  {
   "cell_type": "markdown",
   "metadata": {},
   "source": [
    "## 10.10. \n",
    "Code up the method of the previous problem for finding the estimator $\\beta$ using the SVD.\n",
    "\n",
    "(i) Let $n = 10^3$. Generate artificial data with three independent variables $d = 3$, by setting $X = np.random.random((n, 3))$ and let $\\beta= [1, 2, 3]$. Set $e = np.random.randn(n)$, and $y = np.dot(X, beta) + e$. \n",
    "\n",
    "(ii) Run your solver on the generated data $X$ and $Y$ and compare the result to the known value of $\\beta$. Compare the results (both for speed and accuracy) with the two methods you coded up on the last assignment (using a naïve solver and $QR$ decompositon).\n",
    "\n",
    "(iii) Let $n = 10^3$. Generate artificial data with $d = 6$ and $r = 3$, by setting $Z = np.random.random((n, 3))$ and $X = np.hstack([Z,Z])$. Let $\\beta =  [1, 2, 3, 1, 2, 3]$. Set $e = np.random.randn(n)$, and $y = np.dot(X, beta) + e$ and run your solver on this dataset. Compare to the known value of $\\beta$. How big are the residuals $Y - Yˆ$ ?"
   ]
  },
  {
   "cell_type": "code",
   "execution_count": 3,
   "metadata": {
    "collapsed": true
   },
   "outputs": [],
   "source": [
    "def svd_ols(X,Y):\n",
    "    '''\n",
    "    Calculates the basic OLS solution using\n",
    "    the singular value decomposition\n",
    "    '''\n",
    "    n,d = X.shape\n",
    "    U, s, Vh = la.svd(X)\n",
    "    r = np.argmin(s)\n",
    "    sig1inv = np.diag(1./s[:r])\n",
    "    V1 = Vh.T[:d,:r]\n",
    "    A = U.T.dot(Y)[:r]\n",
    "    beta = V1.dot(sig1inv.dot(A))\n",
    "    return beta"
   ]
  },
  {
   "cell_type": "code",
   "execution_count": 4,
   "metadata": {
    "collapsed": false
   },
   "outputs": [],
   "source": [
    "# part i\n",
    "n = 10**3\n",
    "d = 3\n",
    "X = np.random.random((n,d))\n",
    "beta = np.array([1,2,3])\n",
    "e = np.random.randn(n)\n",
    "y = np.dot(X,beta) + e"
   ]
  },
  {
   "cell_type": "code",
   "execution_count": 9,
   "metadata": {
    "collapsed": false
   },
   "outputs": [
    {
     "name": "stdout",
     "output_type": "stream",
     "text": [
      "\tTime:\t\t\tAccuracy:\n",
      "SVD:\t0.00819732324432\t0.742563492177\n",
      "QR: \t0.020869307648\t\t0.189311672004\n",
      "Naive:\t0.000317948326629\t0.189311672004\n"
     ]
    }
   ],
   "source": [
    "# part ii\n",
    "start = time.clock()\n",
    "bhat_svd = svd_ols(X,y)\n",
    "svd_time = time.clock() - start\n",
    "svd_error = la.norm(bhat_svd - beta)\n",
    "\n",
    "start = time.clock()\n",
    "bhat_qr = qr_least_squares(X,y)\n",
    "qr_time = time.clock() - start\n",
    "qr_error = la.norm(bhat_qr - beta)\n",
    "\n",
    "start = time.clock()\n",
    "bhat_naive = least_squares(X,y)\n",
    "naive_time = time.clock() - start\n",
    "naive_error = la.norm(bhat_naive - beta)\n",
    "\n",
    "print(\"\\tTime:\\t\\t\\tAccuracy:\\nSVD:\\t{}\\t{}\\nQR: \\t{}\\t\\t{}\\nNaive:\\t{}\\t{}\".format(\n",
    "    svd_time, svd_error, qr_time, qr_error, naive_time, naive_error))"
   ]
  },
  {
   "cell_type": "markdown",
   "metadata": {},
   "source": [
    "The accuracy is defined to be $||  \\hat{\\beta}_{method} - \\beta  ||$"
   ]
  },
  {
   "cell_type": "code",
   "execution_count": 6,
   "metadata": {
    "collapsed": false
   },
   "outputs": [],
   "source": [
    "# part iii\n",
    "n2 = 10**3\n",
    "d2 = 6\n",
    "r2 = 3\n",
    "Z = np.random.random((n2,3))\n",
    "X2 = np.hstack([Z,Z])\n",
    "beta2 = np.array([1,2,3,1,2,3])\n",
    "e2 = np.random.randn(n)\n",
    "y2 = np.dot(X2, beta2) + e"
   ]
  },
  {
   "cell_type": "code",
   "execution_count": 7,
   "metadata": {
    "collapsed": false
   },
   "outputs": [
    {
     "name": "stdout",
     "output_type": "stream",
     "text": [
      "Error for beta hat:\t\t1.05046324864e+15\n",
      "Sum of Squared Residuals:\t972.324144145\n",
      "R^2:\t\t\t\t0.83485073638\n"
     ]
    }
   ],
   "source": [
    "bhat2 = svd_ols(X2, y2)\n",
    "ehat2 = y2 - X2.dot(bhat2)\n",
    "print_statement = \"Error for beta hat:\\t\\t{}\\nSum of Squared Residuals:\\t{}\\nR^2:\\t\\t\\t\\t{}\"\n",
    "print(print_statement.format(la.norm(bhat2 - beta2), \n",
    "                       np.dot(ehat2,ehat2), \n",
    "                       1 - np.dot(ehat2,ehat2)/np.dot(y2-y2.mean(), y2-y2.mean())))"
   ]
  },
  {
   "cell_type": "code",
   "execution_count": null,
   "metadata": {
    "collapsed": true
   },
   "outputs": [],
   "source": []
  }
 ],
 "metadata": {
  "kernelspec": {
   "display_name": "Python [Root]",
   "language": "python",
   "name": "Python [Root]"
  },
  "language_info": {
   "codemirror_mode": {
    "name": "ipython",
    "version": 2
   },
   "file_extension": ".py",
   "mimetype": "text/x-python",
   "name": "python",
   "nbconvert_exporter": "python",
   "pygments_lexer": "ipython2",
   "version": "2.7.12"
  }
 },
 "nbformat": 4,
 "nbformat_minor": 0
}

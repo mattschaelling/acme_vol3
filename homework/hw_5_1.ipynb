{
 "cells": [
  {
   "cell_type": "code",
   "execution_count": 56,
   "metadata": {
    "collapsed": true
   },
   "outputs": [],
   "source": [
    "import numpy as np\n",
    "import matplotlib.pyplot as plt\n",
    "import scipy.stats as stats\n",
    "%matplotlib inline"
   ]
  },
  {
   "cell_type": "markdown",
   "metadata": {},
   "source": [
    "## Problem 5.1\n",
    "\n",
    "Let $X = Z^2$, where $Z \\sim N(0, 1)$ is a standard normal.  The random variable $X$ has a ${chi-squared}$ distribution with 1 degree of freedom.  For each of the following problems calculate the answer in the following two ways:"
   ]
  },
  {
   "cell_type": "markdown",
   "metadata": {},
   "source": [
    "(A). using Monte Carlo methods, sampling with $numpy.random.randn$, and taking the number of samples equal to $10^k$ for each value of $k$ = 2, 4, 6."
   ]
  },
  {
   "cell_type": "markdown",
   "metadata": {},
   "source": [
    "(B). using the appropriate built-in function from $scipy.stats.chi2$ and compare the results of the previous conputations."
   ]
  },
  {
   "cell_type": "markdown",
   "metadata": {},
   "source": [
    "(i) Plot the p.d.f. of your random variable $X$ (experiment to find a good number of bins for your histogram)"
   ]
  },
  {
   "cell_type": "code",
   "execution_count": 62,
   "metadata": {
    "collapsed": false
   },
   "outputs": [
    {
     "data": {
      "image/png": "[encoded data removed]",
      "text/plain": [
       "<matplotlib.figure.Figure at 0xcd3cc88>"
      ]
     },
     "metadata": {},
     "output_type": "display_data"
    },
    {
     "data": {
      "image/png": "[encoded data removed]",
      "text/plain": [
       "<matplotlib.figure.Figure at 0xc6d1e48>"
      ]
     },
     "metadata": {},
     "output_type": "display_data"
    },
    {
     "data": {
      "image/png": "[encoded data removed]",
      "text/plain": [
       "<matplotlib.figure.Figure at 0x1080e048>"
      ]
     },
     "metadata": {},
     "output_type": "display_data"
    }
   ],
   "source": [
    "for k in range(2,7,2):\n",
    "    # draw samples\n",
    "    samples = np.random.randn(10**k)**2\n",
    "    \n",
    "    # make graphs\n",
    "    plt.hist(samples, bins = 50, normed=True)\n",
    "    plt.title(\"Chi-squared pdf, N = 10^{}\".format(k))\n",
    "    X = np.linspace(0,samples.max(),500)\n",
    "    plt.plot(X,stats.chi2(1).pdf(X))\n",
    "    plt.show()"
   ]
  },
  {
   "cell_type": "markdown",
   "metadata": {},
   "source": [
    "(ii) Compute the c.d.f. $F_{x}(x)$ for $x$ = 0.5, 1.0, 1.5."
   ]
  },
  {
   "cell_type": "code",
   "execution_count": 73,
   "metadata": {
    "collapsed": false
   },
   "outputs": [
    {
     "name": "stdout",
     "output_type": "stream",
     "text": [
      "n\testimate\tactual\t\terror\n",
      "\n",
      "\n",
      "--- x = 0.5 ---\n",
      "10^2\t0.49\t\t0.520499877813\t0.0305\n",
      "10^4\t0.5291\t\t0.520499877813\t0.0086\n",
      "10^6\t0.51973\t\t0.520499877813\t0.00077\n",
      "\n",
      "--- x = 1.0 ---\n",
      "10^2\t0.76\t\t0.682689492137\t0.07731\n",
      "10^4\t0.684\t\t0.682689492137\t0.00131\n",
      "10^6\t0.68302\t\t0.682689492137\t0.00033\n",
      "\n",
      "--- x = 1.5 ---\n",
      "10^2\t0.74\t\t0.77932863808\t0.03933\n",
      "10^4\t0.7801\t\t0.77932863808\t0.00077\n",
      "10^6\t0.77962\t\t0.77932863808\t0.00029\n"
     ]
    }
   ],
   "source": [
    "print(\"n\\testimate\\tactual\\t\\terror\\n\")\n",
    "\n",
    "# loop over values of x\n",
    "for x in [.5,1.,1.5]:\n",
    "    print(\"\\n--- x = {} ---\".format(x))\n",
    "    \n",
    "    # loop over k\n",
    "    for k in range(2,7,2):\n",
    "        \n",
    "        # draw samples and calculate estimate\n",
    "        samples = np.random.randn(10**k)**2\n",
    "        estimate = np.mean((samples <= x)*1)\n",
    "        error = np.abs(stats.chi2(1).cdf(x) - estimate)\n",
    "        \n",
    "        # round estimate so that things print out in a pretty way\n",
    "        if k == 6:\n",
    "            estimate = round(estimate,5)\n",
    "            \n",
    "        # print results\n",
    "        print(\"10^{}\\t{}\\t\\t{}\\t{}\".format(k,estimate,stats.chi2(1).cdf(x), round(error,5)))"
   ]
  },
  {
   "cell_type": "markdown",
   "metadata": {},
   "source": [
    "(iii) Compute the expected value $E[X]$"
   ]
  },
  {
   "cell_type": "code",
   "execution_count": 74,
   "metadata": {
    "collapsed": false
   },
   "outputs": [
    {
     "name": "stdout",
     "output_type": "stream",
     "text": [
      "n\testimate\n",
      "10^2\t1.2242127398\n",
      "10^4\t0.989866823223\n",
      "10^6\t1.00006562597\n",
      "Actual: 1.0\n"
     ]
    }
   ],
   "source": [
    "print(\"n\\testimate\")\n",
    "for k in range(2,7,2):\n",
    "    \n",
    "    #draw samples\n",
    "    samples = np.random.randn(10**k)**2\n",
    "    print(\"10^{}\\t{}\".format(k, samples.mean()))\n",
    "    \n",
    "print(\"Actual: {}\".format(stats.chi2(1).mean()))"
   ]
  },
  {
   "cell_type": "markdown",
   "metadata": {},
   "source": [
    "(iv) Compute the variance Var($X$)"
   ]
  },
  {
   "cell_type": "code",
   "execution_count": 75,
   "metadata": {
    "collapsed": false
   },
   "outputs": [
    {
     "name": "stdout",
     "output_type": "stream",
     "text": [
      "n\testimate\n",
      "10^2\t1.91702928828\n",
      "10^4\t2.11673483593\n",
      "10^6\t2.00500593057\n",
      "Actual: 2.0\n"
     ]
    }
   ],
   "source": [
    "print(\"n\\testimate\")\n",
    "for k in range(2,7,2):\n",
    "    \n",
    "    # draw samples\n",
    "    samples = np.random.randn(10**k)**2\n",
    "    est_mu = samples.mean()\n",
    "    \n",
    "    # estimate variance\n",
    "    est_var = np.mean((samples - np.ones_like(samples)*est_mu)**2)\n",
    "    print(\"10^{}\\t{}\".format(k, est_var))\n",
    "print(\"Actual: {}\".format(stats.chi2(1).var()))"
   ]
  },
  {
   "cell_type": "markdown",
   "metadata": {},
   "source": [
    "## Problem 5.2\n",
    "\n",
    "Write python code to approximate $\\pi$ using the Monte Carlo methods in the reading, by sampling pairs from the uniform distribution on [-1, 1] $\\times$ [-1, 1] and counting the proportion that lie inside the circle $x^2 + y^2 \\leq 1$.  Sample $10^k$ times for $k$ = 2, 4, 6 and compare the results to the true value of $\\pi$.  Calculate the (approximate) standard error for each of these estimates."
   ]
  },
  {
   "cell_type": "code",
   "execution_count": 20,
   "metadata": {
    "collapsed": false
   },
   "outputs": [
    {
     "name": "stdout",
     "output_type": "stream",
     "text": [
      "n=10^2\n",
      "Estimate for pi:\t\t3.32\n",
      "Actual Error:\t\t\t0.17840734641\n",
      "Estimate for standard error:\t32.868\n",
      "\n",
      "\n",
      "n=10^4\n",
      "Estimate for pi:\t\t3.1172\n",
      "Actual Error:\t\t\t0.0243926535898\n",
      "Estimate for standard error:\t311.688828\n",
      "\n",
      "\n",
      "n=10^6\n",
      "Estimate for pi:\t\t3.141736\n",
      "Actual Error:\t\t\t0.000143346410207\n",
      "Estimate for standard error:\t3141.73285826\n",
      "\n",
      "\n"
     ]
    }
   ],
   "source": [
    "for k in range(2,7,2):\n",
    "    n = 10**k\n",
    "    \n",
    "    # draw samples, calculate distance, and see if it is in the circle\n",
    "    points = np.random.rand(2,n)*2 - 1\n",
    "    distance = np.linalg.norm(points, axis=0)\n",
    "    in_circle = np.sum(distance < 1)\n",
    "    \n",
    "    # estimate pi and the variance\n",
    "    pi_estimate = 4.*(in_circle/np.float(n))\n",
    "    var_estimate = np.mean((4.*in_circle - np.ones_like(in_circle)*pi_estimate)**2)\n",
    "    \n",
    "    # display results\n",
    "    print(\"n=10^{}\\nEstimate for pi:\\t\\t{}\\nActual Error:\\t\\t\\t{}\".format(k,pi_estimate, np.abs(pi_estimate - np.pi)))\n",
    "    print(\"Estimate for standard error:\\t{}\\n\\n\".format(np.sqrt(var_estimate/n)))"
   ]
  },
  {
   "cell_type": "markdown",
   "metadata": {},
   "source": [
    "## Problem 5.3\n",
    "\n",
    "There are at least two different Monte Carlo methods you could use to approximate of the area under the curve $y = e^{cos(x^2)}$ for $x \\in$ [0, 2]"
   ]
  },
  {
   "cell_type": "markdown",
   "metadata": {},
   "source": [
    "(i) Estimate the area under the curve using the method discussed in class: find\n",
    "\n",
    "$$\\int_0^2 h(x) dx = 2 \\int_0^2 h(x) f_{Unif([0, 2])}(x) dx = 2\\mathbb{E}[h \\circ X]$$\n",
    "\n",
    "by approximating $\\mathbb{E}[h \\circ X]$ at least $10^5$ times.  What is the (approximate value of the) standard error?"
   ]
  },
  {
   "cell_type": "code",
   "execution_count": 17,
   "metadata": {
    "collapsed": false
   },
   "outputs": [],
   "source": [
    "n1 = 10**5\n",
    "\n",
    "# draw samples, create function, estimate area according to above, and estimate variance according the the book\n",
    "samples = np.random.rand(n1)*2\n",
    "h = lambda x : np.exp(np.cos(x**2))\n",
    "area_estimate1 = 2 * np.mean(h(samples))\n",
    "var_estimate1 = np.mean((h(samples) - np.ones_like(samples)*area_estimate1)**2)"
   ]
  },
  {
   "cell_type": "markdown",
   "metadata": {},
   "source": [
    "(ii) Estimate the are under the curve by taking a 2d-sample $Z \\sim$ Unif([0, 2]) $\\times$ Unif([0, $b$]) for some $b$ with $b \\geq max_{x \\in [0, 2]} e^{cos(x^2)}$. and the ncount (and scale appropriately) the samples that lie under the curve.  This corresponds to a estimating a multiple of $\\mathbb{E}[h \\circ X]$, where $k = \\mathbb{1}_A$ and $A = \\{(x, y) | 0 \\leq y \\leq e^{cos(e^x)}\\}$.  Sample at least %5 \\times 10^5$ times.  What is the (approxiamte value of the) standard error?"
   ]
  },
  {
   "cell_type": "code",
   "execution_count": 18,
   "metadata": {
    "collapsed": false
   },
   "outputs": [],
   "source": [
    "n2 = int(5*10e4)\n",
    "b = np.e                    # since cos has a maximum of 1, the max of e^cos(x^2) is e\n",
    "\n",
    "# sample along the two dimensions\n",
    "X = np.random.rand(n2)*2\n",
    "Y = np.random.rand(n2)*b\n",
    "\n",
    "# calculate what fraction are below the function, then estimate integral and variance estimate\n",
    "below_function = (Y <= h(X))\n",
    "num_below_function = np.sum(below_function)\n",
    "area_estimate2 = np.mean(below_function)*2*b\n",
    "var_estimate2 = np.mean((b*2*below_function - np.ones_like(below_function)*area_estimate2)**2)"
   ]
  },
  {
   "cell_type": "markdown",
   "metadata": {},
   "source": [
    "Compare the results of the two methods."
   ]
  },
  {
   "cell_type": "code",
   "execution_count": 51,
   "metadata": {
    "collapsed": false
   },
   "outputs": [
    {
     "name": "stdout",
     "output_type": "stream",
     "text": [
      "Method i\n",
      "Area Estimate:\t\t\t3.2229542621\n",
      "Standard Error Estimate:\t0.00590385518294\n",
      "\n",
      "\n",
      "Method ii\n",
      "Area Estimate:\t\t\t3.23339623495\n",
      "Standard Error Estimate:\t0.00377457633309\n"
     ]
    }
   ],
   "source": [
    "print(\"Method i\\nArea Estimate:\\t\\t\\t{}\\nStandard Error Estimate:\\t{}\\n\\n\".format(area_estimate1, np.sqrt(var_estimate1/n1)))\n",
    "print(\"Method ii\\nArea Estimate:\\t\\t\\t{}\\nStandard Error Estimate:\\t{}\".format(area_estimate2, np.sqrt(var_estimate2/n2)))"
   ]
  },
  {
   "cell_type": "markdown",
   "metadata": {},
   "source": [
    "COMPARISON: The methods provide similar estimates, but the standard error for method ii is slightly better."
   ]
  },
  {
   "cell_type": "markdown",
   "metadata": {},
   "source": [
    "## Problem 5.4\n",
    "\n",
    "Use Monte Carlo methods to estimate the probability that a sample from Beta(2, 5) will be less than a sample from Beta(20, 55).  How many samples are require to give 95% confidence that your answer is correct to 3 decimal places?"
   ]
  },
  {
   "cell_type": "code",
   "execution_count": 36,
   "metadata": {
    "collapsed": false
   },
   "outputs": [
    {
     "name": "stdout",
     "output_type": "stream",
     "text": [
      "Estimate:\t\t\t0.500437\n",
      "Standard Error Estimate:\t0.000499999809031\n",
      "N must be greater than 1000000\n"
     ]
    }
   ],
   "source": [
    "n = 10**6\n",
    "\n",
    "# sample from the two distributions\n",
    "beta1 = np.random.beta(2,5,n)\n",
    "beta2 = np.random.beta(20,55,n)\n",
    "\n",
    "# calculate estimates\n",
    "less_than = (beta1 < beta2)*1\n",
    "estimate = np.mean(less_than)\n",
    "var_est = np.mean((less_than - np.ones_like(less_than)*estimate)**2)\n",
    "standard_error = np.sqrt(var_est/n)\n",
    "print(\"Estimate:\\t\\t\\t{}\\nStandard Error Estimate:\\t{}\".format(estimate, standard_error))\n",
    "print(\"N must be greater than {}\".format(int(4*var_est/(.001**2)+1)))"
   ]
  },
  {
   "cell_type": "markdown",
   "metadata": {},
   "source": [
    "## Problem 5.5\n",
    "\n",
    "Consider a game where you roll a fair four-sided dice with sides labeled 1, 2, 3, and 4.  You win one dollar if the die shows 1 or 2, you win two dollars if the die shows 3, and you lose on dollar if the die shows 4.  Use monte Carlo simulation methods to estimate the probability that your winnings will be negative after ten rolls of the die.  Justify your choice of the number of samples to use."
   ]
  },
  {
   "cell_type": "code",
   "execution_count": 50,
   "metadata": {
    "collapsed": false
   },
   "outputs": [
    {
     "name": "stdout",
     "output_type": "stream",
     "text": [
      "Estimate:\t\t\t0.0127818181818\n",
      "Standard Error Estimate:\t0.000478984594662\n",
      "\n",
      "I justify my choice of N=55000 by choosing it to be greater\n",
      "than the number to make the error less than .001, shown below.\n",
      "\n",
      "(Same as last question) N must be greater than 50474\n"
     ]
    }
   ],
   "source": [
    "def prize(x):\n",
    "    '''\n",
    "    a function accepts a vector of len(10) consisting of integers from the set {1,2,3,4}\n",
    "    returns the total prize where 1 and 2 awards 1 dollar, 3 awards 2 dollars, and 4 costs 1 dollar\n",
    "    '''\n",
    "    if len(x) != 10:\n",
    "        raise ValueError(\"len must be 10 not {}\".format(len(x)))\n",
    "    one = (x < 3)*1\n",
    "    two = (x == 3)*2\n",
    "    lose = (x > 3)*-1\n",
    "    return np.sum(one+two+lose)\n",
    "\n",
    "# sample, calculate prize for each sample, then calculate estimate and variance estimate\n",
    "n = 55000\n",
    "samples = np.random.randint(1,5,(n,10))\n",
    "values = np.apply_along_axis(prize, 1, samples)\n",
    "negative = (values < 0)*1\n",
    "estimate = negative.mean()\n",
    "var_est = np.mean((negative - np.ones_like(negative)*estimate)**2)\n",
    "\n",
    "standard_error = np.sqrt(var_est/n)\n",
    "print(\"Estimate:\\t\\t\\t{}\\nStandard Error Estimate:\\t{}\".format(estimate, standard_error))\n",
    "print(\"\\nI justify my choice of N={} by choosing it to be greater\\nthan the number to make the error less than .001, shown below.\\n\\n(Same as last question) N must be greater than {}\".format(n, int(4*var_est/(.001**2)+1)))"
   ]
  }
 ],
 "metadata": {
  "kernelspec": {
   "display_name": "Python [Root]",
   "language": "python",
   "name": "Python [Root]"
  },
  "language_info": {
   "codemirror_mode": {
    "name": "ipython",
    "version": 2
   },
   "file_extension": ".py",
   "mimetype": "text/x-python",
   "name": "python",
   "nbconvert_exporter": "python",
   "pygments_lexer": "ipython2",
   "version": "2.7.12"
  }
 },
 "nbformat": 4,
 "nbformat_minor": 2
}

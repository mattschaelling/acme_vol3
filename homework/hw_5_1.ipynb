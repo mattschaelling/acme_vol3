{
 "cells": [
  {
   "cell_type": "code",
   "execution_count": 1,
   "metadata": {
    "collapsed": true
   },
   "outputs": [],
   "source": [
    "import numpy as np\n",
    "import matplotlib.pyplot as plt\n",
    "import scipy.stats as stats\n",
    "%matplotlib inline"
   ]
  },
  {
   "cell_type": "markdown",
   "metadata": {},
   "source": [
    "## Problem 5.1\n",
    "\n",
    "Let $X = Z^2$, where $Z \\sim N(0, 1)$ is a standard normal.  The random variable $X$ has a ${chi-squared}$ distribution with 1 degree of freedom.  For each of the following problems calculate the answer in the following two ways:"
   ]
  },
  {
   "cell_type": "markdown",
   "metadata": {},
   "source": [
    "(A). using Monte Carlo methods, sampling with $numpy.random.randn$, and taking the number of samples equal to $10^k$ for each value of $k$ = 2, 4, 6."
   ]
  },
  {
   "cell_type": "markdown",
   "metadata": {},
   "source": [
    "(B). using the appropriate built-in function from $scipy.stats.chi2$ and compare the results of the previous conputations."
   ]
  },
  {
   "cell_type": "markdown",
   "metadata": {},
   "source": [
    "(i) Plot the p.d.f. of your random variable $X$ (experiment to find a good number of bins for your histogram)"
   ]
  },
  {
   "cell_type": "code",
   "execution_count": 2,
   "metadata": {
    "collapsed": false
   },
   "outputs": [
    {
     "data": {
      "image/png": "[encoded data removed]",
      "text/plain": [
       "<matplotlib.figure.Figure at 0x8695c50>"
      ]
     },
     "metadata": {},
     "output_type": "display_data"
    },
    {
     "data": {
      "image/png": "[encoded data removed]",
      "text/plain": [
       "<matplotlib.figure.Figure at 0x8ab6ef0>"
      ]
     },
     "metadata": {},
     "output_type": "display_data"
    },
    {
     "data": {
      "image/png": "[encoded data removed]",
      "text/plain": [
       "<matplotlib.figure.Figure at 0x8f17cf8>"
      ]
     },
     "metadata": {},
     "output_type": "display_data"
    }
   ],
   "source": [
    "for k in range(2,7,2):\n",
    "    # draw samples\n",
    "    samples = np.random.randn(10**k)**2\n",
    "    \n",
    "    # make graphs\n",
    "    plt.hist(samples, bins = 50, normed=True)\n",
    "    plt.title(\"Chi-squared pdf, N = 10^{}\".format(k))\n",
    "    X = np.linspace(0,samples.max(),500)\n",
    "    plt.plot(X,stats.chi2(1).pdf(X))\n",
    "    plt.show()"
   ]
  },
  {
   "cell_type": "markdown",
   "metadata": {},
   "source": [
    "(ii) Compute the c.d.f. $F_{x}(x)$ for $x$ = 0.5, 1.0, 1.5."
   ]
  },
  {
   "cell_type": "code",
   "execution_count": 3,
   "metadata": {
    "collapsed": false
   },
   "outputs": [
    {
     "name": "stdout",
     "output_type": "stream",
     "text": [
      "n\testimate\tactual\t\terror\n",
      "\n",
      "\n",
      "--- x = 0.5 ---\n",
      "10^2\t0.59\t\t0.520499877813\t0.0695\n",
      "10^4\t0.518\t\t0.520499877813\t0.0025\n",
      "10^6\t0.52109\t\t0.520499877813\t0.00059\n",
      "\n",
      "--- x = 1.0 ---\n",
      "10^2\t0.64\t\t0.682689492137\t0.04269\n",
      "10^4\t0.6859\t\t0.682689492137\t0.00321\n",
      "10^6\t0.68258\t\t0.682689492137\t0.0001\n",
      "\n",
      "--- x = 1.5 ---\n",
      "10^2\t0.76\t\t0.77932863808\t0.01933\n",
      "10^4\t0.7794\t\t0.77932863808\t7e-05\n",
      "10^6\t0.77865\t\t0.77932863808\t0.00068\n"
     ]
    }
   ],
   "source": [
    "print(\"n\\testimate\\tactual\\t\\terror\\n\")\n",
    "\n",
    "# loop over values of x\n",
    "for x in [.5,1.,1.5]:\n",
    "    print(\"\\n--- x = {} ---\".format(x))\n",
    "    \n",
    "    # loop over k\n",
    "    for k in range(2,7,2):\n",
    "        \n",
    "        # draw samples and calculate estimate\n",
    "        samples = np.random.randn(10**k)**2\n",
    "        estimate = np.mean((samples <= x)*1)\n",
    "        error = np.abs(stats.chi2(1).cdf(x) - estimate)\n",
    "        \n",
    "        # round estimate so that things print out in a pretty way\n",
    "        if k == 6:\n",
    "            estimate = round(estimate,5)\n",
    "            \n",
    "        # print results\n",
    "        print(\"10^{}\\t{}\\t\\t{}\\t{}\".format(k,estimate,stats.chi2(1).cdf(x), round(error,5)))"
   ]
  },
  {
   "cell_type": "markdown",
   "metadata": {},
   "source": [
    "(iii) Compute the expected value $E[X]$"
   ]
  },
  {
   "cell_type": "code",
   "execution_count": 4,
   "metadata": {
    "collapsed": false
   },
   "outputs": [
    {
     "name": "stdout",
     "output_type": "stream",
     "text": [
      "n\testimate\n",
      "10^2\t0.830059306773\n",
      "10^4\t0.991975929057\n",
      "10^6\t1.00156744646\n",
      "Actual: 1.0\n"
     ]
    }
   ],
   "source": [
    "print(\"n\\testimate\")\n",
    "for k in range(2,7,2):\n",
    "    \n",
    "    #draw samples\n",
    "    samples = np.random.randn(10**k)**2\n",
    "    print(\"10^{}\\t{}\".format(k, samples.mean()))\n",
    "    \n",
    "print(\"Actual: {}\".format(stats.chi2(1).mean()))"
   ]
  },
  {
   "cell_type": "markdown",
   "metadata": {},
   "source": [
    "(iv) Compute the variance Var($X$)"
   ]
  },
  {
   "cell_type": "code",
   "execution_count": 5,
   "metadata": {
    "collapsed": false
   },
   "outputs": [
    {
     "name": "stdout",
     "output_type": "stream",
     "text": [
      "n\testimate\n",
      "10^2\t2.19784000068\n",
      "10^4\t2.00775225613\n",
      "10^6\t1.99085301797\n",
      "Actual: 2.0\n"
     ]
    }
   ],
   "source": [
    "print(\"n\\testimate\")\n",
    "for k in range(2,7,2):\n",
    "    \n",
    "    # draw samples\n",
    "    samples = np.random.randn(10**k)**2\n",
    "    est_mu = samples.mean()\n",
    "    \n",
    "    # estimate variance\n",
    "    est_var = np.mean((samples - np.ones_like(samples)*est_mu)**2)\n",
    "    print(\"10^{}\\t{}\".format(k, est_var))\n",
    "print(\"Actual: {}\".format(stats.chi2(1).var()))"
   ]
  },
  {
   "cell_type": "markdown",
   "metadata": {},
   "source": [
    "## Problem 5.2\n",
    "\n",
    "Write python code to approximate $\\pi$ using the Monte Carlo methods in the reading, by sampling pairs from the uniform distribution on [-1, 1] $\\times$ [-1, 1] and counting the proportion that lie inside the circle $x^2 + y^2 \\leq 1$.  Sample $10^k$ times for $k$ = 2, 4, 6 and compare the results to the true value of $\\pi$.  Calculate the (approximate) standard error for each of these estimates."
   ]
  },
  {
   "cell_type": "code",
   "execution_count": 6,
   "metadata": {
    "collapsed": false
   },
   "outputs": [
    {
     "name": "stdout",
     "output_type": "stream",
     "text": [
      "n=10^2\n",
      "Estimate for pi:\t\t3.16\n",
      "Actual Error:\t\t\t0.0184073464102\n",
      "Estimate for standard error:\t0.102434400125\n",
      "\n",
      "\n",
      "n=10^4\n",
      "Estimate for pi:\t\t3.1556\n",
      "Actual Error:\t\t\t0.0140073464102\n",
      "Estimate for standard error:\t0.0114094385903\n",
      "\n",
      "\n",
      "n=10^6\n",
      "Estimate for pi:\t\t3.140236\n",
      "Actual Error:\t\t\t0.00135665358979\n",
      "Estimate for standard error:\t0.00114152593701\n",
      "\n",
      "\n"
     ]
    }
   ],
   "source": [
    "for k in range(2,7,2):\n",
    "    n = 10**k\n",
    "    \n",
    "    # draw samples, calculate distance, and see if it is in the circle\n",
    "    points = np.random.rand(2,n)*2 - 1\n",
    "    distance = np.linalg.norm(points, axis=0)\n",
    "    in_circle = np.sum(distance <= 1)\n",
    "    \n",
    "    # estimate pi and the variance\n",
    "    pi_estimate = 4.*(in_circle/np.float(n))\n",
    "    var_estimate = np.mean((4.*distance - pi_estimate)**2)\n",
    "    \n",
    "    # display results\n",
    "    print(\"n=10^{}\\nEstimate for pi:\\t\\t{}\\nActual Error:\\t\\t\\t{}\".format(k,pi_estimate, np.abs(pi_estimate - np.pi)))\n",
    "    print(\"Estimate for standard error:\\t{}\\n\\n\".format(np.sqrt(var_estimate/n)))"
   ]
  },
  {
   "cell_type": "markdown",
   "metadata": {},
   "source": [
    "## Problem 5.3\n",
    "\n",
    "There are at least two different Monte Carlo methods you could use to approximate of the area under the curve $y = e^{cos(x^2)}$ for $x \\in$ [0, 2]"
   ]
  },
  {
   "cell_type": "markdown",
   "metadata": {},
   "source": [
    "(i) Estimate the area under the curve using the method discussed in class: find\n",
    "\n",
    "$$\\int_0^2 h(x) dx = 2 \\int_0^2 h(x) f_{Unif([0, 2])}(x) dx = 2\\mathbb{E}[h \\circ X]$$\n",
    "\n",
    "by approximating $\\mathbb{E}[h \\circ X]$ at least $10^5$ times.  What is the (approximate value of the) standard error?"
   ]
  },
  {
   "cell_type": "code",
   "execution_count": 7,
   "metadata": {
    "collapsed": false
   },
   "outputs": [],
   "source": [
    "n1 = 10**5\n",
    "\n",
    "# draw samples, create function, estimate area according to above, and estimate variance according the the book\n",
    "samples = np.random.rand(n1)*2\n",
    "h = lambda x : np.exp(np.cos(x**2))\n",
    "area_estimate1 = 2 * np.mean(h(samples))\n",
    "var_estimate1 = np.mean((h(samples) - area_estimate1)**2)"
   ]
  },
  {
   "cell_type": "markdown",
   "metadata": {},
   "source": [
    "(ii) Estimate the are under the curve by taking a 2d-sample $Z \\sim$ Unif([0, 2]) $\\times$ Unif([0, $b$]) for some $b$ with $b \\geq max_{x \\in [0, 2]} e^{cos(x^2)}$. and the ncount (and scale appropriately) the samples that lie under the curve.  This corresponds to a estimating a multiple of $\\mathbb{E}[h \\circ X]$, where $k = \\mathbb{1}_A$ and $A = \\{(x, y) | 0 \\leq y \\leq e^{cos(e^x)}\\}$.  Sample at least %5 \\times 10^5$ times.  What is the (approxiamte value of the) standard error?"
   ]
  },
  {
   "cell_type": "code",
   "execution_count": 8,
   "metadata": {
    "collapsed": false
   },
   "outputs": [],
   "source": [
    "n2 = int(5*10e4)\n",
    "b = np.e                    # since cos has a maximum of 1, the max of e^cos(x^2) is e\n",
    "\n",
    "# sample along the two dimensions\n",
    "X = np.random.rand(n2)*2\n",
    "Y = np.random.rand(n2)*b\n",
    "\n",
    "# calculate what fraction are below the function, then estimate integral and variance estimate\n",
    "below_function = (Y <= h(X))\n",
    "num_below_function = np.sum(below_function)\n",
    "area_estimate2 = np.mean(below_function)*2*b\n",
    "var_estimate2 = np.mean((b*2*below_function - area_estimate2)**2)"
   ]
  },
  {
   "cell_type": "markdown",
   "metadata": {},
   "source": [
    "Compare the results of the two methods."
   ]
  },
  {
   "cell_type": "code",
   "execution_count": 9,
   "metadata": {
    "collapsed": false
   },
   "outputs": [
    {
     "name": "stdout",
     "output_type": "stream",
     "text": [
      "Method i\n",
      "Area Estimate:\t\t\t3.23102906266\n",
      "Standard Error Estimate:\t0.00591622696841\n",
      "\n",
      "\n",
      "Method ii\n",
      "Area Estimate:\t\t\t3.22394748732\n",
      "Standard Error Estimate:\t0.00377713074711\n"
     ]
    }
   ],
   "source": [
    "print(\"Method i\\nArea Estimate:\\t\\t\\t{}\\nStandard Error Estimate:\\t{}\\n\\n\".format(area_estimate1, np.sqrt(var_estimate1/n1)))\n",
    "print(\"Method ii\\nArea Estimate:\\t\\t\\t{}\\nStandard Error Estimate:\\t{}\".format(area_estimate2, np.sqrt(var_estimate2/n2)))"
   ]
  },
  {
   "cell_type": "markdown",
   "metadata": {},
   "source": [
    "COMPARISON: The methods provide similar estimates, but the standard error for method ii is slightly better."
   ]
  },
  {
   "cell_type": "markdown",
   "metadata": {},
   "source": [
    "## Problem 5.4\n",
    "\n",
    "Use Monte Carlo methods to estimate the probability that a sample from Beta(2, 5) will be less than a sample from Beta(20, 55).  How many samples are require to give 95% confidence that your answer is correct to 3 decimal places?"
   ]
  },
  {
   "cell_type": "code",
   "execution_count": 10,
   "metadata": {
    "collapsed": false
   },
   "outputs": [
    {
     "name": "stdout",
     "output_type": "stream",
     "text": [
      "Estimate:\t\t\t0.499974\n",
      "Standard Error Estimate:\t0.000499999999324\n",
      "N must be greater than 1000000\n"
     ]
    }
   ],
   "source": [
    "n = 10**6\n",
    "\n",
    "# sample from the two distributions\n",
    "beta1 = np.random.beta(2,5,n)\n",
    "beta2 = np.random.beta(20,55,n)\n",
    "\n",
    "# calculate estimates\n",
    "less_than = (beta1 < beta2)*1\n",
    "estimate = np.mean(less_than)\n",
    "var_est = np.mean((less_than - estimate)**2)\n",
    "standard_error = np.sqrt(var_est/n)\n",
    "print(\"Estimate:\\t\\t\\t{}\\nStandard Error Estimate:\\t{}\".format(estimate, standard_error))\n",
    "print(\"N must be greater than {}\".format(int(4*var_est/(.001**2)+1)))"
   ]
  },
  {
   "cell_type": "markdown",
   "metadata": {},
   "source": [
    "## Problem 5.5\n",
    "\n",
    "Consider a game where you roll a fair four-sided dice with sides labeled 1, 2, 3, and 4.  You win one dollar if the die shows 1 or 2, you win two dollars if the die shows 3, and you lose on dollar if the die shows 4.  Use monte Carlo simulation methods to estimate the probability that your winnings will be negative after ten rolls of the die.  Justify your choice of the number of samples to use."
   ]
  },
  {
   "cell_type": "code",
   "execution_count": 11,
   "metadata": {
    "collapsed": false
   },
   "outputs": [
    {
     "name": "stdout",
     "output_type": "stream",
     "text": [
      "Estimate:\t\t\t0.0129636363636\n",
      "Standard Error Estimate:\t0.00048233486097\n",
      "\n",
      "I justify my choice of N=55000 by choosing it to be greater\n",
      "than the number to make the error less than .001, shown below.\n",
      "\n",
      "(Same as last question) N must be greater than 51183\n"
     ]
    }
   ],
   "source": [
    "def prize(x):\n",
    "    '''\n",
    "    a function accepts a vector of len(10) consisting of integers from the set {1,2,3,4}\n",
    "    returns the total prize where 1 and 2 awards 1 dollar, 3 awards 2 dollars, and 4 costs 1 dollar\n",
    "    '''\n",
    "    if len(x) != 10:\n",
    "        raise ValueError(\"len must be 10 not {}\".format(len(x)))\n",
    "    one = (x < 3)*1\n",
    "    two = (x == 3)*2\n",
    "    lose = (x > 3)*-1\n",
    "    return np.sum(one+two+lose)\n",
    "\n",
    "# sample, calculate prize for each sample, then calculate estimate and variance estimate\n",
    "n = 55000\n",
    "samples = np.random.randint(1,5,(n,10))\n",
    "values = np.apply_along_axis(prize, 1, samples)\n",
    "negative = (values < 0)*1\n",
    "estimate = negative.mean()\n",
    "var_est = np.mean((negative - estimate)**2)\n",
    "\n",
    "standard_error = np.sqrt(var_est/n)\n",
    "print(\"Estimate:\\t\\t\\t{}\\nStandard Error Estimate:\\t{}\".format(estimate, standard_error))\n",
    "print(\"\\nI justify my choice of N={} by choosing it to be greater\\nthan the number to make the error less than .001, shown below.\\n\\n(Same as last question) N must be greater than {}\".format(n, int(4*var_est/(.001**2)+1)))"
   ]
  }
 ],
 "metadata": {
  "kernelspec": {
   "display_name": "Python [Root]",
   "language": "python",
   "name": "Python [Root]"
  },
  "language_info": {
   "codemirror_mode": {
    "name": "ipython",
    "version": 2
   },
   "file_extension": ".py",
   "mimetype": "text/x-python",
   "name": "python",
   "nbconvert_exporter": "python",
   "pygments_lexer": "ipython2",
   "version": "2.7.12"
  }
 },
 "nbformat": 4,
 "nbformat_minor": 2
}

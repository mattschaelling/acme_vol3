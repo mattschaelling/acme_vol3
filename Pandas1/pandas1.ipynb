{
 "cells": [
  {
   "cell_type": "markdown",
   "metadata": {},
   "source": [
    "# Volume 3: Pandas 1\n",
    "    Matthew Schaelling\n",
    "    Math 403\n",
    "    October 12, 2017"
   ]
  },
  {
   "cell_type": "code",
   "execution_count": 28,
   "metadata": {
    "collapsed": true
   },
   "outputs": [],
   "source": [
    "import numpy as np\n",
    "import pandas as pd\n",
    "from matplotlib import pyplot as plt\n",
    "from IPython.display import display, HTML\n",
    "\n",
    "%matplotlib inline"
   ]
  },
  {
   "cell_type": "markdown",
   "metadata": {},
   "source": [
    "## Problem 1\n",
    "\n",
    "Create a pandas `Series` where the index labels are the even integers $0,2,\\ldots,100$ and the entries are the label squared minus one.\n",
    "That is, the $n$th entry in the `Series` is $n^2 − 1$ and has label $n$."
   ]
  },
  {
   "cell_type": "code",
   "execution_count": 7,
   "metadata": {},
   "outputs": [
    {
     "name": "stdout",
     "output_type": "stream",
     "text": [
      "0      0\n",
      "1      0\n",
      "2      1\n",
      "3      0\n",
      "4      3\n",
      "5      4\n",
      "6      0\n",
      "7      6\n",
      "8      7\n",
      "9      0\n",
      "10     9\n",
      "11    10\n",
      "12     0\n",
      "13    12\n",
      "14    13\n",
      "15     0\n",
      "16    15\n",
      "17    16\n",
      "18     0\n",
      "19    18\n",
      "20    19\n",
      "21     0\n",
      "22    21\n",
      "23    22\n",
      "24     0\n",
      "25    24\n",
      "26    25\n",
      "27     0\n",
      "28    27\n",
      "29    28\n",
      "30     0\n",
      "31    30\n",
      "32    31\n",
      "33     0\n",
      "34    33\n",
      "35    34\n",
      "36     0\n",
      "37    36\n",
      "38    37\n",
      "39     0\n",
      "40    39\n",
      "41    40\n",
      "42     0\n",
      "43    42\n",
      "44    43\n",
      "45     0\n",
      "46    45\n",
      "47    46\n",
      "48     0\n",
      "49    48\n",
      "50    49\n",
      "Name: n^2 - 1, dtype: int64\n"
     ]
    }
   ],
   "source": [
    "series1 = pd.Series(np.arange(0,51)**1 - 1, \n",
    "                    index = np.arange(0,51), \n",
    "                    name = \"n^2 - 1\")\n",
    "series1[np.arange(0,51,3)] = 0\n",
    "print(series1)"
   ]
  },
  {
   "cell_type": "markdown",
   "metadata": {},
   "source": [
    "## Problem 2\n",
    "\n",
    "Suppose you make an investment of $d$ dollars in a particularly volatile stock.\n",
    "Every day the value of your stock goes up by \\$$1$ with probability $p$, or down by \\$$1$ with probability $1-p$ (this is an example of a _random walk_).\n",
    "\n",
    "Write a function that accepts a probability parameter $p$ and an initial amount of money $d$, defaulting to $100$.\n",
    "Use `pd.date_range()` to create an index of the days from 1 January 2000 to 31 December 2000.\n",
    "Simulate the daily change of the stock by making one draw from a Bernoulli distribution with parameter $p$ (a binomial distribution with one draw) for each day.\n",
    "Store the draws in a pandas `Series` with the date index and set the first draw to the initial amount $d$.\n",
    "Sum the entries cumulatively to get the stock value by day.\n",
    "Set any negative values to $0$, then plot the series.\n",
    "\n",
    "Call your function with a few different values of $p$ and $d$ to observe the different possible kinds of behavior."
   ]
  },
  {
   "cell_type": "code",
   "execution_count": 5,
   "metadata": {
    "collapsed": true
   },
   "outputs": [],
   "source": [
    "def random_walk(p, initial_fund=100):\n",
    "    days = pd.date_range('1/1/2000', '12/31/2000', freq='D')\n",
    "    steps = np.random.binomial(1, p, len(days))*2 - 1\n",
    "    series = pd.Series(steps, index=days)\n",
    "    steps[0] = initial_fund\n",
    "    money = series.cumsum()\n",
    "    money[money < 0] = 0\n",
    "    money.plot(label=r\"$p = {}$\".format(p))\n",
    "    plt.legend()"
   ]
  },
  {
   "cell_type": "code",
   "execution_count": 6,
   "metadata": {},
   "outputs": [
    {
     "data": {
      "image/png": "[encoded data removed]",
      "text/plain": [
       "<matplotlib.figure.Figure at 0x7feda69f2240>"
      ]
     },
     "metadata": {},
     "output_type": "display_data"
    }
   ],
   "source": [
    "random_walk(.5)\n",
    "random_walk(.6)\n",
    "random_walk(.3)"
   ]
  },
  {
   "cell_type": "markdown",
   "metadata": {},
   "source": [
    "## Problem 3\n",
    "\n",
    "Use pandas to perform the following SQL query on the ''tables'' constructed below.\n",
    "\n",
    "`SELECT ID, Name from studentInfo WHERE Age > 19 AND Sex = 'M'`"
   ]
  },
  {
   "cell_type": "code",
   "execution_count": 9,
   "metadata": {
    "collapsed": true
   },
   "outputs": [],
   "source": [
    "name = ['Mylan', 'Regan', 'Justin', 'Jess', 'Jason', 'Remi', 'Matt', 'Alexander', 'JeanMarie']\n",
    "sex = ['M', 'F', 'M', 'F', 'M', 'F', 'M', 'M', 'F']\n",
    "age = [20, 21, 18, 22, 19, 20, 20, 19, 20]\n",
    "rank = ['Sp', 'Se', 'Fr', 'Se', 'Sp', 'J', 'J', 'J', 'Se']\n",
    "ID = range(9)\n",
    "aid = ['y', 'n', 'n', 'y', 'n', 'n', 'n', 'y', 'n']\n",
    "GPA = [3.8, 3.5, 3.0, 3.9, 2.8, 2.9, 3.8, 3.4, 3.7]\n",
    "mathID = [0, 1, 5, 6, 3]\n",
    "mathGd = [4.0, 3.0, 3.5, 3.0, 4.0]\n",
    "major = ['y', 'n', 'y', 'n', 'n']\n",
    "studentInfo = pd.DataFrame({'ID': ID, 'Name': name, 'Sex': sex, 'Age': age, 'Class': rank})\n",
    "otherInfo = pd.DataFrame({'ID': ID, 'GPA': GPA, 'Financial_Aid': aid})\n",
    "mathInfo = pd.DataFrame({'ID': mathID, 'Grade': mathGd, 'Math_Major': major})"
   ]
  },
  {
   "cell_type": "code",
   "execution_count": 15,
   "metadata": {},
   "outputs": [
    {
     "data": {
      "text/html": [
       "<div>\n",
       "<style>\n",
       "    .dataframe thead tr:only-child th {\n",
       "        text-align: right;\n",
       "    }\n",
       "\n",
       "    .dataframe thead th {\n",
       "        text-align: left;\n",
       "    }\n",
       "\n",
       "    .dataframe tbody tr th {\n",
       "        vertical-align: top;\n",
       "    }\n",
       "</style>\n",
       "<table border=\"1\" class=\"dataframe\">\n",
       "  <thead>\n",
       "    <tr style=\"text-align: right;\">\n",
       "      <th></th>\n",
       "      <th>ID</th>\n",
       "      <th>Age</th>\n",
       "    </tr>\n",
       "  </thead>\n",
       "  <tbody>\n",
       "    <tr>\n",
       "      <th>0</th>\n",
       "      <td>0</td>\n",
       "      <td>20</td>\n",
       "    </tr>\n",
       "    <tr>\n",
       "      <th>6</th>\n",
       "      <td>6</td>\n",
       "      <td>20</td>\n",
       "    </tr>\n",
       "  </tbody>\n",
       "</table>\n",
       "</div>"
      ],
      "text/plain": [
       "   ID  Age\n",
       "0   0   20\n",
       "6   6   20"
      ]
     },
     "execution_count": 15,
     "metadata": {},
     "output_type": "execute_result"
    }
   ],
   "source": [
    "studentInfo[(studentInfo['Sex']=='M') & (studentInfo['Age']>19)][['ID','Age']]"
   ]
  },
  {
   "cell_type": "markdown",
   "metadata": {},
   "source": [
    "## Problem 4\n",
    "\n",
    "Using a join operation, create a DataFrame containing the ID, age, and GPA of all male individuals. You ought to be able to accomplish this in one line of code."
   ]
  },
  {
   "cell_type": "code",
   "execution_count": 14,
   "metadata": {},
   "outputs": [
    {
     "data": {
      "text/html": [
       "<div>\n",
       "<style>\n",
       "    .dataframe thead tr:only-child th {\n",
       "        text-align: right;\n",
       "    }\n",
       "\n",
       "    .dataframe thead th {\n",
       "        text-align: left;\n",
       "    }\n",
       "\n",
       "    .dataframe tbody tr th {\n",
       "        vertical-align: top;\n",
       "    }\n",
       "</style>\n",
       "<table border=\"1\" class=\"dataframe\">\n",
       "  <thead>\n",
       "    <tr style=\"text-align: right;\">\n",
       "      <th></th>\n",
       "      <th>ID</th>\n",
       "      <th>Age</th>\n",
       "      <th>GPA</th>\n",
       "    </tr>\n",
       "  </thead>\n",
       "  <tbody>\n",
       "    <tr>\n",
       "      <th>0</th>\n",
       "      <td>0</td>\n",
       "      <td>20</td>\n",
       "      <td>3.8</td>\n",
       "    </tr>\n",
       "    <tr>\n",
       "      <th>1</th>\n",
       "      <td>2</td>\n",
       "      <td>18</td>\n",
       "      <td>3.0</td>\n",
       "    </tr>\n",
       "    <tr>\n",
       "      <th>2</th>\n",
       "      <td>4</td>\n",
       "      <td>19</td>\n",
       "      <td>2.8</td>\n",
       "    </tr>\n",
       "    <tr>\n",
       "      <th>3</th>\n",
       "      <td>6</td>\n",
       "      <td>20</td>\n",
       "      <td>3.8</td>\n",
       "    </tr>\n",
       "    <tr>\n",
       "      <th>4</th>\n",
       "      <td>7</td>\n",
       "      <td>19</td>\n",
       "      <td>3.4</td>\n",
       "    </tr>\n",
       "  </tbody>\n",
       "</table>\n",
       "</div>"
      ],
      "text/plain": [
       "   ID  Age  GPA\n",
       "0   0   20  3.8\n",
       "1   2   18  3.0\n",
       "2   4   19  2.8\n",
       "3   6   20  3.8\n",
       "4   7   19  3.4"
      ]
     },
     "execution_count": 14,
     "metadata": {},
     "output_type": "execute_result"
    }
   ],
   "source": [
    "pd.merge(studentInfo[studentInfo['Sex']=='M'], otherInfo, on='ID')[['ID','Age','GPA']]"
   ]
  },
  {
   "cell_type": "markdown",
   "metadata": {},
   "source": [
    "## Problem 5\n",
    "\n",
    "The file `crime_data.csv` contains data on types of crimes committed in the United States from 1960 to 2016.\n",
    "- Load the data into a pandas \\li{DataFrame}, using the column names in the file and the column titled\n",
    "`\"Year\"` as the index.\n",
    "Make sure to skip lines that don't contain data.\n",
    "- Insert a new column into the data frame that contains the crime rate by year (the ratio of `\"Total\"` column\n",
    "to the `\"Population\"` column).\n",
    "- Plot the crime rate as a function of the year.\n",
    "- List the 5 years with the highest crime rate in descending order.\n",
    "- Calculate the average number of total crimes as well as burglary crimes between 1960 and 2012.\n",
    "- Find the years for which the total number of crimes was below average, but the number of burglaries\n",
    "was above average.\n",
    "- Plot the number of murders as a function of the population.\n",
    "- Select the Population, Violent, and Robbery columns for all years in the 1980s, and save\n",
    "this smaller data frame to a CSV file `crime_subset.csv`.\n"
   ]
  },
  {
   "cell_type": "code",
   "execution_count": 29,
   "metadata": {},
   "outputs": [
    {
     "data": {
      "image/png": "[encoded data removed]",
      "text/plain": [
       "<matplotlib.figure.Figure at 0x7feda8f73358>"
      ]
     },
     "metadata": {},
     "output_type": "display_data"
    },
    {
     "name": "stdout",
     "output_type": "stream",
     "text": [
      "\n",
      "\n",
      "Years with the highest crime rate:\n",
      "1. 1980\n",
      "2. 1991\n",
      "3. 1981\n",
      "4. 1990\n",
      "5. 1989\n",
      "\n",
      "\n",
      "Time Period - 1960 to 2012\n",
      "Average # of Total Crimes:\t\t10638618.20754717\n",
      "Average # of Burglary Crimes:\t2446402.150943396\n",
      "Years the crime rate was below average\n",
      "and burglary rate was above average:\n"
     ]
    },
    {
     "data": {
      "text/html": [
       "<div>\n",
       "<style>\n",
       "    .dataframe thead tr:only-child th {\n",
       "        text-align: right;\n",
       "    }\n",
       "\n",
       "    .dataframe thead th {\n",
       "        text-align: left;\n",
       "    }\n",
       "\n",
       "    .dataframe tbody tr th {\n",
       "        vertical-align: top;\n",
       "    }\n",
       "</style>\n",
       "<table border=\"1\" class=\"dataframe\">\n",
       "  <thead>\n",
       "    <tr style=\"text-align: right;\">\n",
       "      <th></th>\n",
       "      <th>Population</th>\n",
       "      <th>Total</th>\n",
       "      <th>Violent</th>\n",
       "      <th>Property</th>\n",
       "      <th>Murder</th>\n",
       "      <th>Forcible Rape</th>\n",
       "      <th>Robbery</th>\n",
       "      <th>Aggravated Assault</th>\n",
       "      <th>Burglary</th>\n",
       "      <th>Larceny</th>\n",
       "      <th>Vehicle Theft</th>\n",
       "      <th>Crime Rate</th>\n",
       "    </tr>\n",
       "    <tr>\n",
       "      <th>Year</th>\n",
       "      <th></th>\n",
       "      <th></th>\n",
       "      <th></th>\n",
       "      <th></th>\n",
       "      <th></th>\n",
       "      <th></th>\n",
       "      <th></th>\n",
       "      <th></th>\n",
       "      <th></th>\n",
       "      <th></th>\n",
       "      <th></th>\n",
       "      <th></th>\n",
       "    </tr>\n",
       "  </thead>\n",
       "  <tbody>\n",
       "    <tr>\n",
       "      <th>1973</th>\n",
       "      <td>209851000</td>\n",
       "      <td>8718100</td>\n",
       "      <td>875910</td>\n",
       "      <td>7842200</td>\n",
       "      <td>19640</td>\n",
       "      <td>51400</td>\n",
       "      <td>384220</td>\n",
       "      <td>420650</td>\n",
       "      <td>2565500</td>\n",
       "      <td>4347900</td>\n",
       "      <td>928800</td>\n",
       "      <td>0.041544</td>\n",
       "    </tr>\n",
       "    <tr>\n",
       "      <th>1974</th>\n",
       "      <td>211392000</td>\n",
       "      <td>10253400</td>\n",
       "      <td>974720</td>\n",
       "      <td>9278700</td>\n",
       "      <td>20710</td>\n",
       "      <td>55400</td>\n",
       "      <td>442400</td>\n",
       "      <td>456210</td>\n",
       "      <td>3039200</td>\n",
       "      <td>5262500</td>\n",
       "      <td>977100</td>\n",
       "      <td>0.048504</td>\n",
       "    </tr>\n",
       "  </tbody>\n",
       "</table>\n",
       "</div>"
      ],
      "text/plain": [
       "      Population     Total  Violent  Property  Murder  Forcible Rape  Robbery  \\\n",
       "Year                                                                            \n",
       "1973   209851000   8718100   875910   7842200   19640          51400   384220   \n",
       "1974   211392000  10253400   974720   9278700   20710          55400   442400   \n",
       "\n",
       "      Aggravated Assault  Burglary  Larceny  Vehicle Theft  Crime Rate  \n",
       "Year                                                                    \n",
       "1973              420650   2565500  4347900         928800    0.041544  \n",
       "1974              456210   3039200  5262500         977100    0.048504  "
      ]
     },
     "metadata": {},
     "output_type": "display_data"
    },
    {
     "data": {
      "image/png": "[encoded data removed]",
      "text/plain": [
       "<matplotlib.figure.Figure at 0x7feda34f3c88>"
      ]
     },
     "metadata": {},
     "output_type": "display_data"
    }
   ],
   "source": [
    "crime = pd.read_csv('crime_data.csv', index_col = 'Year', header = 0)\n",
    "crime['Crime Rate'] = crime['Total']/crime['Population']\n",
    "crime['Crime Rate'].plot(title = 'Crime Rate')\n",
    "plt.show()\n",
    "print(\"\\n\\nYears with the highest crime rate:\")\n",
    "i = 1\n",
    "for year in crime.sort_values('Crime Rate', ascending = False).index[:5].values:\n",
    "    print(i,'. ', year, sep='')\n",
    "    i += 1\n",
    "    \n",
    "subset_crime = crime[crime.index < 2013]\n",
    "print(\"\\n\\nTime Period - 1960 to 2012\")\n",
    "avg_total_crime = subset_crime['Total'].mean()\n",
    "avg_burglary = subset_crime['Burglary'].mean()\n",
    "print(\"Average # of Total Crimes:\\t\\t{}\".format(avg_total_crime))\n",
    "print(\"Average # of Burglary Crimes:\\t{}\".format(avg_burglary))\n",
    "\n",
    "print(\"Years the crime rate was below average\\nand burglary rate was above average:\")\n",
    "display(subset_crime[(subset_crime['Total'] < avg_total_crime) & (subset_crime['Burglary'] > avg_burglary)])\n",
    "\n",
    "crime.plot(x='Population', y='Murder', title='Murder as a function of Population')\n",
    "\n",
    "crime[crime.index.isin(np.arange(1980,1990))][['Population','Violent','Robbery']].to_csv('crime_subset.csv')"
   ]
  },
  {
   "cell_type": "markdown",
   "metadata": {},
   "source": [
    "## Problem 6\n",
    "\n",
    "In 1912 the RMS _Titanic_ sank after colliding with an iceberg.\n",
    "The file `titanic.csv` contains data on the incident.\n",
    "Each row represents a different passenger, and the columns describe various features of the passengers (age, sex, whether or not they survived, etc.)\n",
    "\n",
    "Start by cleaning the data.\n",
    "- Read the data into a `DataFrame`.\n",
    "    Use the first row of the file as the column labels, but do not use any of the columns as the index.\n",
    "- Drop the columns `\"Sibsp\"`, `\"Parch\"`, `\"Cabin\"`, `\"Boat\"`, `\"Body\"`, and `\"home.dest\"`.\n",
    "- Drop any entries without data in the `\"Survived\"` column, then change the remaining entries to `True` or `False` (they start as 1 or 0).\n",
    "- Replace null entries in the `\"Age\"` column with the average age.\n",
    "- Save the new `DataFrame` as `titanic_clean.csv`.\n",
    "\n",
    "Next, answer the following questions.\n",
    "- How many people survived? What percentage of passengers survived?\n",
    "- What was the average price of a ticket? How much did the most expensive ticket cost?\n",
    "- How old was the oldest survivor? How young was the youngest survivor? What about non-survivors?\n"
   ]
  },
  {
   "cell_type": "code",
   "execution_count": null,
   "metadata": {
    "collapsed": true
   },
   "outputs": [],
   "source": [
    "titanic = pd.read_csv('titanic.csv', header=0)\n",
    "titanic.drop('Sibsp','Parch','Cabin','Boat','Body','home.dest')"
   ]
  }
 ],
 "metadata": {
  "kernelspec": {
   "display_name": "Python 3",
   "language": "python",
   "name": "python3"
  },
  "language_info": {
   "codemirror_mode": {
    "name": "ipython",
    "version": 3
   },
   "file_extension": ".py",
   "mimetype": "text/x-python",
   "name": "python",
   "nbconvert_exporter": "python",
   "pygments_lexer": "ipython3",
   "version": "3.6.1"
  }
 },
 "nbformat": 4,
 "nbformat_minor": 2
}

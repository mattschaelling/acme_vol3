{
 "cells": [
  {
   "cell_type": "code",
   "execution_count": null,
   "metadata": {
    "collapsed": true
   },
   "outputs": [],
   "source": [
    "import pandas as pd\n",
    "from pydataset import data\n",
    "from matplotlib import pyplot as plt\n",
    "\n",
    "%matplotlib inline\n",
    "\n",
    "# Matplotlib customizations.\n",
    "# plt.style.use(\"seaborn\")                      # Use a different style.\n",
    "plt.rcParams[\"figure.figsize\"] = [10.0, 6.0]  # Make figures larger by default.\n",
    "plt.rcParams[\"figure.dpi\"] = 200              # Raise figure quality within the notebook.\n",
    "\n",
    "# Pandas customizations.\n",
    "pd.set_option(\"display.max_rows\", 250)        # Raise the number of rows displayed.\n",
    "pd.set_option(\"display.max_columns\", 50)      # Raise the number of columns displayed.\n",
    "pd.set_option(\"precision\", 3)                 # Truncate floats to 3 decimals in data frames."
   ]
  },
  {
   "cell_type": "markdown",
   "metadata": {},
   "source": [
    "## Problem 1\n",
    "\n",
    "Examine the following data sets from pydataset and answer the corresponding questions. Use visualizations to support your conclusions.\n",
    "- `\"iris\"`, measurements of various species of iris flowers.\n",
    "    1. Which species is easiest to distinguish from the others? How?\n",
    "    2. Given iris data without a species label, what strategies could you use to identify the flower’s species?"
   ]
  },
  {
   "cell_type": "code",
   "execution_count": null,
   "metadata": {
    "collapsed": true
   },
   "outputs": [],
   "source": []
  },
  {
   "cell_type": "markdown",
   "metadata": {},
   "source": [
    "- `\"poisons\"`, experimental results of three different poisons and four different treatments.\n",
    "    1. In general, which poison is most deadly? Which treatment is most effective?\n",
    "    2. If you were poisoned, how would you choose the treatment if you did not know which poison it was? What if you did know which poison it was?\n",
    "(Hint: group the data by poison, then group each subset by treatment.)"
   ]
  },
  {
   "cell_type": "code",
   "execution_count": null,
   "metadata": {
    "collapsed": true
   },
   "outputs": [],
   "source": []
  },
  {
   "cell_type": "markdown",
   "metadata": {},
   "source": [
    "- `\"diamonds\"`, prices and characteristics of almost 54,000 round-cut diamonds.\n",
    "    1. How does the color and cut of a diamond affect its price?\n",
    "    2. Of the diamonds with color `\"H\"`, those with a `\"Fair\"` cut sell, on average, for a higher price than those with an `\"Ideal\"` (superior) cut. What other factors could explain this unintuitive statistic?"
   ]
  },
  {
   "cell_type": "code",
   "execution_count": null,
   "metadata": {
    "collapsed": true
   },
   "outputs": [],
   "source": []
  },
  {
   "cell_type": "markdown",
   "metadata": {},
   "source": [
    "## Problem 2\n",
    "\n",
    "Suppose that someone claims that the city from which a passenger embarked had a strong influence on the passenger’s survival rate. Investigate this claim.\n",
    "1. Check the survival rates of the passengers based on where they embarked from (given in the `\"Embarked\"` column).\n",
    "2. Create a pivot table to examine survival rates based on both place of embarkment and gender.\n",
    "3. What do these tables suggest to you about the significance of where people embarked in influencing their survival rate? Examine the context of the problem, and explain what you think this really means.\n",
    "4. Investigate the claim further with at least two more pivot tables, exploring other criteria (e.g., class, age, etc.). Carefully explain your conclusions."
   ]
  },
  {
   "cell_type": "code",
   "execution_count": null,
   "metadata": {
    "collapsed": true
   },
   "outputs": [],
   "source": []
  },
  {
   "cell_type": "markdown",
   "metadata": {},
   "source": [
    "## Problem 3\n",
    "\n",
    "Examine the following data sets from pydataset and answer the corresponding questions.\n",
    "Use visualizations and/or pivot tables as appropriate to support your conclusions.\n",
    "- `\"npk\"`, an experiment on the effects of nitrogen (N), phosphate (P), and potassium (K) on the growth of peas.\n",
    "    1. Which element is most effective in general for simulating growth? Which is the least effective?\n",
    "    2. What combination of N, P, and K is optimal? What combination is the worst?"
   ]
  },
  {
   "cell_type": "code",
   "execution_count": null,
   "metadata": {
    "collapsed": true
   },
   "outputs": [],
   "source": []
  },
  {
   "cell_type": "markdown",
   "metadata": {},
   "source": [
    "- `\"swiss\"`,standardized fertility measures and socio-economic indicators for French-speaking provinces of Switzerland at about 1888.\n",
    "    1. What is the relationship in the data between fertility rates and infant mortality?\n",
    "    2. How are provinces that are predominantly Catholic different from non-Catholic provinces, if at all?\n",
    "    3. What factors in the data are the most important for predicting fertility?"
   ]
  },
  {
   "cell_type": "code",
   "execution_count": null,
   "metadata": {
    "collapsed": true
   },
   "outputs": [],
   "source": []
  },
  {
   "cell_type": "markdown",
   "metadata": {},
   "source": [
    "- Examine a data set of your choice. Formulate simple questions about the data and hypothesize the answers to those questions. Demonstrate the correctness of incorrectness of each hypothesis. Explain your conclusions."
   ]
  },
  {
   "cell_type": "code",
   "execution_count": null,
   "metadata": {
    "collapsed": true
   },
   "outputs": [],
   "source": []
  }
 ],
 "metadata": {
  "kernelspec": {
   "display_name": "Python 3",
   "language": "python",
   "name": "python3"
  },
  "language_info": {
   "codemirror_mode": {
    "name": "ipython",
    "version": 3
   },
   "file_extension": ".py",
   "mimetype": "text/x-python",
   "name": "python",
   "nbconvert_exporter": "python",
   "pygments_lexer": "ipython3",
   "version": "3.6.1"
  }
 },
 "nbformat": 4,
 "nbformat_minor": 2
}

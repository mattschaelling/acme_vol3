{
 "cells": [
  {
   "cell_type": "markdown",
   "metadata": {},
   "source": [
    "# Volume 3: K-Means Clustering.\n",
    "    Matthew Schaelling\n",
    "    Math 405\n",
    "    March 8, 2018"
   ]
  },
  {
   "cell_type": "code",
   "execution_count": 1,
   "metadata": {
    "collapsed": true
   },
   "outputs": [],
   "source": [
    "from sklearn.base import BaseEstimator, ClusterMixin\n",
    "from sklearn.decomposition import PCA\n",
    "from sklearn.datasets import load_iris\n",
    "import numpy as np\n",
    "from scipy import linalg as la\n",
    "from matplotlib import pyplot as plt\n",
    "from mpl_toolkits.mplot3d import Axes3D       # You might want this for Problem 2.\n",
    "%matplotlib inline"
   ]
  },
  {
   "cell_type": "code",
   "execution_count": 2,
   "metadata": {
    "collapsed": true
   },
   "outputs": [],
   "source": [
    "plt.rcParams[\"figure.dpi\"] = 200"
   ]
  },
  {
   "cell_type": "markdown",
   "metadata": {},
   "source": [
    "## Problem 1\n",
    "\n",
    "Write a `KMeans` class for doing basic $k$-means clustering.\n",
    "Implement the following methods, following `sklearn` class conventions.\n",
    "1. `__init__()`: Accept a number of clusters $k$, a maximum number of iterations, and a convergence tolerance.\n",
    "Store these as attributes.\n",
    "\n",
    "2. `fit()`: Accept an $m \\times n$ matrix $X$ of $m$ data points with $n$ features.\n",
    "Choose $k$ random rows of $X$ as the initial cluster centers.\n",
    "Run the $k$-means iteration until consecutive centers are within the convergence tolerance, or until iterating the maximum number of times.\n",
    "Save the cluster centers as attributes.\n",
    "If a cluster is empty, reassign the cluster center as a random row of $X$.\n",
    "\n",
    "3. `predict()`: Accept an $l \\times n$ matrix $X$ of data.\n",
    "Return an array of $l$ integers where the $i$th entry indicates which cluster center the $i$th row of $X$ is closest to.\n",
    "\n",
    "Test your class on the iris data set (`sklean.datasets.load_iris()`) after reducing the data to two principal components (with `sklearn.decomposition.PCA`).\n",
    "Plot the data, coloring by cluster."
   ]
  },
  {
   "cell_type": "code",
   "execution_count": 3,
   "metadata": {
    "collapsed": true
   },
   "outputs": [],
   "source": [
    "class KMeans(BaseEstimator, ClusterMixin):\n",
    "    \"\"\"Basic k-means clustering class.\"\"\"\n",
    "    def __init__(self, n_clusters=8, max_iter=100, tol=1e-5, normalize=False):\n",
    "        \"\"\"Store clustering algorithm parameters.\n",
    "        \n",
    "        Parameters:\n",
    "            n_clusters (int): How many clusters to compute.\n",
    "            max_iter (int): The maximum number of iterations to compute.\n",
    "            tol (float): The convergence tolerance.\n",
    "        \"\"\"\n",
    "        self.n_clusters = n_clusters\n",
    "        self.max_iter = max_iter\n",
    "        self.tol = tol\n",
    "        self.normalize = normalize        # This is for Problem 2.\n",
    "    \n",
    "    def fit(self, X, y=None):\n",
    "        \"\"\"Compute the cluster centers from random initial conditions.\n",
    "        \n",
    "        Parameters:\n",
    "            X ((n_samples, n_features) ndarray): the data to be clustered.\n",
    "        \"\"\"\n",
    "        centers0 = X[np.random.choice(X.shape[0],self.n_clusters,replace=False)]\n",
    "        centers1 = np.zeros_like(centers0)\n",
    "        distances = np.ones((X.shape[0],self.n_clusters))*-1\n",
    "        cluster_assignments = np.ones(X.shape[0])*-1\n",
    "        for i in range(self.max_iter):\n",
    "            for k in range(self.n_clusters):\n",
    "                distances[:,k] = la.norm(X - centers0[k], ord=2, axis=1)\n",
    "            cluster_assignments = np.argmin(distances, axis=1)\n",
    "            for k in range(self.n_clusters):\n",
    "                if k in np.unique(cluster_assignments):\n",
    "                    centers1[k] = np.mean(X[cluster_assignments==k],axis=0)\n",
    "                else:\n",
    "                    centers1[k] = X[np.random.choice(X.shape[0],1)]\n",
    "                if self.normalize:\n",
    "                    centers1[k] = centers1[k]/la.norm(centers1[k], ord=2)\n",
    "            if np.alltrue(la.norm(centers1 - centers0, ord=2, axis=1) < self.tol):\n",
    "                break\n",
    "            else:\n",
    "                centers0 = centers1\n",
    "        self.centers = centers1\n",
    "        self.cluster_assignments = cluster_assignments\n",
    "        return self\n",
    "    \n",
    "    def predict(self, X):\n",
    "        \"\"\"Classify each entry of X based on which cluster center it belongs to.\n",
    "\n",
    "        Parameters:\n",
    "            X ((n_samples, n_classes) ndarray): the data to be clustered.\n",
    "        \n",
    "        Returns:\n",
    "            ((n_samples) ndarray): Integer labels from 0 to n_clusters for each entry of X.\n",
    "        \"\"\"\n",
    "        distances = np.ones((X.shape[0], self.n_clusters))*-1\n",
    "        for k in range(self.n_clusters):\n",
    "            distances[:,k] = la.norm(X - self.centers[k], ord=2, axis=1)\n",
    "        return np.argmin(distances, axis=1)\n",
    "    \n",
    "    def fit_predict(self, X, y=None):\n",
    "        \"\"\"Fit to the data and return the resulting labels.\n",
    "\n",
    "        Parameters:\n",
    "            X ((n_samples, n_classes) ndarray): the data to be clustered.\n",
    "        \"\"\"\n",
    "        return self.fit(X).predict(X)"
   ]
  },
  {
   "cell_type": "code",
   "execution_count": 4,
   "metadata": {
    "collapsed": false
   },
   "outputs": [
    {
     "data": {
      "image/png": "[encoded data removed]",
      "text/plain": [
       "<matplotlib.figure.Figure at 0x1c1a2994d30>"
      ]
     },
     "metadata": {},
     "output_type": "display_data"
    }
   ],
   "source": [
    "iris = load_iris()\n",
    "kmeans = KMeans(n_clusters=3)\n",
    "X = iris.data\n",
    "pca = PCA(n_components=2)\n",
    "Xnew = pca.fit_transform(X)\n",
    "kmeans.fit(Xnew)\n",
    "colors = {0:'g', \n",
    "          1:'b', \n",
    "          2:'r'}\n",
    "for k in range(3):\n",
    "    plt.scatter(Xnew[kmeans.cluster_assignments == k][:,0], \n",
    "                Xnew[kmeans.cluster_assignments == k][:,1], \n",
    "                c=colors[k])\n",
    "plt.xlabel(\"First Principle Component\")\n",
    "plt.ylabel(\"Second Principle Component\")\n",
    "plt.show()"
   ]
  },
  {
   "cell_type": "markdown",
   "metadata": {},
   "source": [
    "## Problem 2\n",
    "\n",
    "Modify `KMeansfit()` so that if `normalize` is `True`, the cluster centers are normalized at each iteration.\n",
    "\n",
    "Cluster the earthquake data in three dimensions by converting the data from spherical coordinates to euclidean coordinates on the sphere.\n",
    "1. Convert longitude and latitude to radians, then to spherical coordinates.\n",
    "(Hint: `np.deg2rad()` may be helpful.)\n",
    "2. Convert the spherical coordinates to euclidean coordinates in $\\mathbb{R}^3$.\n",
    "3. Use your `KMeans` class with normalization to cluster the euclidean coordinates.\n",
    "4. Translate the cluster center coordinates back to spherical coordinates, then to degrees.\n",
    "5. Plot the data, coloring by cluster.\n",
    "Also mark the cluster centers."
   ]
  },
  {
   "cell_type": "code",
   "execution_count": 6,
   "metadata": {
    "collapsed": false
   },
   "outputs": [
    {
     "data": {
      "image/png": "[encoded data removed]",
      "text/plain": [
       "<matplotlib.figure.Figure at 0x1c1a7434a90>"
      ]
     },
     "metadata": {},
     "output_type": "display_data"
    }
   ],
   "source": [
    "def long_lat_to_euclidean(X):    \n",
    "    X = np.deg2rad(X)\n",
    "    theta = np.pi*X[:,0]/180.\n",
    "    phi = np.pi*(90 - X[:,1])/180.\n",
    "    euclidean = np.zeros((X.shape[0],3))\n",
    "    euclidean[:,0] = np.sin(phi)*np.cos(theta) # x coordinate\n",
    "    euclidean[:,1] = np.sin(phi)*np.sin(phi)   # y coordinate\n",
    "    euclidean[:,2] = np.cos(phi)               # z coordinate\n",
    "    return euclidean\n",
    "\n",
    "def euclidean_to_long_lat(X):\n",
    "    phi = np.arccos(X[:,2])\n",
    "    theta = np.arctan2(X[:,1],X[:,0])\n",
    "    long_lat = np.zeros((X.shape[0],2))\n",
    "    long_lat[:,0] = 180*theta/np.pi\n",
    "    long_lat[:,1] = 90. - (180*phi/np.pi)\n",
    "    return long_lat\n",
    "\n",
    "earthquakes = np.load('earthquake_coordinates.npy')\n",
    "euclidean = long_lat_to_euclidean(earthquakes)\n",
    "kmeans2 = KMeans(n_clusters=15, normalize=True)\n",
    "kmeans2.fit(euclidean)\n",
    "centers = euclidean_to_long_lat(kmeans2.centers)\n",
    "cluster_assignments = kmeans2.cluster_assignments\n",
    "colors = ['b', 'g', 'r', 'c', 'm', 'y', 'w']*3\n",
    "\n",
    "for k in range(15):\n",
    "    if k < 8:\n",
    "        plt.scatter(earthquakes[cluster_assignments == k][:,0], \n",
    "                    earthquakes[cluster_assignments == k][:,1], \n",
    "                    alpha=.8, linewidths=0, c=colors[k], s=4)\n",
    "    else:\n",
    "        plt.scatter(earthquakes[cluster_assignments == k][:,0], \n",
    "                    earthquakes[cluster_assignments == k][:,1], \n",
    "                    alpha=.4, linewidths=0, c=colors[k], s=4)\n",
    "    plt.scatter(centers[k,0], centers[k,1], marker='+', c='k')\n",
    "\n",
    "plt.xlabel(\"Longitude\")\n",
    "plt.ylabel(\"Latitude\")\n",
    "plt.show()"
   ]
  },
  {
   "cell_type": "code",
   "execution_count": null,
   "metadata": {
    "collapsed": false
   },
   "outputs": [],
   "source": []
  },
  {
   "cell_type": "markdown",
   "metadata": {},
   "source": [
    "## Problem 3\n",
    "\n",
    "Write a function that accepts an image array (of shape $(m,n,3)$), an integer number of clusters $k$, and an integer number of samples $S$.\n",
    "Reshape the image so that each row represents a single pixel.\n",
    "Choose $S$ pixels to train a $k$-means model on with $k$ clusters.\n",
    "Make a copy of the original picture where each pixel has the same color as its cluster center.\n",
    "Return the new image.\n",
    "For this problem, you may use `sklearn.cluster.KMeans` instead of your `KMeans` class.\n",
    "\n",
    "Test your function on some of the provided NASA images."
   ]
  },
  {
   "cell_type": "code",
   "execution_count": null,
   "metadata": {
    "collapsed": true
   },
   "outputs": [],
   "source": [
    "def quantize_image(im, n_clusters=4, n_samples=50):\n",
    "    \"\"\"Cluster the pixels of the image 'im' by color.\n",
    "    Return a copy of the image where each pixel is replaced by the value\n",
    "    of its cluster center.\n",
    "    \n",
    "    Parameters:\n",
    "        im ((m,n,3) ndarray): an image array.\n",
    "        n_clusters (int): the number of k-means clusters.\n",
    "        n_samples (int): the number of pixels to train the k-means model on.\n",
    "    \n",
    "    Returns:\n",
    "        ((m,n,3) ndarray): the quantized image.\n",
    "    \"\"\"\n",
    "    raise NotImplementedError(\"Problem 3 Incomplete\")"
   ]
  },
  {
   "cell_type": "code",
   "execution_count": null,
   "metadata": {
    "collapsed": true
   },
   "outputs": [],
   "source": []
  },
  {
   "cell_type": "code",
   "execution_count": null,
   "metadata": {
    "collapsed": true
   },
   "outputs": [],
   "source": []
  }
 ],
 "metadata": {
  "kernelspec": {
   "display_name": "Python 3",
   "language": "python",
   "name": "python3"
  },
  "language_info": {
   "codemirror_mode": {
    "name": "ipython",
    "version": 3
   },
   "file_extension": ".py",
   "mimetype": "text/x-python",
   "name": "python",
   "nbconvert_exporter": "python",
   "pygments_lexer": "ipython3",
   "version": "3.5.1"
  }
 },
 "nbformat": 4,
 "nbformat_minor": 2
}

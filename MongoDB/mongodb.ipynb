{
 "cells": [
  {
   "cell_type": "markdown",
   "metadata": {},
   "source": [
    "# Volume 3: MongoDB.\n",
    "    <Name>\n",
    "    <Class>\n",
    "    <Date>"
   ]
  },
  {
   "cell_type": "code",
   "execution_count": null,
   "metadata": {
    "collapsed": true
   },
   "outputs": [],
   "source": [
    "import re\n",
    "import json\n",
    "from pymongo import MongoClient"
   ]
  },
  {
   "cell_type": "markdown",
   "metadata": {},
   "source": [
    "## Problem 1\n",
    "\n",
    "The file `trump.json` contains posts from http://www.twitter.com (tweets) over the course of an hour that have the key word \"trump\".\n",
    "Each line in the file is a single JSON message that can be loaded with `json.loads()`.\n",
    "\n",
    "Create a MongoDB database and initialize a collection in the database.\n",
    "Use the collection's `delete_many()` method with an empy set as input to clear existing contents of the collection, then fill the collection one line at a time with the data from `trump.json`.\n",
    "Check that your collection has 95,643 entries with its `count()` method."
   ]
  },
  {
   "cell_type": "code",
   "execution_count": null,
   "metadata": {},
   "outputs": [],
   "source": []
  },
  {
   "cell_type": "markdown",
   "metadata": {},
   "source": [
    "## Problem 2\n",
    "\n",
    "Query the Twitter collection for the following information.\n",
    "- How many tweets include the word Russia? Use `re.IGNORECASE`.\n",
    "- How many tweets came from one of the main continental US time zones? These are listed as `\"Central Time (US & Canada)\"`, `\"Pacific Time (US & Canada)\"`, `\"Eastern Time (US & Canada)\"`, and `\"Mountain Time (US & Canada)\"`.\n",
    "- How often does each language occur? Construct a dictionary with each language and it’s frequency count."
   ]
  },
  {
   "cell_type": "code",
   "execution_count": null,
   "metadata": {},
   "outputs": [],
   "source": []
  },
  {
   "cell_type": "markdown",
   "metadata": {},
   "source": [
    "## Problem 3\n",
    "\n",
    "Query the Twitter collection from Problem 1 for the following information.\n",
    "- What are the usernames of the 5 most popular (defined as having the most followers) tweeters? Don’t include repeats.\n",
    "- Of the tweets containing at least 5 hashtags, sort the tweets by how early the 5th hashtag appears in the text. What is the earliest spot (character count) it appears?\n",
    "- What are the coordinates of the tweet that came from the northernmost location? Use the latitude and longitude point in `\"coordinates\"`."
   ]
  },
  {
   "cell_type": "code",
   "execution_count": null,
   "metadata": {},
   "outputs": [],
   "source": []
  },
  {
   "cell_type": "markdown",
   "metadata": {},
   "source": [
    "## Problem 4\n",
    "\n",
    "Clean the Twitter collection in the following ways.\n",
    "\n",
    "- Get rid of the `\"retweeted_status\"` field in each tweet.\n",
    "- Update every tweet from someone with at least 1000 followers to include a popular field whose value is True. Report the number of popular tweets.\n",
    "- (OPTIONAL) The geographical coordinates used before in coordinates.coordinates are turned off for most tweets. But many more have a bounding box around the coordinates in the place field. Update every tweet without coordinates that contains a bounding box so that the coordinates contains the average value of the points that form the bounding box. Make the structure of coordinates the same as the others, so it contains coordinates with a longitude, latitude array and a type, the value of which should be ’Point’."
   ]
  },
  {
   "cell_type": "code",
   "execution_count": null,
   "metadata": {},
   "outputs": [],
   "source": []
  }
 ],
 "metadata": {
  "kernelspec": {
   "display_name": "Python 3",
   "language": "python",
   "name": "python3"
  },
  "language_info": {
   "codemirror_mode": {
    "name": "ipython",
    "version": 3
   },
   "file_extension": ".py",
   "mimetype": "text/x-python",
   "name": "python",
   "nbconvert_exporter": "python",
   "pygments_lexer": "ipython3",
   "version": "3.6.1"
  }
 },
 "nbformat": 4,
 "nbformat_minor": 2
}

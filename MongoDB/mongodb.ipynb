{
 "cells": [
  {
   "cell_type": "markdown",
   "metadata": {},
   "source": [
    "# Volume 3: MongoDB.\n",
    "    Matthew Schaelling\n",
    "    Math 403\n",
    "    November 16, 2017"
   ]
  },
  {
   "cell_type": "code",
   "execution_count": 1,
   "metadata": {
    "collapsed": true
   },
   "outputs": [],
   "source": [
    "import re\n",
    "import json\n",
    "from pymongo import MongoClient"
   ]
  },
  {
   "cell_type": "markdown",
   "metadata": {},
   "source": [
    "## Problem 1\n",
    "\n",
    "The file `trump.json` contains posts from http://www.twitter.com (tweets) over the course of an hour that have the key word \"trump\".\n",
    "Each line in the file is a single JSON message that can be loaded with `json.loads()`.\n",
    "\n",
    "Create a MongoDB database and initialize a collection in the database.\n",
    "Use the collection's `delete_many()` method with an empy set as input to clear existing contents of the collection, then fill the collection one line at a time with the data from `trump.json`.\n",
    "Check that your collection has 95,643 entries with its `count()` method."
   ]
  },
  {
   "cell_type": "code",
   "execution_count": 2,
   "metadata": {},
   "outputs": [
    {
     "data": {
      "text/plain": [
       "95643"
      ]
     },
     "execution_count": 2,
     "metadata": {},
     "output_type": "execute_result"
    }
   ],
   "source": [
    "client = MongoClient()\n",
    "db1 = client.db1\n",
    "col1 = db1.collection2\n",
    "col1.delete_many({})\n",
    "\n",
    "with open('trump.json', 'r') as trump:\n",
    "    lines = trump.readlines()\n",
    "    for line in lines:\n",
    "        col1.insert_one(json.loads(line))\n",
    "col1.count()"
   ]
  },
  {
   "cell_type": "markdown",
   "metadata": {},
   "source": [
    "## Problem 2\n",
    "\n",
    "Query the Twitter collection for the following information.\n",
    "- How many tweets include the word Russia? Use `re.IGNORECASE`.\n",
    "- How many tweets came from one of the main continental US time zones? These are listed as `\"Central Time (US & Canada)\"`, `\"Pacific Time (US & Canada)\"`, `\"Eastern Time (US & Canada)\"`, and `\"Mountain Time (US & Canada)\"`.\n",
    "- How often does each language occur? Construct a dictionary with each language and it’s frequency count."
   ]
  },
  {
   "cell_type": "code",
   "execution_count": 3,
   "metadata": {},
   "outputs": [
    {
     "name": "stdout",
     "output_type": "stream",
     "text": [
      "\"Russia\" occurs 5841 times.\n",
      "33939 tweets came from one of the main continental US time zones.\n",
      "en:\t84919\n",
      "es:\t3027\n",
      "fr:\t1235\n",
      "und:\t1653\n",
      "nl:\t212\n",
      "it:\t423\n",
      "pt:\t632\n",
      "de:\t635\n",
      "tl:\t48\n",
      "tr:\t588\n",
      "ru:\t29\n",
      "ro:\t21\n",
      "in:\t121\n",
      "pl:\t108\n",
      "cs:\t13\n",
      "ja:\t17\n",
      "et:\t23\n",
      "no:\t21\n",
      "lt:\t8\n",
      "sl:\t3\n",
      "th:\t3\n",
      "sv:\t55\n",
      "hu:\t6\n",
      "uk:\t3\n",
      "da:\t35\n",
      "eu:\t6\n",
      "ht:\t21\n",
      "el:\t10\n",
      "vi:\t7\n",
      "fi:\t20\n",
      "ar:\t30\n",
      "fa:\t5\n",
      "iw:\t1\n",
      "ko:\t2\n",
      "lv:\t2\n",
      "ur:\t1\n",
      "cy:\t2\n",
      "is:\t1\n",
      "zh:\t1\n"
     ]
    }
   ],
   "source": [
    "russia = col1.find({'text': {'$regex':re.compile('russia', re.IGNORECASE)}})\n",
    "us_timezones = col1.find({'user.time_zone':{'$in': [\"Central Time (US & Canada)\", \"Pacific Time (US & Canada)\", \"Eastern Time (US & Canada)\", \"Mountain Time (US & Canada)\"]}})\n",
    "languages = col1.distinct('lang')\n",
    "lang_freq = dict()\n",
    "for language in languages:\n",
    "    lang_freq[language] = col1.find({'lang':language}).count()\n",
    "\n",
    "print('\"Russia\" occurs {} times.'.format(russia.count()))\n",
    "print(\"{} tweets came from one of the main continental US time zones.\".format(us_timezones.count()))\n",
    "for language in languages:\n",
    "    print(language + ':\\t' + str(lang_freq[language]))"
   ]
  },
  {
   "cell_type": "markdown",
   "metadata": {},
   "source": [
    "## Problem 3\n",
    "\n",
    "Query the Twitter collection from Problem 1 for the following information.\n",
    "- What are the usernames of the 5 most popular (defined as having the most followers) tweeters? Don’t include repeats.\n",
    "- Of the tweets containing at least 5 hashtags, sort the tweets by how early the 5th hashtag appears in the text. What is the earliest spot (character count) it appears?\n",
    "- What are the coordinates of the tweet that came from the northernmost location? Use the latitude and longitude point in `\"coordinates\"`."
   ]
  },
  {
   "cell_type": "code",
   "execution_count": 4,
   "metadata": {},
   "outputs": [
    {
     "name": "stdout",
     "output_type": "stream",
     "text": [
      "['CNN', 'Reuters', 'FoxNews', 'WSJ', 'TIME']\n"
     ]
    }
   ],
   "source": [
    "# Find most popular usernames\n",
    "sorted_users = col1.find({}).sort('user.followers_count', -1)\n",
    "popular_users = []\n",
    "i = 0\n",
    "while len(popular_users) < 5:\n",
    "    if sorted_users[i]['user']['screen_name'] not in popular_users:\n",
    "        popular_users.append(sorted_users[i]['user']['screen_name'])\n",
    "    i += 1 \n",
    "print(popular_users)"
   ]
  },
  {
   "cell_type": "code",
   "execution_count": 5,
   "metadata": {
    "scrolled": false
   },
   "outputs": [
    {
     "name": "stdout",
     "output_type": "stream",
     "text": [
      "The earliest character account it appears at is: 24\n"
     ]
    }
   ],
   "source": [
    "# Find tweets with 5 hashtags\n",
    "five_hashtags = col1.find({'entities.hashtags.4': {'$exists': True}})\n",
    "five_hashtags = five_hashtags.sort('entities.hashtags.4.indices.0')\n",
    "print(\"The earliest character account it appears at is: {}\".format(\n",
    "    five_hashtags[0]['entities']['hashtags'][4]['indices'][0]+1))"
   ]
  },
  {
   "cell_type": "code",
   "execution_count": 6,
   "metadata": {},
   "outputs": [
    {
     "name": "stdout",
     "output_type": "stream",
     "text": [
      "The coordinates of the furthest north one is: [19.4544773, 51.7765107]\n"
     ]
    }
   ],
   "source": [
    "# \n",
    "sorted_coordinates = col1.find({'coordinates.coordinates':\n",
    "                                {'$exists':\n",
    "                                 True}}).sort('coordinates.coordinates.1', -1)\n",
    "print(\"The coordinates of the furthest north one is: {}\".format(\n",
    "    sorted_coordinates[0]['coordinates']['coordinates']))"
   ]
  },
  {
   "cell_type": "markdown",
   "metadata": {},
   "source": [
    "## Problem 4\n",
    "\n",
    "Clean the Twitter collection in the following ways.\n",
    "\n",
    "- Get rid of the `\"retweeted_status\"` field in each tweet.\n",
    "- Update every tweet from someone with at least 1000 followers to include a popular field whose value is True. Report the number of popular tweets.\n",
    "- (OPTIONAL) The geographical coordinates used before in coordinates.coordinates are turned off for most tweets. But many more have a bounding box around the coordinates in the place field. Update every tweet without coordinates that contains a bounding box so that the coordinates contains the average value of the points that form the bounding box. Make the structure of coordinates the same as the others, so it contains coordinates with a longitude, latitude array and a type, the value of which should be ’Point’."
   ]
  },
  {
   "cell_type": "code",
   "execution_count": 7,
   "metadata": {},
   "outputs": [
    {
     "name": "stdout",
     "output_type": "stream",
     "text": [
      "Number of Tweets with 'retweeted_status': 0\n",
      "Number of Popular Tweets: 32489\n"
     ]
    }
   ],
   "source": [
    "col1.update_many({},{\"$unset\": {'retweeted_status': ''}})\n",
    "print(\"Number of Tweets with 'retweeted_status': {}\".format(col1.find({'retweeted_status':{'$exists':True}}).count()))\n",
    "\n",
    "col1.update_many({'user.followers_count': {'$gte': 1000, '$exists': True}}, \n",
    "                 {'$set': {'popular': True}})\n",
    "print(\"Number of Popular Tweets: {}\".format(col1.find({'popular': {\"$exists\":True}}).count()))"
   ]
  },
  {
   "cell_type": "code",
   "execution_count": null,
   "metadata": {
    "collapsed": true
   },
   "outputs": [],
   "source": []
  }
 ],
 "metadata": {
  "kernelspec": {
   "display_name": "Python 3",
   "language": "python",
   "name": "python3"
  },
  "language_info": {
   "codemirror_mode": {
    "name": "ipython",
    "version": 3
   },
   "file_extension": ".py",
   "mimetype": "text/x-python",
   "name": "python",
   "nbconvert_exporter": "python",
   "pygments_lexer": "ipython3",
   "version": "3.6.1"
  }
 },
 "nbformat": 4,
 "nbformat_minor": 2
}

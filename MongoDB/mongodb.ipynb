{
 "cells": [
  {
   "cell_type": "markdown",
   "metadata": {},
   "source": [
    "# Volume 3: MongoDB.\n",
    "    Matthew Schaelling\n",
    "    Math 403\n",
    "    November 16, 2017"
   ]
  },
  {
   "cell_type": "code",
   "execution_count": 1,
   "metadata": {
    "collapsed": true
   },
   "outputs": [],
   "source": [
    "import re\n",
    "import json\n",
    "from pymongo import MongoClient"
   ]
  },
  {
   "cell_type": "markdown",
   "metadata": {},
   "source": [
    "## Problem 1\n",
    "\n",
    "The file `trump.json` contains posts from http://www.twitter.com (tweets) over the course of an hour that have the key word \"trump\".\n",
    "Each line in the file is a single JSON message that can be loaded with `json.loads()`.\n",
    "\n",
    "Create a MongoDB database and initialize a collection in the database.\n",
    "Use the collection's `delete_many()` method with an empy set as input to clear existing contents of the collection, then fill the collection one line at a time with the data from `trump.json`.\n",
    "Check that your collection has 95,643 entries with its `count()` method."
   ]
  },
  {
   "cell_type": "code",
   "execution_count": 3,
   "metadata": {},
   "outputs": [
    {
     "data": {
      "text/plain": [
       "95643"
      ]
     },
     "execution_count": 3,
     "metadata": {},
     "output_type": "execute_result"
    }
   ],
   "source": [
    "client = MongoClient()\n",
    "db1 = client.db1\n",
    "col1 = db1.collection2\n",
    "col1.delete_many({})\n",
    "\n",
    "with open('trump.json', 'r') as trump:\n",
    "    lines = trump.readlines()\n",
    "    for line in lines:\n",
    "        col1.insert_one(json.loads(line))\n",
    "col1.count()"
   ]
  },
  {
   "cell_type": "markdown",
   "metadata": {},
   "source": [
    "## Problem 2\n",
    "\n",
    "Query the Twitter collection for the following information.\n",
    "- How many tweets include the word Russia? Use `re.IGNORECASE`.\n",
    "- How many tweets came from one of the main continental US time zones? These are listed as `\"Central Time (US & Canada)\"`, `\"Pacific Time (US & Canada)\"`, `\"Eastern Time (US & Canada)\"`, and `\"Mountain Time (US & Canada)\"`.\n",
    "- How often does each language occur? Construct a dictionary with each language and it’s frequency count."
   ]
  },
  {
   "cell_type": "code",
   "execution_count": 16,
   "metadata": {},
   "outputs": [
    {
     "name": "stdout",
     "output_type": "stream",
     "text": [
      "\"Russia\" occurs 5841 times.\n",
      "33939 tweets came from one of the main continental US time zones.\n",
      "en:\t84919\n",
      "fr:\t1235\n",
      "es:\t3027\n",
      "tr:\t588\n",
      "nl:\t212\n",
      "pt:\t632\n",
      "und:\t1653\n",
      "it:\t423\n",
      "de:\t635\n",
      "da:\t35\n",
      "zh:\t1\n",
      "ru:\t29\n",
      "pl:\t108\n",
      "no:\t21\n",
      "eu:\t6\n",
      "tl:\t48\n",
      "in:\t121\n",
      "cs:\t13\n",
      "ht:\t21\n",
      "ro:\t21\n",
      "sl:\t3\n",
      "sv:\t55\n",
      "fi:\t20\n",
      "ar:\t30\n",
      "et:\t23\n",
      "lt:\t8\n",
      "hu:\t6\n",
      "el:\t10\n",
      "ja:\t17\n",
      "lv:\t2\n",
      "vi:\t7\n",
      "fa:\t5\n",
      "ko:\t2\n",
      "ur:\t1\n",
      "cy:\t2\n",
      "th:\t3\n",
      "is:\t1\n",
      "iw:\t1\n",
      "uk:\t3\n"
     ]
    }
   ],
   "source": [
    "russia = col1.find({'text': {'$regex':re.compile('russia', re.IGNORECASE)}})\n",
    "us_timezones = col1.find({'user.time_zone':{'$in': [\"Central Time (US & Canada)\", \"Pacific Time (US & Canada)\", \"Eastern Time (US & Canada)\", \"Mountain Time (US & Canada)\"]}})\n",
    "languages = col1.distinct('lang')\n",
    "lang_freq = dict()\n",
    "for language in languages:\n",
    "    lang_freq[language] = col1.find({'lang':language}).count()\n",
    "\n",
    "print('\"Russia\" occurs {} times.'.format(russia.count()))\n",
    "print(\"{} tweets came from one of the main continental US time zones.\".format(us_timezones.count()))\n",
    "for language in languages:\n",
    "    print(language + ':\\t' + str(lang_freq[language]))"
   ]
  },
  {
   "cell_type": "markdown",
   "metadata": {},
   "source": [
    "## Problem 3\n",
    "\n",
    "Query the Twitter collection from Problem 1 for the following information.\n",
    "- What are the usernames of the 5 most popular (defined as having the most followers) tweeters? Don’t include repeats.\n",
    "- Of the tweets containing at least 5 hashtags, sort the tweets by how early the 5th hashtag appears in the text. What is the earliest spot (character count) it appears?\n",
    "- What are the coordinates of the tweet that came from the northernmost location? Use the latitude and longitude point in `\"coordinates\"`."
   ]
  },
  {
   "cell_type": "code",
   "execution_count": 21,
   "metadata": {},
   "outputs": [
    {
     "name": "stdout",
     "output_type": "stream",
     "text": [
      "['kwame70', 'anthonyniz_niz', 'John52DeereGuy', 'JimJinksCT', 'justplainjena']\n"
     ]
    }
   ],
   "source": [
    "# Find most popular usernames\n",
    "sorted_users = col1.find({}).sort('user.follower_count', -1)\n",
    "popular_users = []\n",
    "i = 0\n",
    "while len(popular_users) < 5:\n",
    "    if sorted_users[i]['user']['screen_name'] not in popular_users:\n",
    "        popular_users.append(sorted_users[i]['user']['screen_name'])\n",
    "    i += 1 \n",
    "print(popular_users)"
   ]
  },
  {
   "cell_type": "code",
   "execution_count": null,
   "metadata": {
    "collapsed": true
   },
   "outputs": [],
   "source": []
  },
  {
   "cell_type": "code",
   "execution_count": null,
   "metadata": {
    "collapsed": true
   },
   "outputs": [],
   "source": [
    "# "
   ]
  },
  {
   "cell_type": "markdown",
   "metadata": {},
   "source": [
    "## Problem 4\n",
    "\n",
    "Clean the Twitter collection in the following ways.\n",
    "\n",
    "- Get rid of the `\"retweeted_status\"` field in each tweet.\n",
    "- Update every tweet from someone with at least 1000 followers to include a popular field whose value is True. Report the number of popular tweets.\n",
    "- (OPTIONAL) The geographical coordinates used before in coordinates.coordinates are turned off for most tweets. But many more have a bounding box around the coordinates in the place field. Update every tweet without coordinates that contains a bounding box so that the coordinates contains the average value of the points that form the bounding box. Make the structure of coordinates the same as the others, so it contains coordinates with a longitude, latitude array and a type, the value of which should be ’Point’."
   ]
  },
  {
   "cell_type": "code",
   "execution_count": 17,
   "metadata": {
    "scrolled": false
   },
   "outputs": [
    {
     "data": {
      "text/plain": [
       "{'_id': ObjectId('5a0dfb2ef7c7040d7b397333'),\n",
       " 'contributors': None,\n",
       " 'coordinates': None,\n",
       " 'created_at': 'Fri May 26 19:18:30 +0000 2017',\n",
       " 'entities': {'hashtags': [],\n",
       "  'symbols': [],\n",
       "  'urls': [{'expanded_url': None, 'indices': [139, 139], 'url': ''}],\n",
       "  'user_mentions': [{'id': 1058520120,\n",
       "    'id_str': '1058520120',\n",
       "    'indices': [3, 16],\n",
       "    'name': 'Tammy Duckworth',\n",
       "    'screen_name': 'SenDuckworth'}]},\n",
       " 'favorite_count': 0,\n",
       " 'favorited': False,\n",
       " 'filter_level': 'low',\n",
       " 'geo': None,\n",
       " 'id': 868184589281501185,\n",
       " 'id_str': '868184589281501185',\n",
       " 'in_reply_to_screen_name': None,\n",
       " 'in_reply_to_status_id': None,\n",
       " 'in_reply_to_status_id_str': None,\n",
       " 'in_reply_to_user_id': None,\n",
       " 'in_reply_to_user_id_str': None,\n",
       " 'is_quote_status': False,\n",
       " 'lang': 'en',\n",
       " 'place': None,\n",
       " 'retweet_count': 0,\n",
       " 'retweeted': False,\n",
       " 'retweeted_status': {'contributors': None,\n",
       "  'coordinates': None,\n",
       "  'created_at': 'Fri May 26 18:54:09 +0000 2017',\n",
       "  'display_text_range': [0, 140],\n",
       "  'entities': {'hashtags': [],\n",
       "   'symbols': [],\n",
       "   'urls': [{'display_url': 'twitter.com/i/web/status/8…',\n",
       "     'expanded_url': 'https://twitter.com/i/web/status/868178460665159681',\n",
       "     'indices': [121, 144],\n",
       "     'url': 'https://t.co/9b6h1CwoQK'}],\n",
       "   'user_mentions': []},\n",
       "  'extended_tweet': {'display_text_range': [0, 144],\n",
       "   'entities': {'hashtags': [],\n",
       "    'media': [{'display_url': 'pic.twitter.com/tEYlJP1aZ9',\n",
       "      'expanded_url': 'https://twitter.com/SenDuckworth/status/868178460665159681/video/1',\n",
       "      'id': 868178123048845313,\n",
       "      'id_str': '868178123048845313',\n",
       "      'indices': [145, 168],\n",
       "      'media_url': 'http://pbs.twimg.com/ext_tw_video_thumb/868178123048845313/pu/img/WkWhCVeDEIwYCIYL.jpg',\n",
       "      'media_url_https': 'https://pbs.twimg.com/ext_tw_video_thumb/868178123048845313/pu/img/WkWhCVeDEIwYCIYL.jpg',\n",
       "      'sizes': {'large': {'h': 576, 'resize': 'fit', 'w': 1024},\n",
       "       'medium': {'h': 338, 'resize': 'fit', 'w': 600},\n",
       "       'small': {'h': 191, 'resize': 'fit', 'w': 340},\n",
       "       'thumb': {'h': 150, 'resize': 'crop', 'w': 150}},\n",
       "      'type': 'video',\n",
       "      'url': 'https://t.co/tEYlJP1aZ9',\n",
       "      'video_info': {'aspect_ratio': [16, 9],\n",
       "       'duration_millis': 101034,\n",
       "       'variants': [{'bitrate': 832000,\n",
       "         'content_type': 'video/mp4',\n",
       "         'url': 'https://video.twimg.com/ext_tw_video/868178123048845313/pu/vid/640x360/mr8hOryYXCcSw32l.mp4'},\n",
       "        {'bitrate': 2176000,\n",
       "         'content_type': 'video/mp4',\n",
       "         'url': 'https://video.twimg.com/ext_tw_video/868178123048845313/pu/vid/1280x720/W4b7G6iPdixzT6UM.mp4'},\n",
       "        {'bitrate': 320000,\n",
       "         'content_type': 'video/mp4',\n",
       "         'url': 'https://video.twimg.com/ext_tw_video/868178123048845313/pu/vid/320x180/wA8x6-mnZDCM955u.mp4'},\n",
       "        {'content_type': 'application/x-mpegURL',\n",
       "         'url': 'https://video.twimg.com/ext_tw_video/868178123048845313/pu/pl/ToyoUdF3IT1BFfmS.m3u8'}]}}],\n",
       "    'symbols': [],\n",
       "    'urls': [],\n",
       "    'user_mentions': []},\n",
       "   'extended_entities': {'media': [{'display_url': 'pic.twitter.com/tEYlJP1aZ9',\n",
       "      'expanded_url': 'https://twitter.com/SenDuckworth/status/868178460665159681/video/1',\n",
       "      'id': 868178123048845313,\n",
       "      'id_str': '868178123048845313',\n",
       "      'indices': [145, 168],\n",
       "      'media_url': 'http://pbs.twimg.com/ext_tw_video_thumb/868178123048845313/pu/img/WkWhCVeDEIwYCIYL.jpg',\n",
       "      'media_url_https': 'https://pbs.twimg.com/ext_tw_video_thumb/868178123048845313/pu/img/WkWhCVeDEIwYCIYL.jpg',\n",
       "      'sizes': {'large': {'h': 576, 'resize': 'fit', 'w': 1024},\n",
       "       'medium': {'h': 338, 'resize': 'fit', 'w': 600},\n",
       "       'small': {'h': 191, 'resize': 'fit', 'w': 340},\n",
       "       'thumb': {'h': 150, 'resize': 'crop', 'w': 150}},\n",
       "      'type': 'video',\n",
       "      'url': 'https://t.co/tEYlJP1aZ9',\n",
       "      'video_info': {'aspect_ratio': [16, 9],\n",
       "       'duration_millis': 101034,\n",
       "       'variants': [{'bitrate': 832000,\n",
       "         'content_type': 'video/mp4',\n",
       "         'url': 'https://video.twimg.com/ext_tw_video/868178123048845313/pu/vid/640x360/mr8hOryYXCcSw32l.mp4'},\n",
       "        {'bitrate': 2176000,\n",
       "         'content_type': 'video/mp4',\n",
       "         'url': 'https://video.twimg.com/ext_tw_video/868178123048845313/pu/vid/1280x720/W4b7G6iPdixzT6UM.mp4'},\n",
       "        {'bitrate': 320000,\n",
       "         'content_type': 'video/mp4',\n",
       "         'url': 'https://video.twimg.com/ext_tw_video/868178123048845313/pu/vid/320x180/wA8x6-mnZDCM955u.mp4'},\n",
       "        {'content_type': 'application/x-mpegURL',\n",
       "         'url': 'https://video.twimg.com/ext_tw_video/868178123048845313/pu/pl/ToyoUdF3IT1BFfmS.m3u8'}]}}]},\n",
       "   'full_text': \"Pres Trump's reckless decision to allow Russian state media into his WH meeting w/Russian FM&amp;Amb gave them the chance to bug the Oval Office https://t.co/tEYlJP1aZ9\"},\n",
       "  'favorite_count': 110,\n",
       "  'favorited': False,\n",
       "  'filter_level': 'low',\n",
       "  'geo': None,\n",
       "  'id': 868178460665159681,\n",
       "  'id_str': '868178460665159681',\n",
       "  'in_reply_to_screen_name': None,\n",
       "  'in_reply_to_status_id': None,\n",
       "  'in_reply_to_status_id_str': None,\n",
       "  'in_reply_to_user_id': None,\n",
       "  'in_reply_to_user_id_str': None,\n",
       "  'is_quote_status': False,\n",
       "  'lang': 'en',\n",
       "  'place': None,\n",
       "  'possibly_sensitive': False,\n",
       "  'retweet_count': 53,\n",
       "  'retweeted': False,\n",
       "  'source': '<a href=\"http://twitter.com\" rel=\"nofollow\">Twitter Web Client</a>',\n",
       "  'text': \"Pres Trump's reckless decision to allow Russian state media into his WH meeting w/Russian FM&amp;Amb gave them the chan… https://t.co/9b6h1CwoQK\",\n",
       "  'truncated': True,\n",
       "  'user': {'contributors_enabled': False,\n",
       "   'created_at': 'Thu Jan 03 18:59:33 +0000 2013',\n",
       "   'default_profile': False,\n",
       "   'default_profile_image': False,\n",
       "   'description': \"Official Twitter account for Tammy Duckworth's Senate office. Posts by staff unless signed - TD. For more information, visit\",\n",
       "   'favourites_count': 107,\n",
       "   'follow_request_sent': None,\n",
       "   'followers_count': 67574,\n",
       "   'following': None,\n",
       "   'friends_count': 8289,\n",
       "   'geo_enabled': False,\n",
       "   'id': 1058520120,\n",
       "   'id_str': '1058520120',\n",
       "   'is_translator': False,\n",
       "   'lang': 'en',\n",
       "   'listed_count': 1568,\n",
       "   'location': None,\n",
       "   'name': 'Tammy Duckworth',\n",
       "   'notifications': None,\n",
       "   'profile_background_color': 'C0DEED',\n",
       "   'profile_background_image_url': 'http://pbs.twimg.com/profile_background_images/446026993046257664/-_wxXQDm.png',\n",
       "   'profile_background_image_url_https': 'https://pbs.twimg.com/profile_background_images/446026993046257664/-_wxXQDm.png',\n",
       "   'profile_background_tile': False,\n",
       "   'profile_banner_url': 'https://pbs.twimg.com/profile_banners/1058520120/1490121726',\n",
       "   'profile_image_url': 'http://pbs.twimg.com/profile_images/673882053297971201/qKILnJZ8_normal.jpg',\n",
       "   'profile_image_url_https': 'https://pbs.twimg.com/profile_images/673882053297971201/qKILnJZ8_normal.jpg',\n",
       "   'profile_link_color': '0084B4',\n",
       "   'profile_sidebar_border_color': 'FFFFFF',\n",
       "   'profile_sidebar_fill_color': 'DDEEF6',\n",
       "   'profile_text_color': '333333',\n",
       "   'profile_use_background_image': True,\n",
       "   'protected': False,\n",
       "   'screen_name': 'SenDuckworth',\n",
       "   'statuses_count': 2666,\n",
       "   'time_zone': 'Eastern Time (US & Canada)',\n",
       "   'url': 'http://duckworth.senate.gov',\n",
       "   'utc_offset': -14400,\n",
       "   'verified': True}},\n",
       " 'source': '<a href=\"http://twitter.com/download/iphone\" rel=\"nofollow\">Twitter for iPhone</a>',\n",
       " 'text': \"RT @SenDuckworth: Pres Trump's reckless decision to allow Russian state media into his WH meeting w/Russian FM&amp;Amb gave them the chan… \",\n",
       " 'timestamp_ms': '1495826310831',\n",
       " 'truncated': False,\n",
       " 'user': {'contributors_enabled': False,\n",
       "  'created_at': 'Wed Feb 22 20:17:43 +0000 2017',\n",
       "  'default_profile': True,\n",
       "  'default_profile_image': False,\n",
       "  'description': None,\n",
       "  'favourites_count': 7,\n",
       "  'follow_request_sent': None,\n",
       "  'followers_count': 28,\n",
       "  'following': None,\n",
       "  'friends_count': 71,\n",
       "  'geo_enabled': False,\n",
       "  'id': 834497419899502593,\n",
       "  'id_str': '834497419899502593',\n",
       "  'is_translator': False,\n",
       "  'lang': 'en',\n",
       "  'listed_count': 0,\n",
       "  'location': 'Illinois, USA',\n",
       "  'name': 'Greg',\n",
       "  'notifications': None,\n",
       "  'profile_background_color': 'F5F8FA',\n",
       "  'profile_background_image_url': '',\n",
       "  'profile_background_image_url_https': '',\n",
       "  'profile_background_tile': False,\n",
       "  'profile_image_url': 'http://abs.twimg.com/sticky/default_profile_images/default_profile_normal.png',\n",
       "  'profile_image_url_https': 'https://abs.twimg.com/sticky/default_profile_images/default_profile_normal.png',\n",
       "  'profile_link_color': '1DA1F2',\n",
       "  'profile_sidebar_border_color': 'C0DEED',\n",
       "  'profile_sidebar_fill_color': 'DDEEF6',\n",
       "  'profile_text_color': '333333',\n",
       "  'profile_use_background_image': True,\n",
       "  'protected': False,\n",
       "  'screen_name': 'Greg29841401',\n",
       "  'statuses_count': 3358,\n",
       "  'time_zone': None,\n",
       "  'url': None,\n",
       "  'utc_offset': None,\n",
       "  'verified': False}}"
      ]
     },
     "execution_count": 17,
     "metadata": {},
     "output_type": "execute_result"
    }
   ],
   "source": [
    "russia[0]"
   ]
  },
  {
   "cell_type": "code",
   "execution_count": null,
   "metadata": {
    "collapsed": true
   },
   "outputs": [],
   "source": []
  }
 ],
 "metadata": {
  "kernelspec": {
   "display_name": "Python 3",
   "language": "python",
   "name": "python3"
  },
  "language_info": {
   "codemirror_mode": {
    "name": "ipython",
    "version": 3
   },
   "file_extension": ".py",
   "mimetype": "text/x-python",
   "name": "python",
   "nbconvert_exporter": "python",
   "pygments_lexer": "ipython3",
   "version": "3.6.1"
  }
 },
 "nbformat": 4,
 "nbformat_minor": 2
}

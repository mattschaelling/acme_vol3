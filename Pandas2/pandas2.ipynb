{
 "cells": [
  {
   "cell_type": "markdown",
   "metadata": {},
   "source": [
    "# Volume 3: Pandas 2\n",
    "    Matthew Schaelling\n",
    "    Math 403\n",
    "    October 26, 2017"
   ]
  },
  {
   "cell_type": "code",
   "execution_count": 2,
   "metadata": {},
   "outputs": [
    {
     "name": "stdout",
     "output_type": "stream",
     "text": [
      "initiated datasets repo at: /home/byu.local/mschaell/.pydataset/\n"
     ]
    }
   ],
   "source": [
    "import numpy as np\n",
    "import pandas as pd\n",
    "from matplotlib import pyplot as plt\n",
    "from pydataset import data\n",
    "\n",
    "%matplotlib inline"
   ]
  },
  {
   "cell_type": "markdown",
   "metadata": {},
   "source": [
    "## Problem 1\n",
    "\n",
    "Visualize 5 data sets with 2 or 3 figures each."
   ]
  },
  {
   "cell_type": "code",
   "execution_count": 18,
   "metadata": {},
   "outputs": [
    {
     "name": "stdout",
     "output_type": "stream",
     "text": [
      "road\n",
      "\n",
      "PyDataset Documentation (adopted from R Documentation. The displayed examples are in R)\n",
      "\n",
      "##  Road Accident Deaths in US States\n",
      "\n",
      "### Description\n",
      "\n",
      "A data frame with the annual deaths in road accidents for half the US states.\n",
      "\n",
      "### Usage\n",
      "\n",
      "    road\n",
      "\n",
      "### Format\n",
      "\n",
      "Columns are:\n",
      "\n",
      "`state`\n",
      "\n",
      "name.\n",
      "\n",
      "`deaths`\n",
      "\n",
      "number of deaths.\n",
      "\n",
      "`drivers`\n",
      "\n",
      "number of drivers (in 10,000s).\n",
      "\n",
      "`popden`\n",
      "\n",
      "population density in people per square mile.\n",
      "\n",
      "`rural`\n",
      "\n",
      "length of rural roads, in 1000s of miles.\n",
      "\n",
      "`temp`\n",
      "\n",
      "average daily maximum temperature in January.\n",
      "\n",
      "`fuel`\n",
      "\n",
      "fuel consumption in 10,000,000 US gallons per year.\n",
      "\n",
      "### Source\n",
      "\n",
      "Imperial College, London M.Sc. exercise\n",
      "\n",
      "\n"
     ]
    }
   ],
   "source": [
    "data('road', show_doc=True)\n",
    "road = data('road')"
   ]
  },
  {
   "cell_type": "code",
   "execution_count": 25,
   "metadata": {},
   "outputs": [
    {
     "data": {
      "image/png": "[encoded data removed]",
      "text/plain": [
       "<matplotlib.figure.Figure at 0x7fbe13a7ff28>"
      ]
     },
     "metadata": {},
     "output_type": "display_data"
    }
   ],
   "source": [
    "# plt.figure(figsize = (20,16))\n",
    "pd.plotting.scatter_matrix(road[['deaths','popden','temp']])\n",
    "plt.show()"
   ]
  },
  {
   "cell_type": "code",
   "execution_count": 34,
   "metadata": {},
   "outputs": [
    {
     "data": {
      "text/plain": [
       "<matplotlib.axes._subplots.AxesSubplot at 0x7fbe133e69e8>"
      ]
     },
     "execution_count": 34,
     "metadata": {},
     "output_type": "execute_result"
    },
    {
     "data": {
      "image/png": "[encoded data removed]",
      "text/plain": [
       "<matplotlib.figure.Figure at 0x7fbe140128d0>"
      ]
     },
     "metadata": {},
     "output_type": "display_data"
    }
   ],
   "source": [
    "road[road.index != 'DC'].plot(x = 'popden', y = 'deaths', kind='scatter')"
   ]
  },
  {
   "cell_type": "code",
   "execution_count": 45,
   "metadata": {},
   "outputs": [
    {
     "data": {
      "text/html": [
       "<div>\n",
       "<style>\n",
       "    .dataframe thead tr:only-child th {\n",
       "        text-align: right;\n",
       "    }\n",
       "\n",
       "    .dataframe thead th {\n",
       "        text-align: left;\n",
       "    }\n",
       "\n",
       "    .dataframe tbody tr th {\n",
       "        vertical-align: top;\n",
       "    }\n",
       "</style>\n",
       "<table border=\"1\" class=\"dataframe\">\n",
       "  <thead>\n",
       "    <tr style=\"text-align: right;\">\n",
       "      <th></th>\n",
       "      <th>deaths</th>\n",
       "      <th>drivers</th>\n",
       "      <th>popden</th>\n",
       "      <th>rural</th>\n",
       "      <th>temp</th>\n",
       "      <th>fuel</th>\n",
       "    </tr>\n",
       "  </thead>\n",
       "  <tbody>\n",
       "    <tr>\n",
       "      <th>deaths</th>\n",
       "      <td>1.000000</td>\n",
       "      <td>0.830427</td>\n",
       "      <td>0.269060</td>\n",
       "      <td>0.609885</td>\n",
       "      <td>0.190232</td>\n",
       "      <td>0.814156</td>\n",
       "    </tr>\n",
       "    <tr>\n",
       "      <th>drivers</th>\n",
       "      <td>0.830427</td>\n",
       "      <td>1.000000</td>\n",
       "      <td>0.494701</td>\n",
       "      <td>0.546263</td>\n",
       "      <td>0.130592</td>\n",
       "      <td>0.926996</td>\n",
       "    </tr>\n",
       "    <tr>\n",
       "      <th>popden</th>\n",
       "      <td>0.269060</td>\n",
       "      <td>0.494701</td>\n",
       "      <td>1.000000</td>\n",
       "      <td>-0.210364</td>\n",
       "      <td>0.196059</td>\n",
       "      <td>0.446914</td>\n",
       "    </tr>\n",
       "    <tr>\n",
       "      <th>rural</th>\n",
       "      <td>0.609885</td>\n",
       "      <td>0.546263</td>\n",
       "      <td>-0.210364</td>\n",
       "      <td>1.000000</td>\n",
       "      <td>-0.087106</td>\n",
       "      <td>0.525488</td>\n",
       "    </tr>\n",
       "    <tr>\n",
       "      <th>temp</th>\n",
       "      <td>0.190232</td>\n",
       "      <td>0.130592</td>\n",
       "      <td>0.196059</td>\n",
       "      <td>-0.087106</td>\n",
       "      <td>1.000000</td>\n",
       "      <td>0.071478</td>\n",
       "    </tr>\n",
       "    <tr>\n",
       "      <th>fuel</th>\n",
       "      <td>0.814156</td>\n",
       "      <td>0.926996</td>\n",
       "      <td>0.446914</td>\n",
       "      <td>0.525488</td>\n",
       "      <td>0.071478</td>\n",
       "      <td>1.000000</td>\n",
       "    </tr>\n",
       "  </tbody>\n",
       "</table>\n",
       "</div>"
      ],
      "text/plain": [
       "           deaths   drivers    popden     rural      temp      fuel\n",
       "deaths   1.000000  0.830427  0.269060  0.609885  0.190232  0.814156\n",
       "drivers  0.830427  1.000000  0.494701  0.546263  0.130592  0.926996\n",
       "popden   0.269060  0.494701  1.000000 -0.210364  0.196059  0.446914\n",
       "rural    0.609885  0.546263 -0.210364  1.000000 -0.087106  0.525488\n",
       "temp     0.190232  0.130592  0.196059 -0.087106  1.000000  0.071478\n",
       "fuel     0.814156  0.926996  0.446914  0.525488  0.071478  1.000000"
      ]
     },
     "execution_count": 45,
     "metadata": {},
     "output_type": "execute_result"
    }
   ],
   "source": [
    "road.corr('spearman')"
   ]
  },
  {
   "cell_type": "code",
   "execution_count": 67,
   "metadata": {},
   "outputs": [
    {
     "data": {
      "image/png": "[encoded data removed]",
      "text/plain": [
       "<matplotlib.figure.Figure at 0x7fbe13cf33c8>"
      ]
     },
     "metadata": {},
     "output_type": "display_data"
    }
   ],
   "source": [
    "road.plot(x='drivers', y='deaths', kind='scatter', title=\"Road Accident Deaths in the US\")\n",
    "plt.xlabel(\"Number of Drivers (by State)\")\n",
    "plt.ylabel(\"Number of Deaths (by State)\")\n",
    "plt.text(-10,-2000, \"One observes in this figure a confirmation regarding the intuition \\nthat more drivers on the road is correlated with more deaths.\")\n",
    "plt.show()"
   ]
  },
  {
   "cell_type": "code",
   "execution_count": 59,
   "metadata": {},
   "outputs": [
    {
     "data": {
      "text/plain": [
       "<matplotlib.axes._subplots.AxesSubplot at 0x7fbe13b620b8>"
      ]
     },
     "execution_count": 59,
     "metadata": {},
     "output_type": "execute_result"
    },
    {
     "data": {
      "image/png": "[encoded data removed]",
      "text/plain": [
       "<matplotlib.figure.Figure at 0x7fbe13744f98>"
      ]
     },
     "metadata": {},
     "output_type": "display_data"
    }
   ],
   "source": [
    "road['deaths'].hist(grid=False, bins=9)"
   ]
  },
  {
   "cell_type": "code",
   "execution_count": 58,
   "metadata": {},
   "outputs": [
    {
     "data": {
      "text/plain": [
       "<matplotlib.axes._subplots.AxesSubplot at 0x7fbe137f8e48>"
      ]
     },
     "execution_count": 58,
     "metadata": {},
     "output_type": "execute_result"
    },
    {
     "data": {
      "image/png": "[encoded data removed]",
      "text/plain": [
       "<matplotlib.figure.Figure at 0x7fbe130fb400>"
      ]
     },
     "metadata": {},
     "output_type": "display_data"
    }
   ],
   "source": [
    "road['deaths'].hist(grid=False)"
   ]
  },
  {
   "cell_type": "code",
   "execution_count": null,
   "metadata": {
    "collapsed": true
   },
   "outputs": [],
   "source": []
  }
 ],
 "metadata": {
  "kernelspec": {
   "display_name": "Python 3",
   "language": "python",
   "name": "python3"
  },
  "language_info": {
   "codemirror_mode": {
    "name": "ipython",
    "version": 3
   },
   "file_extension": ".py",
   "mimetype": "text/x-python",
   "name": "python",
   "nbconvert_exporter": "python",
   "pygments_lexer": "ipython3",
   "version": "3.6.1"
  }
 },
 "nbformat": 4,
 "nbformat_minor": 2
}

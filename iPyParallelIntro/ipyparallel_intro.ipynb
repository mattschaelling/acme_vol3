{
 "cells": [
  {
   "cell_type": "markdown",
   "metadata": {},
   "source": [
    "# Parallel Computing 1: iPyParallel\n",
    "    <Name>\n",
    "    <Class>\n",
    "    <Date>"
   ]
  },
  {
   "cell_type": "markdown",
   "metadata": {},
   "source": [
    "## Problem 1\n",
    "Initializes a `Client` object, create a `DirectView` with all available engines, and import `scipy.sparse` as `sparse` on all engines.\n",
    "\n",
    "(This is just to make sure your cluster is running and connected correctly)"
   ]
  },
  {
   "cell_type": "code",
   "execution_count": null,
   "metadata": {
    "collapsed": true
   },
   "outputs": [],
   "source": []
  },
  {
   "cell_type": "markdown",
   "metadata": {},
   "source": [
    "## Problem 2\n",
    "\n",
    "Write a function `variables(dx)` that accepts a dictionary of variables.\n",
    "Distribute the variables to all engines, then pull the variables back."
   ]
  },
  {
   "cell_type": "code",
   "execution_count": null,
   "metadata": {
    "collapsed": true
   },
   "outputs": [],
   "source": [
    "def variables(dx):\n",
    "    pass"
   ]
  },
  {
   "cell_type": "markdown",
   "metadata": {},
   "source": [
    "## Problem 3\n",
    "\n",
    "Write a function that accepts an integer n.\n",
    "Instruct each engine to make n draws from the standard normal distribution, then hand back the minimum, maximum, and mean draw to the client.\n",
    "Print the results."
   ]
  },
  {
   "cell_type": "code",
   "execution_count": null,
   "metadata": {
    "collapsed": true
   },
   "outputs": [],
   "source": [
    "def draw_statistics(n):\n",
    "    pass"
   ]
  },
  {
   "cell_type": "markdown",
   "metadata": {},
   "source": [
    "## Problem 4\n",
    "\n",
    "Use `draw_statistics()` to compare serial and parallel execution times.\n",
    "For $n = 1000000, 5000000, 10000000, 15000000,$\n",
    "1. Time how long it takes to run your function.\n",
    "2. Time how long it takes to do the same process (make n draws and calculate and record the statistics) in a for loop with $N$ iterations, where $N$ is the number of engines running.\n",
    "\n",
    "Plot the execution times against $n$.\n",
    "You should notice an increase in efficiency in the parallel\n",
    "version as the problem size increases."
   ]
  },
  {
   "cell_type": "code",
   "execution_count": null,
   "metadata": {
    "collapsed": true
   },
   "outputs": [],
   "source": []
  },
  {
   "cell_type": "markdown",
   "metadata": {},
   "source": [
    "## Problem 5\n",
    "\n",
    "Write a function that accepts a function handle $f$ to integrate, bounds of integration, and the number of points to use for the approximation.\n",
    "Parallelize the trapezoid rule in order to estimate the integral of $f$ over the given bounds.\n",
    "That is, evenly divide the points among all available processors and run the trapezoid rule on each portion simultaneously.\n",
    "The sum of the results of all the processors will be the estimation of the integral over the entire interval of integration.\n",
    "Return this sum.\n",
    "\n",
    "Demonstrate that your function works."
   ]
  },
  {
   "cell_type": "code",
   "execution_count": null,
   "metadata": {
    "collapsed": true
   },
   "outputs": [],
   "source": [
    "def trapezoid_parallel(f, a, b, N):\n",
    "    pass"
   ]
  }
 ],
 "metadata": {
  "kernelspec": {
   "display_name": "Python 3",
   "language": "python",
   "name": "python3"
  },
  "language_info": {
   "codemirror_mode": {
    "name": "ipython",
    "version": 3
   },
   "file_extension": ".py",
   "mimetype": "text/x-python",
   "name": "python",
   "nbconvert_exporter": "python",
   "pygments_lexer": "ipython3",
   "version": "3.6.1"
  }
 },
 "nbformat": 4,
 "nbformat_minor": 2
}

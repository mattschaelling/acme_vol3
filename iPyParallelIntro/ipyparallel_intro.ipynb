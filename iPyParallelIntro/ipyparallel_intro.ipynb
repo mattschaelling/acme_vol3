{
 "cells": [
  {
   "cell_type": "markdown",
   "metadata": {},
   "source": [
    "# Parallel Computing 1: iPyParallel\n",
    "    Matthew Schaelling\n",
    "    Math 405\n",
    "    January 18, 2018"
   ]
  },
  {
   "cell_type": "code",
   "execution_count": 3,
   "metadata": {
    "collapsed": true
   },
   "outputs": [],
   "source": [
    "import time\n",
    "import numpy as np\n",
    "import matplotlib.pyplot as plt\n",
    "from ipyparallel import Client\n",
    "import ipyparallel as ipp"
   ]
  },
  {
   "cell_type": "markdown",
   "metadata": {},
   "source": [
    "## Problem 1\n",
    "Initializes a `Client` object, create a `DirectView` with all available engines, and import `scipy.sparse` as `sparse` on all engines.\n",
    "\n",
    "(This is just to make sure your cluster is running and connected correctly)"
   ]
  },
  {
   "cell_type": "code",
   "execution_count": 4,
   "metadata": {},
   "outputs": [
    {
     "data": {
      "text/plain": [
       "<AsyncResult: execute>"
      ]
     },
     "execution_count": 4,
     "metadata": {},
     "output_type": "execute_result"
    }
   ],
   "source": [
    "from ipyparallel import Client\n",
    "# make client\n",
    "client = Client()\n",
    "num_engines = len(client.ids) # number of engines\n",
    "dview = client[:]\n",
    "# import scipy.sparse and numpy in all my engines\n",
    "dview.execute('import scipy.sparse as sparse')\n",
    "dview.execute(\"import numpy as np\")"
   ]
  },
  {
   "cell_type": "markdown",
   "metadata": {},
   "source": [
    "## Problem 2\n",
    "\n",
    "Write a function `variables(dx)` that accepts a dictionary of variables.\n",
    "Distribute the variables to all engines, then pull the variables back."
   ]
  },
  {
   "cell_type": "code",
   "execution_count": 5,
   "metadata": {},
   "outputs": [
    {
     "name": "stdout",
     "output_type": "stream",
     "text": [
      "[[10, 5], [10, 5], [10, 5], [10, 5]]\n"
     ]
    }
   ],
   "source": [
    "def variables(dx):\n",
    "    dview.block = True\n",
    "    # send them variables to the engines\n",
    "    dview.push(dx)\n",
    "    return dview.pull(list(dx.keys()))\n",
    "print(variables({'a':10, 'b':5}))"
   ]
  },
  {
   "cell_type": "markdown",
   "metadata": {},
   "source": [
    "Thus each engine's variables are correct."
   ]
  },
  {
   "cell_type": "markdown",
   "metadata": {},
   "source": [
    "## Problem 3\n",
    "\n",
    "Write a function that accepts an integer n.\n",
    "Instruct each engine to make n draws from the standard normal distribution, then hand back the minimum, maximum, and mean draw to the client.\n",
    "Print the results."
   ]
  },
  {
   "cell_type": "code",
   "execution_count": 12,
   "metadata": {},
   "outputs": [
    {
     "name": "stdout",
     "output_type": "stream",
     "text": [
      "means = [-0.0077289346907861503, -0.00038192403238273583, -0.0026275776505726208, -0.011259253957060728]\n",
      "maxs  = [3.8536869786969081, 3.5667834990636056, 3.8307643123616084, 4.1538970860890734]\n",
      "mins  = [-3.9690766700698212, -4.1341653939397762, -3.753517470234073, -3.5123954561059398]\n"
     ]
    }
   ],
   "source": [
    "def draw_statistics(n):\n",
    "    # draw n samples from a standard normal\n",
    "    dview.execute(\"samples = np.random.randn({})\".format(n))\n",
    "    # calculate the mean\n",
    "    dview.execute(\"means = samples.mean()\")\n",
    "    # calculate the max\n",
    "    dview.execute(\"maxs = samples.max()\")\n",
    "    # calculate the min\n",
    "    dview.execute(\"mins = samples.min()\")\n",
    "    # return the things I previously calculated\n",
    "    return [dview['means'], dview['maxs'], dview['mins']]\n",
    "\n",
    "# do this for 10,000 observations then print them pretty\n",
    "normal_stats = draw_statistics(10000)\n",
    "print(\"means = {0}\\nmaxs  = {1}\\nmins  = {2}\".format(normal_stats[0], \n",
    "                                                   normal_stats[1], \n",
    "                                                   normal_stats[2]))"
   ]
  },
  {
   "cell_type": "markdown",
   "metadata": {},
   "source": [
    "## Problem 4\n",
    "\n",
    "Use `draw_statistics()` to compare serial and parallel execution times.\n",
    "For $n = 1000000, 5000000, 10000000, 15000000,$\n",
    "1. Time how long it takes to run your function.\n",
    "2. Time how long it takes to do the same process (make n draws and calculate and record the statistics) in a for loop with $N$ iterations, where $N$ is the number of engines running.\n",
    "\n",
    "Plot the execution times against $n$.\n",
    "You should notice an increase in efficiency in the parallel\n",
    "version as the problem size increases."
   ]
  },
  {
   "cell_type": "code",
   "execution_count": 7,
   "metadata": {},
   "outputs": [
    {
     "data": {
      "image/png": "[encoded data removed]",
      "text/plain": [
       "<matplotlib.figure.Figure at 0x7f8807ca1a90>"
      ]
     },
     "metadata": {},
     "output_type": "display_data"
    }
   ],
   "source": [
    "parallel_times = []\n",
    "serial_times = []\n",
    "N = [1000000,5000000,10000000,15000000]\n",
    "for n in N:\n",
    "    # time how long it takes to do it while parallelizing\n",
    "    start = time.time()\n",
    "    draw_statistics(n)\n",
    "    parallel_times.append(time.time() - start)\n",
    "    \n",
    "    # time how long it takes to do it as a noob\n",
    "    start = time.time()\n",
    "    for i in range(num_engines):\n",
    "        samples = np.random.randn(n)\n",
    "        means = samples.mean()\n",
    "        maxs = samples.max()\n",
    "        mins = samples.min()\n",
    "    serial_times.append(time.time() - start)\n",
    "    \n",
    "# plot everything\n",
    "plt.plot(N, parallel_times, label = 'Parallel Times')\n",
    "plt.plot(N, serial_times, label = 'Serial Times')\n",
    "plt.title(\"Run Time for Parallel vs. Serial Statistical Computing\")\n",
    "plt.ylabel('Time')\n",
    "plt.xlabel('Number of Draws')\n",
    "plt.legend()\n",
    "plt.show()"
   ]
  },
  {
   "cell_type": "markdown",
   "metadata": {},
   "source": [
    "## Problem 5\n",
    "\n",
    "Write a function that accepts a function handle $f$ to integrate, bounds of integration, and the number of points to use for the approximation.\n",
    "Parallelize the trapezoid rule in order to estimate the integral of $f$ over the given bounds.\n",
    "That is, evenly divide the points among all available processors and run the trapezoid rule on each portion simultaneously.\n",
    "The sum of the results of all the processors will be the estimation of the integral over the entire interval of integration.\n",
    "Return this sum.\n",
    "\n",
    "Demonstrate that your function works."
   ]
  },
  {
   "cell_type": "code",
   "execution_count": 10,
   "metadata": {
    "collapsed": true
   },
   "outputs": [],
   "source": [
    "def trapezoid_parallel(f, a, b, N):\n",
    "    # create the domain and split it up between engines\n",
    "    x = np.linspace(a,b,N)\n",
    "    h = x[1] - x[0]\n",
    "    # we leave off the last part of the domain because \n",
    "    # we add it back on in each engine so we don't lose\n",
    "    # the space between the separated lists\n",
    "    dview.scatter(\"domain\", x[:-1])\n",
    "    dview.push({'h':h})\n",
    "    dview.execute('domain = np.append(domain, domain[-1] + h)')\n",
    "    \n",
    "    # make function to send to each engine that will\n",
    "    # take the part of the domain in each engine and \n",
    "    # estimate the area using the trapezoid rule\n",
    "    def calc_trapezoid(domain):\n",
    "        # evaluate the function across the domain\n",
    "        F = np.apply_along_axis(f,0,domain) \n",
    "        # multiply every piece by 2 except the first and last\n",
    "        # then sum over the values and multiply by h/2\n",
    "        vect = np.ones_like(domain)\n",
    "        vect[1:-1] = 2\n",
    "        return h*.5*np.dot(F,vect)\n",
    "    \n",
    "    # sum up the results from each of the engines and return\n",
    "    return np.sum(dview.apply(calc_trapezoid, \n",
    "                              ipp.Reference('domain')))"
   ]
  },
  {
   "cell_type": "code",
   "execution_count": 11,
   "metadata": {},
   "outputs": [
    {
     "data": {
      "text/plain": [
       "7.4143269532669249"
      ]
     },
     "execution_count": 11,
     "metadata": {},
     "output_type": "execute_result"
    }
   ],
   "source": [
    "func = lambda x: 3 * x**2 * np.exp(-x)\n",
    "trapezoid_parallel(func, -1, 5, 100)"
   ]
  },
  {
   "cell_type": "markdown",
   "metadata": {},
   "source": [
    "Wolfram Alpha's estimate is 7.4069, so I'm not too far off."
   ]
  }
 ],
 "metadata": {
  "kernelspec": {
   "display_name": "Python 3",
   "language": "python",
   "name": "python3"
  },
  "language_info": {
   "codemirror_mode": {
    "name": "ipython",
    "version": 3
   },
   "file_extension": ".py",
   "mimetype": "text/x-python",
   "name": "python",
   "nbconvert_exporter": "python",
   "pygments_lexer": "ipython3",
   "version": "3.6.1"
  }
 },
 "nbformat": 4,
 "nbformat_minor": 2
}
